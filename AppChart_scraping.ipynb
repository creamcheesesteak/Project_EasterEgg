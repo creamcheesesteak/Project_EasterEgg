{
 "cells": [
  {
   "cell_type": "code",
   "execution_count": 1,
   "id": "d5cdaa12",
   "metadata": {},
   "outputs": [],
   "source": [
    "from selenium import webdriver\n",
    "from bs4 import BeautifulSoup\n",
    "browser= webdriver.Chrome('C:\\chromedriver.exe')\n",
    "browser.get('https://www.appannie.com/intelligence/top-apps/store-rank/ios?date=%272021-07-19%27&country_code=KR&device_code=ios-phone&category_id=100000&store_rank_ios_chart_free$previous_range$chart_compare_facets=!(store_product_rank_grossing__aggr)&store-rank.ios.view=free&store_rank.ios.chart_range=7')"
   ]
  },
  {
   "cell_type": "code",
   "execution_count": 2,
   "id": "7cbddad8",
   "metadata": {},
   "outputs": [],
   "source": [
    "html= browser.page_source\n",
    "soup= BeautifulSoup(html, 'html.parser')"
   ]
  },
  {
   "cell_type": "code",
   "execution_count": 3,
   "id": "b6fe3075",
   "metadata": {},
   "outputs": [
    {
     "data": {
      "text/plain": [
       "(15, bs4.element.ResultSet)"
      ]
     },
     "execution_count": 3,
     "metadata": {},
     "output_type": "execute_result"
    }
   ],
   "source": [
    "# 차트 하나의 행(1위, 2위,,)\n",
    "tags= soup.select('div[aria-colcount=\"6\"] > div > div > div[aria-rowindex]')\n",
    "len(tags), type(tags)"
   ]
  },
  {
   "cell_type": "code",
   "execution_count": 4,
   "id": "aaaf047c",
   "metadata": {},
   "outputs": [
    {
     "data": {
      "text/plain": [
       "bs4.element.Tag"
      ]
     },
     "execution_count": 4,
     "metadata": {},
     "output_type": "execute_result"
    }
   ],
   "source": [
    "tag= tags[0]\n",
    "type(tag)"
   ]
  },
  {
   "cell_type": "code",
   "execution_count": 6,
   "id": "850ac4e8",
   "metadata": {},
   "outputs": [
    {
     "data": {
      "text/plain": [
       "(1,\n",
       " bs4.element.ResultSet,\n",
       " <div class=\"flexview__FlexView-sc-15q74yn-0 Medium__NameWrapper-sc-3k5yvt-1 iBMyaF FlexView\"><a class=\"Link__FakeLink-mz1pwu-0 bAvyHR\" href=\"/apps/ios/app/1561923765/details?granularity=daily&amp;country_code=KR&amp;country=KR&amp;date=2021-07-19~2021-07-19\" title=\"질병관리청 COOV(코로나19 전자예방접종증명서)\"><div class=\"Text-wvugs1-0 jsWCXI\">질병관리청 COOV(코로나19 전자예방접종증명서)</div></a><div class=\"flexview__FlexView-sc-15q74yn-0 bZBacm FlexView\"></div></div>)"
      ]
     },
     "execution_count": 6,
     "metadata": {},
     "output_type": "execute_result"
    }
   ],
   "source": [
    "# 앱 이름\n",
    "title= tag.select('div[class=\"flexview__FlexView-sc-15q74yn-0 Medium__NameWrapper-sc-3k5yvt-1 iBMyaF FlexView\"]')\n",
    "len(title), type(title), title[0]"
   ]
  },
  {
   "cell_type": "code",
   "execution_count": 7,
   "id": "8c61b4c7",
   "metadata": {},
   "outputs": [
    {
     "data": {
      "text/plain": [
       "'질병관리청 COOV(코로나19 전자예방접종증명서)'"
      ]
     },
     "execution_count": 7,
     "metadata": {},
     "output_type": "execute_result"
    }
   ],
   "source": [
    "title[0].text.strip()"
   ]
  },
  {
   "cell_type": "code",
   "execution_count": 8,
   "id": "d9e5f42d",
   "metadata": {},
   "outputs": [
    {
     "data": {
      "text/plain": [
       "(1,\n",
       " bs4.element.ResultSet,\n",
       " <div class=\"Text-wvugs1-0 hEWwJX\" data-testid=\"name\" title=\"질병관리본부\">질병관리본부</div>)"
      ]
     },
     "execution_count": 8,
     "metadata": {},
     "output_type": "execute_result"
    }
   ],
   "source": [
    "# 앱 만든 회사 이름\n",
    "name= tag.select('div[data-testid=\"name\"]')\n",
    "len(name), type(name), name[0]"
   ]
  },
  {
   "cell_type": "code",
   "execution_count": 9,
   "id": "a1704827",
   "metadata": {},
   "outputs": [
    {
     "data": {
      "text/plain": [
       "'질병관리본부'"
      ]
     },
     "execution_count": 9,
     "metadata": {},
     "output_type": "execute_result"
    }
   ],
   "source": [
    "name[0].text.strip()"
   ]
  },
  {
   "cell_type": "code",
   "execution_count": 10,
   "id": "d30425e6",
   "metadata": {},
   "outputs": [
    {
     "data": {
      "text/plain": [
       "(1,\n",
       " bs4.element.ResultSet,\n",
       " <div class=\"Flag__StyledFlag-sc-161hlrc-0 fOybwW flag-icon-kr\" role=\"img\" style=\"width: 16px; height: 11px; background-size: 16px 2772px; background-position: 0px -1320px;\" title=\"South Korea\"></div>)"
      ]
     },
     "execution_count": 10,
     "metadata": {},
     "output_type": "execute_result"
    }
   ],
   "source": [
    "# 앱 만든 회사 국적\n",
    "flag= tag.select('div[class=\"flexview__FlexView-sc-15q74yn-0 hIrrtt FlexView\"] > div[role=\"img\"]')\n",
    "len(flag), type(flag), flag[0]"
   ]
  },
  {
   "cell_type": "code",
   "execution_count": 11,
   "id": "87f96405",
   "metadata": {},
   "outputs": [
    {
     "data": {
      "text/plain": [
       "'South Korea'"
      ]
     },
     "execution_count": 11,
     "metadata": {},
     "output_type": "execute_result"
    }
   ],
   "source": [
    "flag[0]['title']"
   ]
  },
  {
   "cell_type": "code",
   "execution_count": 12,
   "id": "16d4e057",
   "metadata": {},
   "outputs": [
    {
     "data": {
      "text/plain": [
       "(1,\n",
       " bs4.element.ResultSet,\n",
       " <div class=\"flexview__FlexView-sc-15q74yn-0 PureCell__Cell-sc-1jeh9d2-0 frRTcx PureCell_Cell FlexView\" data-key=\"product_id.category_id\" data-testid=\"table-cell#product_id.category_id\">Medical (Applications)</div>)"
      ]
     },
     "execution_count": 12,
     "metadata": {},
     "output_type": "execute_result"
    }
   ],
   "source": [
    "# 앱 종류\n",
    "sort= tag.select('div[data-key=\"product_id.category_id\"]')\n",
    "len(sort), type(sort), sort[0]"
   ]
  },
  {
   "cell_type": "code",
   "execution_count": 13,
   "id": "efe3591d",
   "metadata": {},
   "outputs": [
    {
     "data": {
      "text/plain": [
       "'Medical (Applications)'"
      ]
     },
     "execution_count": 13,
     "metadata": {},
     "output_type": "execute_result"
    }
   ],
   "source": [
    "sort[0].text.strip()"
   ]
  },
  {
   "cell_type": "code",
   "execution_count": 17,
   "id": "26c76eea",
   "metadata": {},
   "outputs": [
    {
     "data": {
      "text/plain": [
       "[['질병관리청 COOV(코로나19 전자예방접종증명서)',\n",
       "  '질병관리본부',\n",
       "  'South Korea',\n",
       "  'Medical (Applications)'],\n",
       " ['Time Princess: Dress Up', 'IGG', 'China', 'Games'],\n",
       " ['Karrot - Buy & sell locally',\n",
       "  'Danggeun Market',\n",
       "  'South Korea',\n",
       "  'Social Networking (Applications)'],\n",
       " ['배달의민족', 'Woowa Brothers', 'South Korea', 'Food and Drink (Applications)'],\n",
       " ['Coupang Eats', 'Coupang', 'South Korea', 'Food and Drink (Applications)'],\n",
       " ['TikTok ティックトック',\n",
       "  'TikTok Pte Ltd',\n",
       "  'Singapore',\n",
       "  'Entertainment (Applications)'],\n",
       " ['ZOOM Cloud Meetings',\n",
       "  'Zoom Video Communications',\n",
       "  'United States',\n",
       "  'Business (Applications)'],\n",
       " ['KakaoTalk', 'Kakao', 'South Korea', 'Social Networking (Applications)'],\n",
       " ['Instagram', 'Instagram', 'United States', 'Photo and Video (Applications)'],\n",
       " ['Kakao T', 'Kakao Mobility', 'South Korea', 'Travel (Applications)'],\n",
       " ['네이버 - NAVER', 'NAVER', 'South Korea', 'Reference (Applications)'],\n",
       " ['청약홈', 'Korea Appraisal Board', 'South Korea', 'Finance (Applications)'],\n",
       " ['쿠팡 - Coupang', 'Coupang', 'South Korea', 'Shopping (Applications)'],\n",
       " ['티빙(tving)', 'CJ ENM', 'South Korea', 'Entertainment (Applications)'],\n",
       " ['Judgement Day: Heaven or Hell',\n",
       "  'Matchingham Games',\n",
       "  'United Kingdom',\n",
       "  'Games']]"
      ]
     },
     "execution_count": 17,
     "metadata": {},
     "output_type": "execute_result"
    }
   ],
   "source": [
    "# 전체 순위 데이터 \n",
    "contents= []\n",
    "for tag in tags:\n",
    "    title= tag.select('div[class=\"flexview__FlexView-sc-15q74yn-0 Medium__NameWrapper-sc-3k5yvt-1 iBMyaF FlexView\"]')\n",
    "    name= tag.select('div[data-testid=\"name\"]')\n",
    "    flag= tag.select('div[class=\"flexview__FlexView-sc-15q74yn-0 hIrrtt FlexView\"] > div[role=\"img\"]')\n",
    "    sort= tag.select('div[data-key=\"product_id.category_id\"]')\n",
    "    contents.append([title[0].text.strip(), name[0].text.strip(), flag[0]['title'], sort[0].text.strip()])\n",
    "\n",
    "contents\n"
   ]
  },
  {
   "cell_type": "markdown",
   "id": "da6e42f5",
   "metadata": {},
   "source": [
    "### 해결사항: 왜 다 안나올까.. 강사님이 설명한 selenium 무슨 모듈 써야하나 "
   ]
  },
  {
   "cell_type": "code",
   "execution_count": null,
   "id": "1e0e12bf",
   "metadata": {},
   "outputs": [],
   "source": []
  }
 ],
 "metadata": {
  "kernelspec": {
   "display_name": "Python 3",
   "language": "python",
   "name": "python3"
  },
  "language_info": {
   "codemirror_mode": {
    "name": "ipython",
    "version": 3
   },
   "file_extension": ".py",
   "mimetype": "text/x-python",
   "name": "python",
   "nbconvert_exporter": "python",
   "pygments_lexer": "ipython3",
   "version": "3.6.4"
  }
 },
 "nbformat": 4,
 "nbformat_minor": 5
}
