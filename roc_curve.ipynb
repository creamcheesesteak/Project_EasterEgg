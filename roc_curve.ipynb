{
  "nbformat": 4,
  "nbformat_minor": 0,
  "metadata": {
    "colab": {
      "name": "roc_curve.ipynb",
      "provenance": [],
      "authorship_tag": "ABX9TyO/pMxMcRpwOfRflYySIv5X",
      "include_colab_link": true
    },
    "kernelspec": {
      "name": "python3",
      "display_name": "Python 3"
    },
    "language_info": {
      "name": "python"
    }
  },
  "cells": [
    {
      "cell_type": "markdown",
      "metadata": {
        "id": "view-in-github",
        "colab_type": "text"
      },
      "source": [
        "<a href=\"https://colab.research.google.com/github/creamcheesesteak/Project_EasterEgg/blob/master/roc_curve.ipynb\" target=\"_parent\"><img src=\"https://colab.research.google.com/assets/colab-badge.svg\" alt=\"Open In Colab\"/></a>"
      ]
    },
    {
      "cell_type": "code",
      "metadata": {
        "id": "wD0HiwKJ58QZ"
      },
      "source": [
        "y_true = [0, 1, 1, 1, 1, 0, 1, 1, 0, 0]\n",
        "\n",
        "\n",
        "# model 거쳐 예상값(성능 좋음)\n",
        "A_proba = [0.6, 0.7, 0.7, 0.8, 0.9, 0.7, 0.85, 0.7, 0.65, 0.75]\n",
        "C_pred = [0, 1, 1, 0, 1, 0, 1, 1, 0, 0]\n",
        "\n",
        "# model 거쳐 예상값(성능 나쁨)\n",
        "B_proba = [0.05, 0.05, 0.1, 0.3, 0.6, 0.3, 0.4, 0.5, 0.2, 0.1]\n",
        "C_proba = [0, 1, 1, 1, 1, 0, 1, 1, 0, 0]\n",
        "\n",
        "\n"
      ],
      "execution_count": 9,
      "outputs": []
    },
    {
      "cell_type": "code",
      "metadata": {
        "id": "U2bb2n8Y5-0e"
      },
      "source": [
        "from sklearn.metrics import roc_curve, auc"
      ],
      "execution_count": 12,
      "outputs": []
    },
    {
      "cell_type": "code",
      "metadata": {
        "colab": {
          "base_uri": "https://localhost:8080/"
        },
        "id": "BI8jswtr5-7R",
        "outputId": "8d358b07-4f06-4ceb-efb9-32ce61cf517e"
      },
      "source": [
        "fpr, tpr, thr = roc_curve(y_true, A_proba)\n",
        "thr, fpr, type(fpr)"
      ],
      "execution_count": 13,
      "outputs": [
        {
          "output_type": "execute_result",
          "data": {
            "text/plain": [
              "(array([1.9 , 0.9 , 0.8 , 0.75, 0.7 , 0.6 ]),\n",
              " array([0.  , 0.  , 0.  , 0.25, 0.5 , 1.  ]),\n",
              " numpy.ndarray)"
            ]
          },
          "metadata": {
            "tags": []
          },
          "execution_count": 13
        }
      ]
    },
    {
      "cell_type": "code",
      "metadata": {
        "colab": {
          "base_uri": "https://localhost:8080/"
        },
        "id": "fAT_YKYZ5_Au",
        "outputId": "0e10c622-eaeb-4aa2-c547-2f05a5012825"
      },
      "source": [
        "auc(fpr, tpr)"
      ],
      "execution_count": 14,
      "outputs": [
        {
          "output_type": "execute_result",
          "data": {
            "text/plain": [
              "0.8125"
            ]
          },
          "metadata": {
            "tags": []
          },
          "execution_count": 14
        }
      ]
    },
    {
      "cell_type": "code",
      "metadata": {
        "colab": {
          "base_uri": "https://localhost:8080/",
          "height": 282
        },
        "id": "-TXITRJJ5_Gb",
        "outputId": "f13c179c-de7c-41d8-9572-154eef3a3f0c"
      },
      "source": [
        "import matplotlib.pyplot as plt\n",
        "plt.plot(fpr, tpr)"
      ],
      "execution_count": 16,
      "outputs": [
        {
          "output_type": "execute_result",
          "data": {
            "text/plain": [
              "[<matplotlib.lines.Line2D at 0x7f62dea7ca10>]"
            ]
          },
          "metadata": {
            "tags": []
          },
          "execution_count": 16
        },
        {
          "output_type": "display_data",
          "data": {
            "image/png": "[encoded data removed]",
            "text/plain": [
              "<Figure size 432x288 with 1 Axes>"
            ]
          },
          "metadata": {
            "tags": [],
            "needs_background": "light"
          }
        }
      ]
    },
    {
      "cell_type": "code",
      "metadata": {
        "id": "BHBEEcSa5_NM"
      },
      "source": [
        ""
      ],
      "execution_count": null,
      "outputs": []
    },
    {
      "cell_type": "code",
      "metadata": {
        "id": "H3JF6mK45_Tj"
      },
      "source": [
        ""
      ],
      "execution_count": null,
      "outputs": []
    },
    {
      "cell_type": "code",
      "metadata": {
        "id": "mqo-RPWS5_aY"
      },
      "source": [
        ""
      ],
      "execution_count": null,
      "outputs": []
    }
  ]
}