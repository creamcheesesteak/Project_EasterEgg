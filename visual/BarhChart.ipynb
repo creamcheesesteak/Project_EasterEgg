{
 "cells": [
  {
   "cell_type": "code",
   "execution_count": 3,
   "id": "9081e7f0",
   "metadata": {},
   "outputs": [],
   "source": [
    "import pandas as pd\n",
    "import numpy as np\n",
    "import collections\n",
    "import matplotlib.pyplot as plt"
   ]
  },
  {
   "cell_type": "code",
   "execution_count": 4,
   "id": "fad01b27",
   "metadata": {},
   "outputs": [],
   "source": [
    "df1 = pd.read_excel('gp_f_Australia.xls', header=None)\n",
    "df2 = pd.read_excel('gp_p_Australia.xls', header=None)\n",
    "df3 = pd.read_excel('i_p_Australia.xls', header=None)\n",
    "df4 = pd.read_excel('i_p_Australia.xls', header=None)"
   ]
  },
  {
   "cell_type": "code",
   "execution_count": 5,
   "id": "dafa9d2f",
   "metadata": {},
   "outputs": [],
   "source": [
    "counts1 = collections.Counter(df1[2])\n",
    "counts2 = collections.Counter(df2[2])\n",
    "counts3 = collections.Counter(df3[2])\n",
    "counts4 = collections.Counter(df4[2])"
   ]
  },
  {
   "cell_type": "code",
   "execution_count": 6,
   "id": "2ab79dad",
   "metadata": {},
   "outputs": [],
   "source": [
    "dict1 = {'Games_gp_f':['Arcade (Games)','Action (Games)','Adventure (Games)','Strategy (Games)','Sports (Games)'\n",
    "                 ,'Board (Games)','Role Playing (Games)','Simulation (Games)','Puzzle (Games)','Card (Games)'\n",
    "                 ,'Educational (Games)','Music (Games)','Racing (Games)', 'Trivia (Games)','Casual (Games)'],\n",
    "       'Application_gp_f':['Business (Applications)', 'Catalogs (Applications)', 'DeveloperTools (Applications)'\n",
    "              , 'Education (Applications)', 'Entertainment (Applications)', 'Finance (Applications)'\n",
    "              , 'Food & Drink (Applications)', 'Graphics & Design (Applications)', 'Health & Fitness (Applications)'\n",
    "              , 'Lifestyle (Applications)', 'Magazines & Newspapers (Applications)', 'Medical (Applications)'\n",
    "              , 'Music & Audio (Applications)', 'Navigation (Applications)', 'News (Applications)'\n",
    "              , 'Photo and Video (Applications)', 'Productivity (Applications)', 'Reference (Applications)'\n",
    "              , 'Shopping (Applications)', 'Business (Applications)', 'Social Networking (Applications)'\n",
    "              , 'Sports (Applications)', 'Travel (Applications)', 'Utilities (Applications)'\n",
    "              , 'Weather (Applications)','Video Players & Editors (Applications)','Maps & Navigation (Applications)'\n",
    "              , 'Personalization (Applications)','Music (Applications)','Travel & Local (Applications)'\n",
    "              ,'Photography (Applications)','Tools (Applications)','Communication (Applications)','Kids']}\n",
    "dict2 = {'Games_gp_p':['Arcade (Games)','Action (Games)','Adventure (Games)','Strategy (Games)','Sports (Games)'\n",
    "                 ,'Board (Games)','Role Playing (Games)','Simulation (Games)','Puzzle (Games)','Card (Games)'\n",
    "                 ,'Educational (Games)','Music (Games)','Racing (Games)', 'Trivia (Games)','Casual (Games)'],\n",
    "       'Application_gp_p':['Business (Applications)', 'Catalogs (Applications)', 'DeveloperTools (Applications)'\n",
    "              , 'Education (Applications)', 'Entertainment (Applications)', 'Finance (Applications)'\n",
    "              , 'Food & Drink (Applications)', 'Graphics & Design (Applications)', 'Health & Fitness (Applications)'\n",
    "              , 'Lifestyle (Applications)', 'Magazines & Newspapers (Applications)', 'Medical (Applications)'\n",
    "              , 'Music & Audio (Applications)', 'Navigation (Applications)', 'News (Applications)'\n",
    "              , 'Photo and Video (Applications)', 'Productivity (Applications)', 'Reference (Applications)'\n",
    "              , 'Shopping (Applications)', 'Business (Applications)', 'Social Networking (Applications)'\n",
    "              , 'Sports (Applications)', 'Travel (Applications)', 'Utilities (Applications)'\n",
    "              , 'Weather (Applications)','Video Players & Editors (Applications)','Maps & Navigation (Applications)'\n",
    "              , 'Personalization (Applications)','Music (Applications)','Travel & Local (Applications)'\n",
    "              ,'Photography (Applications)','Tools (Applications)','Communication (Applications)','Kids']}\n",
    "dict3 = {'Games_i_f':['Games'],\n",
    "       'Application_i_f':['Business (Applications)', 'Catalogs (Applications)', 'DeveloperTools (Applications)'\n",
    "                      , 'Education (Applications)', 'Entertainment (Applications)', 'Finance (Applications)'\n",
    "                      , 'Food & Drink (Applications)', 'Graphics & Design (Applications)', 'Health and Fitness (Applications)'\n",
    "                      , 'Lifestyle (Applications)', 'Magazines and Newspapers (Applications)', 'Medical (Applications)'\n",
    "                      , 'Music (Applications)', 'Navigation (Applications)', 'News (Applications)'\n",
    "                      , 'Photo and Video (Applications)', 'Productivity (Applications)', 'Reference (Applications)'\n",
    "                      , 'Shopping (Applications)', 'Business (Applications)', 'Social Networking (Applications)'\n",
    "                      , 'Sports (Applications)', 'Travel (Applications)', 'Utilities (Applications)'\n",
    "                      , 'Weather (Applications)', 'Kids']}\n",
    "dict4 = {'Games_i_p':['Games'],\n",
    "       'Application_i_p':['Business (Applications)', 'Catalogs (Applications)', 'DeveloperTools (Applications)'\n",
    "                      , 'Education (Applications)', 'Entertainment (Applications)', 'Finance (Applications)'\n",
    "                      , 'Food & Drink (Applications)', 'Graphics & Design (Applications)', 'Health and Fitness (Applications)'\n",
    "                      , 'Lifestyle (Applications)', 'Magazines and Newspapers (Applications)', 'Medical (Applications)'\n",
    "                      , 'Music (Applications)', 'Navigation (Applications)', 'News (Applications)'\n",
    "                      , 'Photo and Video (Applications)', 'Productivity (Applications)', 'Reference (Applications)'\n",
    "                      , 'Shopping (Applications)', 'Business (Applications)', 'Social Networking (Applications)'\n",
    "                      , 'Sports (Applications)', 'Travel (Applications)', 'Utilities (Applications)'\n",
    "                      , 'Weather (Applications)', 'Kids']}"
   ]
  },
  {
   "cell_type": "code",
   "execution_count": 7,
   "id": "36d7dc57",
   "metadata": {},
   "outputs": [],
   "source": [
    "set_group1 = ['Games_gp_f', 'Application_gp_f']\n",
    "set_group2 = ['Games_gp_p', 'Application_gp_p']\n",
    "set_group3 = ['Games_i_f', 'Application_i_f']\n",
    "set_group4 = ['Games_i_p', 'Application_i_p']"
   ]
  },
  {
   "cell_type": "code",
   "execution_count": 8,
   "id": "e7dcef27",
   "metadata": {
    "scrolled": true
   },
   "outputs": [
    {
     "name": "stdout",
     "output_type": "stream",
     "text": [
      "23\n",
      "77\n",
      "64\n",
      "36\n",
      "57\n",
      "43\n",
      "57\n",
      "43\n"
     ]
    }
   ],
   "source": [
    "count_group1 = []\n",
    "count_group2 = []\n",
    "count_group3 = []\n",
    "count_group4 = []\n",
    "\n",
    "group1 = []\n",
    "group2 = []\n",
    "group3 = []\n",
    "group4 = []\n",
    "\n",
    "sum1 = 0\n",
    "sum2 = 0\n",
    "sum3 = 0\n",
    "sum4 = 0\n",
    "\n",
    "for group1 in set_group1: # group : key = Life\n",
    "    name1 = dict1[group1]\n",
    "    group1 = dict1[group1] # dict['Life']\n",
    "    for category in group1: # Food and Drink (Applications)\n",
    "        for key, value in counts1.items():\n",
    "            if key == category:\n",
    "                sum1 = value + sum1\n",
    "    count_group1.append(sum1)\n",
    "    print(sum1)\n",
    "    sum1 = 0\n",
    "    \n",
    "for group2 in set_group2:\n",
    "    name2 = dict2[group2]\n",
    "    group2 = dict2[group2]\n",
    "    for category in group2:\n",
    "        for key, value in counts2.items():\n",
    "            if key == category:\n",
    "                sum2 = value + sum2\n",
    "    count_group2.append(sum2)\n",
    "    print(sum2)\n",
    "    sum2 = 0\n",
    "    \n",
    "for group3 in set_group3:\n",
    "    name3 = dict3[group3]\n",
    "    group3 = dict3[group3]\n",
    "    for category in group3:\n",
    "        for key, value in counts3.items():\n",
    "            if key == category:\n",
    "                sum3 = value + sum3\n",
    "    count_group3.append(sum3)\n",
    "    print(sum3)\n",
    "    sum3 = 0\n",
    "\n",
    "for group4 in set_group4:\n",
    "    name4 = dict4[group4]\n",
    "    group4 = dict4[group4]\n",
    "    for category in group4:\n",
    "        for key, value in counts4.items():\n",
    "            if key == category:\n",
    "                sum4 = value + sum4\n",
    "    count_group4.append(sum4)\n",
    "    print(sum4)\n",
    "    sum4 = 0"
   ]
  },
  {
   "cell_type": "code",
   "execution_count": 9,
   "id": "236b0ad8",
   "metadata": {},
   "outputs": [],
   "source": [
    "set_group1 = {x1:y1 for x1,y1 in zip(set_group1, count_group1)}\n",
    "set_group2 = {x2:y2 for x2,y2 in zip(set_group2, count_group2)}\n",
    "set_group3 = {x3:y3 for x3,y3 in zip(set_group3, count_group3)}\n",
    "set_group4 = {x4:y4 for x4,y4 in zip(set_group4, count_group4)}"
   ]
  },
  {
   "cell_type": "code",
   "execution_count": 17,
   "id": "e00047a7",
   "metadata": {
    "scrolled": false
   },
   "outputs": [
    {
     "data": {
      "image/png": "[encoded data removed]",
      "text/plain": [
       "<Figure size 720x576 with 1 Axes>"
      ]
     },
     "metadata": {
      "needs_background": "light"
     },
     "output_type": "display_data"
    }
   ],
   "source": [
    "sort=['App Store (paid)','App Store (free)','Googe Play (paid)','Googe Play (free)']\n",
    "data={\n",
    "    'Games':[set_group4.get('Games_i_p'),set_group3.get('Games_i_f'),set_group2.get('Games_gp_p'),set_group1.get('Games_gp_f')],\n",
    "    'Application':[set_group4.get('Application_i_p'),set_group3.get('Application_i_f'),set_group2.get('Application_gp_p'),set_group1.get('Application_gp_f')],\n",
    "}\n",
    "df=pd.DataFrame(data,index=sort)\n",
    "df.plot(kind=\"barh\",stacked=True,figsize=(10,8))\n",
    "plt.legend(loc=\"lower left\",bbox_to_anchor=(0.8,1.0))\n",
    "plt.show()"
   ]
  },
  {
   "cell_type": "code",
   "execution_count": null,
   "id": "657cd320",
   "metadata": {},
   "outputs": [],
   "source": []
  },
  {
   "cell_type": "code",
   "execution_count": null,
   "id": "b8397a6d",
   "metadata": {},
   "outputs": [],
   "source": []
  }
 ],
 "metadata": {
  "kernelspec": {
   "display_name": "Python 3",
   "language": "python",
   "name": "python3"
  },
  "language_info": {
   "codemirror_mode": {
    "name": "ipython",
    "version": 3
   },
   "file_extension": ".py",
   "mimetype": "text/x-python",
   "name": "python",
   "nbconvert_exporter": "python",
   "pygments_lexer": "ipython3",
   "version": "3.6.4"
  }
 },
 "nbformat": 4,
 "nbformat_minor": 5
}
