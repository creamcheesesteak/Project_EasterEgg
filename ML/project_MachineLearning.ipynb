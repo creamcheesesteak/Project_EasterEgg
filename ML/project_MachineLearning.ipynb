{
 "cells": [
  {
   "cell_type": "code",
   "execution_count": 694,
   "id": "3b11b4d7",
   "metadata": {},
   "outputs": [
    {
     "name": "stdout",
     "output_type": "stream",
     "text": [
      " C 드라이브의 볼륨: Windows10\n",
      " 볼륨 일련 번호: 74D4-92A9\n",
      "\n",
      " C:\\Develops\\Project_multi_A3\\ML\\files 디렉터리\n",
      "\n",
      "2021-07-19  오후 09:05         1,360,155 googleplaystore.csv\n",
      "               1개 파일           1,360,155 바이트\n",
      "               0개 디렉터리  180,767,342,592 바이트 남음\n"
     ]
    }
   ],
   "source": [
    "!dir .\\files\\googleplaystore.csv"
   ]
  },
  {
   "cell_type": "code",
   "execution_count": 695,
   "id": "e81abcce",
   "metadata": {},
   "outputs": [],
   "source": [
    "import pandas as pd"
   ]
  },
  {
   "cell_type": "code",
   "execution_count": 696,
   "id": "476f53ae",
   "metadata": {},
   "outputs": [],
   "source": [
    "df = pd.read_csv('./files/googleplaystore.csv')"
   ]
  },
  {
   "cell_type": "code",
   "execution_count": 697,
   "id": "1f4d360a",
   "metadata": {},
   "outputs": [],
   "source": [
    "df = df[['Rating', 'Reviews', 'Size', 'Installs', 'Price', 'Content Rating', 'Genres']]"
   ]
  },
  {
   "cell_type": "code",
   "execution_count": 698,
   "id": "579c0fc4",
   "metadata": {},
   "outputs": [
    {
     "data": {
      "text/plain": [
       "(10841, 7)"
      ]
     },
     "execution_count": 698,
     "metadata": {},
     "output_type": "execute_result"
    }
   ],
   "source": [
    "df.shape"
   ]
  },
  {
   "cell_type": "code",
   "execution_count": 699,
   "id": "5b2bbd27",
   "metadata": {},
   "outputs": [
    {
     "name": "stdout",
     "output_type": "stream",
     "text": [
      "<class 'pandas.core.frame.DataFrame'>\n",
      "RangeIndex: 10841 entries, 0 to 10840\n",
      "Data columns (total 7 columns):\n",
      " #   Column          Non-Null Count  Dtype  \n",
      "---  ------          --------------  -----  \n",
      " 0   Rating          9367 non-null   float64\n",
      " 1   Reviews         10841 non-null  object \n",
      " 2   Size            10841 non-null  object \n",
      " 3   Installs        10841 non-null  object \n",
      " 4   Price           10841 non-null  object \n",
      " 5   Content Rating  10840 non-null  object \n",
      " 6   Genres          10841 non-null  object \n",
      "dtypes: float64(1), object(6)\n",
      "memory usage: 593.0+ KB\n"
     ]
    }
   ],
   "source": [
    "df.info()"
   ]
  },
  {
   "cell_type": "code",
   "execution_count": 700,
   "id": "dc6d5123",
   "metadata": {},
   "outputs": [
    {
     "data": {
      "text/html": [
       "<div>\n",
       "<style scoped>\n",
       "    .dataframe tbody tr th:only-of-type {\n",
       "        vertical-align: middle;\n",
       "    }\n",
       "\n",
       "    .dataframe tbody tr th {\n",
       "        vertical-align: top;\n",
       "    }\n",
       "\n",
       "    .dataframe thead th {\n",
       "        text-align: right;\n",
       "    }\n",
       "</style>\n",
       "<table border=\"1\" class=\"dataframe\">\n",
       "  <thead>\n",
       "    <tr style=\"text-align: right;\">\n",
       "      <th></th>\n",
       "      <th>Rating</th>\n",
       "      <th>Reviews</th>\n",
       "      <th>Size</th>\n",
       "      <th>Installs</th>\n",
       "      <th>Price</th>\n",
       "      <th>Content Rating</th>\n",
       "      <th>Genres</th>\n",
       "    </tr>\n",
       "  </thead>\n",
       "  <tbody>\n",
       "    <tr>\n",
       "      <th>count</th>\n",
       "      <td>9367.000000</td>\n",
       "      <td>10841</td>\n",
       "      <td>10841</td>\n",
       "      <td>10841</td>\n",
       "      <td>10841</td>\n",
       "      <td>10840</td>\n",
       "      <td>10841</td>\n",
       "    </tr>\n",
       "    <tr>\n",
       "      <th>unique</th>\n",
       "      <td>NaN</td>\n",
       "      <td>6002</td>\n",
       "      <td>462</td>\n",
       "      <td>22</td>\n",
       "      <td>93</td>\n",
       "      <td>6</td>\n",
       "      <td>120</td>\n",
       "    </tr>\n",
       "    <tr>\n",
       "      <th>top</th>\n",
       "      <td>NaN</td>\n",
       "      <td>0</td>\n",
       "      <td>Varies with device</td>\n",
       "      <td>1,000,000+</td>\n",
       "      <td>0</td>\n",
       "      <td>Everyone</td>\n",
       "      <td>Tools</td>\n",
       "    </tr>\n",
       "    <tr>\n",
       "      <th>freq</th>\n",
       "      <td>NaN</td>\n",
       "      <td>596</td>\n",
       "      <td>1695</td>\n",
       "      <td>1579</td>\n",
       "      <td>10040</td>\n",
       "      <td>8714</td>\n",
       "      <td>842</td>\n",
       "    </tr>\n",
       "    <tr>\n",
       "      <th>mean</th>\n",
       "      <td>4.193338</td>\n",
       "      <td>NaN</td>\n",
       "      <td>NaN</td>\n",
       "      <td>NaN</td>\n",
       "      <td>NaN</td>\n",
       "      <td>NaN</td>\n",
       "      <td>NaN</td>\n",
       "    </tr>\n",
       "    <tr>\n",
       "      <th>std</th>\n",
       "      <td>0.537431</td>\n",
       "      <td>NaN</td>\n",
       "      <td>NaN</td>\n",
       "      <td>NaN</td>\n",
       "      <td>NaN</td>\n",
       "      <td>NaN</td>\n",
       "      <td>NaN</td>\n",
       "    </tr>\n",
       "    <tr>\n",
       "      <th>min</th>\n",
       "      <td>1.000000</td>\n",
       "      <td>NaN</td>\n",
       "      <td>NaN</td>\n",
       "      <td>NaN</td>\n",
       "      <td>NaN</td>\n",
       "      <td>NaN</td>\n",
       "      <td>NaN</td>\n",
       "    </tr>\n",
       "    <tr>\n",
       "      <th>25%</th>\n",
       "      <td>4.000000</td>\n",
       "      <td>NaN</td>\n",
       "      <td>NaN</td>\n",
       "      <td>NaN</td>\n",
       "      <td>NaN</td>\n",
       "      <td>NaN</td>\n",
       "      <td>NaN</td>\n",
       "    </tr>\n",
       "    <tr>\n",
       "      <th>50%</th>\n",
       "      <td>4.300000</td>\n",
       "      <td>NaN</td>\n",
       "      <td>NaN</td>\n",
       "      <td>NaN</td>\n",
       "      <td>NaN</td>\n",
       "      <td>NaN</td>\n",
       "      <td>NaN</td>\n",
       "    </tr>\n",
       "    <tr>\n",
       "      <th>75%</th>\n",
       "      <td>4.500000</td>\n",
       "      <td>NaN</td>\n",
       "      <td>NaN</td>\n",
       "      <td>NaN</td>\n",
       "      <td>NaN</td>\n",
       "      <td>NaN</td>\n",
       "      <td>NaN</td>\n",
       "    </tr>\n",
       "    <tr>\n",
       "      <th>max</th>\n",
       "      <td>19.000000</td>\n",
       "      <td>NaN</td>\n",
       "      <td>NaN</td>\n",
       "      <td>NaN</td>\n",
       "      <td>NaN</td>\n",
       "      <td>NaN</td>\n",
       "      <td>NaN</td>\n",
       "    </tr>\n",
       "  </tbody>\n",
       "</table>\n",
       "</div>"
      ],
      "text/plain": [
       "             Rating Reviews                Size    Installs  Price  \\\n",
       "count   9367.000000   10841               10841       10841  10841   \n",
       "unique          NaN    6002                 462          22     93   \n",
       "top             NaN       0  Varies with device  1,000,000+      0   \n",
       "freq            NaN     596                1695        1579  10040   \n",
       "mean       4.193338     NaN                 NaN         NaN    NaN   \n",
       "std        0.537431     NaN                 NaN         NaN    NaN   \n",
       "min        1.000000     NaN                 NaN         NaN    NaN   \n",
       "25%        4.000000     NaN                 NaN         NaN    NaN   \n",
       "50%        4.300000     NaN                 NaN         NaN    NaN   \n",
       "75%        4.500000     NaN                 NaN         NaN    NaN   \n",
       "max       19.000000     NaN                 NaN         NaN    NaN   \n",
       "\n",
       "       Content Rating Genres  \n",
       "count           10840  10841  \n",
       "unique              6    120  \n",
       "top          Everyone  Tools  \n",
       "freq             8714    842  \n",
       "mean              NaN    NaN  \n",
       "std               NaN    NaN  \n",
       "min               NaN    NaN  \n",
       "25%               NaN    NaN  \n",
       "50%               NaN    NaN  \n",
       "75%               NaN    NaN  \n",
       "max               NaN    NaN  "
      ]
     },
     "execution_count": 700,
     "metadata": {},
     "output_type": "execute_result"
    }
   ],
   "source": [
    "df.describe(include='all')"
   ]
  },
  {
   "cell_type": "code",
   "execution_count": 701,
   "id": "98bc6fd2",
   "metadata": {},
   "outputs": [
    {
     "data": {
      "text/plain": [
       "Index(['Rating', 'Reviews', 'Size', 'Installs', 'Price', 'Content Rating',\n",
       "       'Genres'],\n",
       "      dtype='object')"
      ]
     },
     "execution_count": 701,
     "metadata": {},
     "output_type": "execute_result"
    }
   ],
   "source": [
    "df.columns"
   ]
  },
  {
   "cell_type": "code",
   "execution_count": 702,
   "id": "927bf3fb",
   "metadata": {},
   "outputs": [
    {
     "data": {
      "text/plain": [
       "Rating            1474\n",
       "Reviews              0\n",
       "Size                 0\n",
       "Installs             0\n",
       "Price                0\n",
       "Content Rating       1\n",
       "Genres               0\n",
       "dtype: int64"
      ]
     },
     "execution_count": 702,
     "metadata": {},
     "output_type": "execute_result"
    }
   ],
   "source": [
    "df.isnull().sum()"
   ]
  },
  {
   "cell_type": "markdown",
   "id": "4b6c6f15",
   "metadata": {},
   "source": [
    "### 데이터 전처리"
   ]
  },
  {
   "cell_type": "code",
   "execution_count": 703,
   "id": "344aba67",
   "metadata": {},
   "outputs": [],
   "source": [
    "# In column 'Content Rating', --\n",
    "df['Content Rating'].value_counts()\n",
    "df['Content Rating'] = df['Content Rating'].fillna('Mature 17+')"
   ]
  },
  {
   "cell_type": "code",
   "execution_count": 704,
   "id": "d6db7ff2",
   "metadata": {},
   "outputs": [
    {
     "data": {
      "text/plain": [
       "4.0     2042\n",
       "4.4     1109\n",
       "4.3     1076\n",
       "4.5     1038\n",
       "4.2      952\n",
       "4.6      823\n",
       "4.1      708\n",
       "4.7      499\n",
       "3.9      386\n",
       "3.8      303\n",
       "5.0      274\n",
       "3.7      239\n",
       "4.8      234\n",
       "3.6      174\n",
       "3.5      163\n",
       "3.4      128\n",
       "3.3      102\n",
       "4.9       87\n",
       "3.0       83\n",
       "3.1       69\n",
       "3.2       64\n",
       "2.9       45\n",
       "2.8       42\n",
       "2.6       25\n",
       "2.7       25\n",
       "2.5       21\n",
       "2.3       20\n",
       "2.4       19\n",
       "1.0       16\n",
       "2.2       14\n",
       "1.9       13\n",
       "2.0       12\n",
       "2.1        8\n",
       "1.7        8\n",
       "1.8        8\n",
       "1.6        4\n",
       "1.4        3\n",
       "1.5        3\n",
       "1.2        1\n",
       "19.0       1\n",
       "Name: Rating, dtype: int64"
      ]
     },
     "execution_count": 704,
     "metadata": {},
     "output_type": "execute_result"
    }
   ],
   "source": [
    "# In cloumn 'Rating', mean value = 4\n",
    "df['Rating'] = df['Rating'].fillna(4)\n",
    "df['Rating'].value_counts()"
   ]
  },
  {
   "cell_type": "code",
   "execution_count": 705,
   "id": "3ce08481",
   "metadata": {},
   "outputs": [
    {
     "data": {
      "text/plain": [
       "0           159.0\n",
       "1           967.0\n",
       "2         87510.0\n",
       "3        215644.0\n",
       "4           967.0\n",
       "           ...   \n",
       "10836        38.0\n",
       "10837         4.0\n",
       "10838         3.0\n",
       "10839       114.0\n",
       "10840    398307.0\n",
       "Name: Reviews, Length: 10841, dtype: float64"
      ]
     },
     "execution_count": 705,
     "metadata": {},
     "output_type": "execute_result"
    }
   ],
   "source": [
    "df['Reviews'] = df.Reviews.str.replace('M','000000')\n",
    "df['Reviews'] = df.Reviews.astype(float)\n",
    "df['Reviews'] = df.Reviews.astype(float)\n",
    "df['Reviews']"
   ]
  },
  {
   "cell_type": "code",
   "execution_count": 706,
   "id": "c222960c",
   "metadata": {},
   "outputs": [
    {
     "data": {
      "text/plain": [
       "0           10000.0\n",
       "1          500000.0\n",
       "2         5000000.0\n",
       "3        50000000.0\n",
       "4          100000.0\n",
       "            ...    \n",
       "10836        5000.0\n",
       "10837         100.0\n",
       "10838        1000.0\n",
       "10839        1000.0\n",
       "10840    10000000.0\n",
       "Name: Installs, Length: 10841, dtype: float64"
      ]
     },
     "execution_count": 706,
     "metadata": {},
     "output_type": "execute_result"
    }
   ],
   "source": [
    "df['Installs'] = df.Installs.str.replace(',', '')\n",
    "df['Installs'] = df.Installs.str.replace('+', '')\n",
    "df['Installs'] = df.Installs.str.replace('Free', '100000')\n",
    "df['Installs'] = df.Installs.astype(float)\n",
    "df['Installs']"
   ]
  },
  {
   "cell_type": "code",
   "execution_count": 707,
   "id": "8588b5a0",
   "metadata": {},
   "outputs": [
    {
     "data": {
      "text/plain": [
       "0        0.0\n",
       "1        0.0\n",
       "2        0.0\n",
       "3        0.0\n",
       "4        0.0\n",
       "        ... \n",
       "10836    0.0\n",
       "10837    0.0\n",
       "10838    0.0\n",
       "10839    0.0\n",
       "10840    0.0\n",
       "Name: Price, Length: 10841, dtype: float64"
      ]
     },
     "execution_count": 707,
     "metadata": {},
     "output_type": "execute_result"
    }
   ],
   "source": [
    "df['Price'] = df.Price.str.replace('$','')\n",
    "df['Price'] = df.Price.str.replace('Everyone','0')\n",
    "df['Price'] = df.Price.astype(float)\n",
    "df['Price']"
   ]
  },
  {
   "cell_type": "code",
   "execution_count": 708,
   "id": "8b29dd1d",
   "metadata": {},
   "outputs": [
    {
     "name": "stdout",
     "output_type": "stream",
     "text": [
      "{'992k', '14k', '121k', '239k', '68M', '642k', '4.2M', '592k', '2.6M', '898k', '6.6M', '364k', '99M', '23M', '417k', '2.5M', '82k', '540k', '222k', '872k', '4.5M', '2.9M', '270k', '118k', '663k', '375k', '1.2M', '939k', '40M', '353k', '1.7M', 'Varies with device', '696k', '208k', '429k', '17M', '4.4M', '903k', '160k', '238k', '43M', '475k', '8.3M', '144k', '70M', '190k', '1.9M', '5.0M', '226k', '192k', '7.3M', '55k', '980k', '241k', '210k', '930k', '902k', '10M', '56M', '38M', '7.5M', '9.9M', '4.0M', '33k', '961k', '176k', '22M', '269k', '219k', '66M', '172k', '801k', '4.6M', '2.1M', '322k', '516k', '545k', '108k', '8.2M', '95M', '191k', '203k', '5.2M', '51k', '853k', '161k', '67k', '373k', '335k', '27M', '63M', '924k', '3.7M', '9.5M', '6.0M', '73M', '74k', '818k', '940k', '953k', '976k', '5.3M', '206k', '54k', '28M', '196k', '59M', '636k', '569k', '47M', '656k', '717k', '2.8M', '16M', '458k', '2.2M', '89M', '4.1M', '414k', '658k', '506k', '986k', '887k', '97k', '292k', '69M', '562k', '720k', '920k', '730k', '6.7M', '3.2M', '58M', '881k', '470k', '5.4M', '779k', '582k', '93k', '619k', '92M', '3.0M', '874k', '1.4M', '78M', '3.8M', '54M', '485k', '721k', '695k', '79M', '499k', '26M', '91k', '306k', '981k', '80M', '42M', '41k', '3.4M', '6.9M', '1.3M', '861k', '523k', '816k', '323k', '91M', '811k', '597k', '782k', '334k', '420k', '36M', '913k', '234k', '251k', '643k', '691k', '473k', '88M', '9.6M', '317k', '220k', '48M', '3.1M', '173k', '704k', '221k', '6.5M', '624k', '313k', '87M', '421k', '885k', '143k', '116k', '629k', '1.6M', '514k', '787k', '6.3M', '8.5k', '714k', '6.2M', '34k', '209k', '511k', '585k', '904k', '3.5M', '34M', '809k', '8.0M', '200k', '3.9M', '442k', '5.7M', '608k', '3.3M', '914k', '62M', '676k', '3.6M', '749k', '812k', '879k', '72M', '383k', '970k', '8.9M', '916k', '39M', '20k', '1020k', '8.6M', '72k', '93M', '5.8M', '25M', '20M', '45k', '376k', '754k', '31M', '73k', '5.5M', '27k', '35M', '1.5M', '647k', '688k', '716k', '9.8M', '728k', '55M', '7.7M', '9.2M', '280k', '865k', '9.1M', '77M', '437k', '921k', '775k', '526k', '82M', '2.4M', '387k', '8.1M', '899k', '4.9M', '51M', '840k', '1.1M', '293k', '975k', '309k', '525k', '44M', '25k', '58k', '86M', '37M', '780k', '4.8M', '609k', '170k', '49M', '283k', '29M', '28k', '259k', '90M', '942k', '613k', '552k', '257k', '89k', '626k', '460k', '61k', '186k', '64M', '19M', '100M', '454k', '266k', '52M', '371k', '9.4M', '2.3M', '11M', '103k', '154k', '314k', '57M', '141k', '7.4M', '243k', '5.6M', '50M', '245k', '81k', '240k', '784k', '598k', '498k', '500k', '601k', '713k', '743k', '9.7M', '122k', '4.7M', '551k', '70k', '2.0M', '772k', '46M', '79k', '554k', '746k', '7.8M', '411k', '157k', '412k', '78k', '67M', '308k', '288k', '518k', '963k', '467k', '175k', '23k', '24k', '7.2M', '444k', '83M', '26k', '6.4M', '44k', '18M', '778k', '756k', '948k', '232k', '785k', '496k', '404k', '6.8M', '164k', '8.8M', '951k', '96M', '857k', '7.9M', '33M', '478k', '45M', '75M', '253k', '15M', '84M', '81M', '201k', '8.7M', '994k', '60M', '351k', '94M', '430k', '21M', '237k', '9.3M', '847k', '10.0M', '459k', '50k', '18k', '329k', '8.5M', '6.1M', '5.9M', '12M', '153k', '378k', '319k', '837k', '655k', '4.3M', '860k', '17k', '7.1M', '1.0M', '85M', '32M', '8.4M', '39k', '600k', '5.1M', '65M', '549k', '318k', '71M', '97M', '11k', '7.0M', '705k', '13M', '228k', '1,000+', '892k', '957k', '862k', '842k', '61M', '169k', '76M', '30M', '98M', '29k', '53M', '954k', '24M', '982k', '2.7M', '14M', '683k', '9.0M', '1.8M', '400k', '7.6M', '193k', '48k', '41M', '965k', '74M', '556k', '350k', '544k', '246k'}\n"
     ]
    }
   ],
   "source": [
    "# In column 'Size',칼럼의 도메인 범위 확인\n",
    "print(set(df['Size']))"
   ]
  },
  {
   "cell_type": "code",
   "execution_count": 709,
   "id": "b3910d58",
   "metadata": {},
   "outputs": [],
   "source": [
    "# In column 'Size', mega로 통일 및 예외처리\n",
    "\n",
    "def uniform_unit(val_size):\n",
    "    if(val_size[-1] == 'M'):\n",
    "#         val_size=round(float(val_size[:-1]),1)\n",
    "        val_size = float(val_size[:-1])\n",
    "        return val_size\n",
    "    \n",
    "    elif(val_size[-1] == 'k'):\n",
    "        val_size = round(eval(val_size[:-1]+'*0.001'),5)\n",
    "        return val_size\n",
    "    \n",
    "    else:\n",
    "        val_size = 21.516530\n",
    "        return val_size"
   ]
  },
  {
   "cell_type": "code",
   "execution_count": 710,
   "id": "157ae286",
   "metadata": {},
   "outputs": [],
   "source": [
    "# 만든 사용자 함수 필터 적용해서 컬럼 추가\n",
    "df['preprocessed_Size'] = df['Size'].apply(lambda val_size : uniform_unit(val_size))"
   ]
  },
  {
   "cell_type": "code",
   "execution_count": 711,
   "id": "d674c8ff",
   "metadata": {},
   "outputs": [
    {
     "name": "stdout",
     "output_type": "stream",
     "text": [
      "0        19.00000\n",
      "1        14.00000\n",
      "2         8.70000\n",
      "3        25.00000\n",
      "4         2.80000\n",
      "           ...   \n",
      "10836    53.00000\n",
      "10837     3.60000\n",
      "10838     9.50000\n",
      "10839    21.51653\n",
      "10840    19.00000\n",
      "Name: preprocessed_Size, Length: 10841, dtype: float64\n"
     ]
    }
   ],
   "source": [
    "print(df['preprocessed_Size'])"
   ]
  },
  {
   "cell_type": "code",
   "execution_count": 712,
   "id": "dd8892e4",
   "metadata": {},
   "outputs": [
    {
     "data": {
      "text/plain": [
       "21.51653    1696\n",
       "11.00000     198\n",
       "12.00000     196\n",
       "14.00000     194\n",
       "13.00000     191\n",
       "            ... \n",
       "0.02700        1\n",
       "0.64200        1\n",
       "0.64700        1\n",
       "0.03900        1\n",
       "0.94200        1\n",
       "Name: preprocessed_Size, Length: 460, dtype: int64"
      ]
     },
     "execution_count": 712,
     "metadata": {},
     "output_type": "execute_result"
    }
   ],
   "source": [
    "df['preprocessed_Size'].value_counts()"
   ]
  },
  {
   "cell_type": "code",
   "execution_count": 713,
   "id": "107fc2ea",
   "metadata": {},
   "outputs": [
    {
     "data": {
      "text/html": [
       "<div>\n",
       "<style scoped>\n",
       "    .dataframe tbody tr th:only-of-type {\n",
       "        vertical-align: middle;\n",
       "    }\n",
       "\n",
       "    .dataframe tbody tr th {\n",
       "        vertical-align: top;\n",
       "    }\n",
       "\n",
       "    .dataframe thead th {\n",
       "        text-align: right;\n",
       "    }\n",
       "</style>\n",
       "<table border=\"1\" class=\"dataframe\">\n",
       "  <thead>\n",
       "    <tr style=\"text-align: right;\">\n",
       "      <th></th>\n",
       "      <th>Rating</th>\n",
       "      <th>Reviews</th>\n",
       "      <th>Size</th>\n",
       "      <th>Installs</th>\n",
       "      <th>Price</th>\n",
       "      <th>Content Rating</th>\n",
       "      <th>Genres</th>\n",
       "      <th>preprocessed_Size</th>\n",
       "    </tr>\n",
       "  </thead>\n",
       "  <tbody>\n",
       "    <tr>\n",
       "      <th>count</th>\n",
       "      <td>10841.000000</td>\n",
       "      <td>1.084100e+04</td>\n",
       "      <td>10841</td>\n",
       "      <td>1.084100e+04</td>\n",
       "      <td>10841.000000</td>\n",
       "      <td>10841</td>\n",
       "      <td>10841</td>\n",
       "      <td>10841.000000</td>\n",
       "    </tr>\n",
       "    <tr>\n",
       "      <th>unique</th>\n",
       "      <td>NaN</td>\n",
       "      <td>NaN</td>\n",
       "      <td>462</td>\n",
       "      <td>NaN</td>\n",
       "      <td>NaN</td>\n",
       "      <td>6</td>\n",
       "      <td>120</td>\n",
       "      <td>NaN</td>\n",
       "    </tr>\n",
       "    <tr>\n",
       "      <th>top</th>\n",
       "      <td>NaN</td>\n",
       "      <td>NaN</td>\n",
       "      <td>Varies with device</td>\n",
       "      <td>NaN</td>\n",
       "      <td>NaN</td>\n",
       "      <td>Everyone</td>\n",
       "      <td>Tools</td>\n",
       "      <td>NaN</td>\n",
       "    </tr>\n",
       "    <tr>\n",
       "      <th>freq</th>\n",
       "      <td>NaN</td>\n",
       "      <td>NaN</td>\n",
       "      <td>1695</td>\n",
       "      <td>NaN</td>\n",
       "      <td>NaN</td>\n",
       "      <td>8714</td>\n",
       "      <td>842</td>\n",
       "      <td>NaN</td>\n",
       "    </tr>\n",
       "    <tr>\n",
       "      <th>mean</th>\n",
       "      <td>4.167051</td>\n",
       "      <td>4.441119e+05</td>\n",
       "      <td>NaN</td>\n",
       "      <td>1.546292e+07</td>\n",
       "      <td>1.027273</td>\n",
       "      <td>NaN</td>\n",
       "      <td>NaN</td>\n",
       "      <td>21.516530</td>\n",
       "    </tr>\n",
       "    <tr>\n",
       "      <th>std</th>\n",
       "      <td>0.503934</td>\n",
       "      <td>2.927629e+06</td>\n",
       "      <td>NaN</td>\n",
       "      <td>8.502557e+07</td>\n",
       "      <td>15.948971</td>\n",
       "      <td>NaN</td>\n",
       "      <td>NaN</td>\n",
       "      <td>20.746538</td>\n",
       "    </tr>\n",
       "    <tr>\n",
       "      <th>min</th>\n",
       "      <td>1.000000</td>\n",
       "      <td>0.000000e+00</td>\n",
       "      <td>NaN</td>\n",
       "      <td>0.000000e+00</td>\n",
       "      <td>0.000000</td>\n",
       "      <td>NaN</td>\n",
       "      <td>NaN</td>\n",
       "      <td>0.008500</td>\n",
       "    </tr>\n",
       "    <tr>\n",
       "      <th>25%</th>\n",
       "      <td>4.000000</td>\n",
       "      <td>3.800000e+01</td>\n",
       "      <td>NaN</td>\n",
       "      <td>1.000000e+03</td>\n",
       "      <td>0.000000</td>\n",
       "      <td>NaN</td>\n",
       "      <td>NaN</td>\n",
       "      <td>5.900000</td>\n",
       "    </tr>\n",
       "    <tr>\n",
       "      <th>50%</th>\n",
       "      <td>4.200000</td>\n",
       "      <td>2.094000e+03</td>\n",
       "      <td>NaN</td>\n",
       "      <td>1.000000e+05</td>\n",
       "      <td>0.000000</td>\n",
       "      <td>NaN</td>\n",
       "      <td>NaN</td>\n",
       "      <td>18.000000</td>\n",
       "    </tr>\n",
       "    <tr>\n",
       "      <th>75%</th>\n",
       "      <td>4.500000</td>\n",
       "      <td>5.476800e+04</td>\n",
       "      <td>NaN</td>\n",
       "      <td>5.000000e+06</td>\n",
       "      <td>0.000000</td>\n",
       "      <td>NaN</td>\n",
       "      <td>NaN</td>\n",
       "      <td>26.000000</td>\n",
       "    </tr>\n",
       "    <tr>\n",
       "      <th>max</th>\n",
       "      <td>19.000000</td>\n",
       "      <td>7.815831e+07</td>\n",
       "      <td>NaN</td>\n",
       "      <td>1.000000e+09</td>\n",
       "      <td>400.000000</td>\n",
       "      <td>NaN</td>\n",
       "      <td>NaN</td>\n",
       "      <td>100.000000</td>\n",
       "    </tr>\n",
       "  </tbody>\n",
       "</table>\n",
       "</div>"
      ],
      "text/plain": [
       "              Rating       Reviews                Size      Installs  \\\n",
       "count   10841.000000  1.084100e+04               10841  1.084100e+04   \n",
       "unique           NaN           NaN                 462           NaN   \n",
       "top              NaN           NaN  Varies with device           NaN   \n",
       "freq             NaN           NaN                1695           NaN   \n",
       "mean        4.167051  4.441119e+05                 NaN  1.546292e+07   \n",
       "std         0.503934  2.927629e+06                 NaN  8.502557e+07   \n",
       "min         1.000000  0.000000e+00                 NaN  0.000000e+00   \n",
       "25%         4.000000  3.800000e+01                 NaN  1.000000e+03   \n",
       "50%         4.200000  2.094000e+03                 NaN  1.000000e+05   \n",
       "75%         4.500000  5.476800e+04                 NaN  5.000000e+06   \n",
       "max        19.000000  7.815831e+07                 NaN  1.000000e+09   \n",
       "\n",
       "               Price Content Rating Genres  preprocessed_Size  \n",
       "count   10841.000000          10841  10841       10841.000000  \n",
       "unique           NaN              6    120                NaN  \n",
       "top              NaN       Everyone  Tools                NaN  \n",
       "freq             NaN           8714    842                NaN  \n",
       "mean        1.027273            NaN    NaN          21.516530  \n",
       "std        15.948971            NaN    NaN          20.746538  \n",
       "min         0.000000            NaN    NaN           0.008500  \n",
       "25%         0.000000            NaN    NaN           5.900000  \n",
       "50%         0.000000            NaN    NaN          18.000000  \n",
       "75%         0.000000            NaN    NaN          26.000000  \n",
       "max       400.000000            NaN    NaN         100.000000  "
      ]
     },
     "execution_count": 713,
     "metadata": {},
     "output_type": "execute_result"
    }
   ],
   "source": [
    "df.describe(include='all')"
   ]
  },
  {
   "cell_type": "code",
   "execution_count": 714,
   "id": "59df0491",
   "metadata": {},
   "outputs": [
    {
     "data": {
      "text/plain": [
       "0        19.00000\n",
       "1        14.00000\n",
       "2         8.70000\n",
       "3        25.00000\n",
       "4         2.80000\n",
       "           ...   \n",
       "10836    53.00000\n",
       "10837     3.60000\n",
       "10838     9.50000\n",
       "10839    21.51653\n",
       "10840    19.00000\n",
       "Name: preprocessed_Size, Length: 10841, dtype: float64"
      ]
     },
     "execution_count": 714,
     "metadata": {},
     "output_type": "execute_result"
    }
   ],
   "source": [
    "df.preprocessed_Size"
   ]
  },
  {
   "cell_type": "code",
   "execution_count": 715,
   "id": "fa44e9d3",
   "metadata": {},
   "outputs": [],
   "source": [
    "# 'Rating' 범주화\n",
    "# 결과적으로 소수점 1자리수에서 올림한 결과로 카테고리화\n",
    "# return값을 다르게 설정하면 주어진 수치별로 다른 카테고리도 가능함\n",
    "\n",
    "def make_category(val):\n",
    "    if(0 <= val < 1):\n",
    "        return 1\n",
    "    \n",
    "    elif(1 <= val < 2):\n",
    "        return 2\n",
    "    \n",
    "    elif(2 <= val < 3):\n",
    "        return 3\n",
    "    \n",
    "    elif(3 <= val < 4):\n",
    "        return 4\n",
    "    \n",
    "    elif(4 <= val):\n",
    "        return 5\n",
    "    \n",
    "    else:\n",
    "        return None"
   ]
  },
  {
   "cell_type": "code",
   "execution_count": 716,
   "id": "aa02e957",
   "metadata": {},
   "outputs": [],
   "source": [
    "# 만든 사용자 함수 필터 적용해서 컬럼 추가\n",
    "df['preprocessed_Rating'] = df['Rating'].apply(lambda val : make_category(val))"
   ]
  },
  {
   "cell_type": "code",
   "execution_count": 717,
   "id": "bd7c20bf",
   "metadata": {
    "scrolled": true
   },
   "outputs": [
    {
     "name": "stdout",
     "output_type": "stream",
     "text": [
      "<class 'pandas.core.frame.DataFrame'>\n",
      "RangeIndex: 10841 entries, 0 to 10840\n",
      "Data columns (total 9 columns):\n",
      " #   Column               Non-Null Count  Dtype  \n",
      "---  ------               --------------  -----  \n",
      " 0   Rating               10841 non-null  float64\n",
      " 1   Reviews              10841 non-null  float64\n",
      " 2   Size                 10841 non-null  object \n",
      " 3   Installs             10841 non-null  float64\n",
      " 4   Price                10841 non-null  float64\n",
      " 5   Content Rating       10841 non-null  object \n",
      " 6   Genres               10841 non-null  object \n",
      " 7   preprocessed_Size    10841 non-null  float64\n",
      " 8   preprocessed_Rating  10841 non-null  int64  \n",
      "dtypes: float64(5), int64(1), object(3)\n",
      "memory usage: 762.4+ KB\n"
     ]
    }
   ],
   "source": [
    "df.info()"
   ]
  },
  {
   "cell_type": "code",
   "execution_count": 718,
   "id": "bc95bade",
   "metadata": {},
   "outputs": [],
   "source": [
    "# df = df.dropna(axis = 'columns')"
   ]
  },
  {
   "cell_type": "code",
   "execution_count": 719,
   "id": "1d2a8a37",
   "metadata": {},
   "outputs": [
    {
     "data": {
      "text/plain": [
       "Index(['Rating', 'Reviews', 'Size', 'Installs', 'Price', 'Content Rating',\n",
       "       'Genres', 'preprocessed_Size', 'preprocessed_Rating'],\n",
       "      dtype='object')"
      ]
     },
     "execution_count": 719,
     "metadata": {},
     "output_type": "execute_result"
    }
   ],
   "source": [
    "df.columns"
   ]
  },
  {
   "cell_type": "markdown",
   "id": "541fabcb",
   "metadata": {},
   "source": [
    "### 컬럼 형태 분류\n",
    "'App', 'Category', 'Rating', 'Reviews', 'Size', 'Installs', 'Price', 'Content Rating', 'Genres', 'Last Updated'\n",
    "\n",
    "* 연속형 : 'Rating', 'Reviews', 'Size', 'Price'\n",
    "* 분류형 : 'Installs', 'Content Rating', 'Genres'"
   ]
  },
  {
   "cell_type": "markdown",
   "id": "72e693ac",
   "metadata": {},
   "source": [
    "* 독립변수: reviews, size, installs, price, content rating, genres\n",
    "* 종속변수: rating\n",
    " \n",
    "앱 평점에 영향을 주는 변수는 무엇인가? (상관성, 결정력 파악)\n",
    "앱 평점 예측하기 "
   ]
  },
  {
   "cell_type": "code",
   "execution_count": 720,
   "id": "129412ca",
   "metadata": {},
   "outputs": [
    {
     "data": {
      "text/html": [
       "<div>\n",
       "<style scoped>\n",
       "    .dataframe tbody tr th:only-of-type {\n",
       "        vertical-align: middle;\n",
       "    }\n",
       "\n",
       "    .dataframe tbody tr th {\n",
       "        vertical-align: top;\n",
       "    }\n",
       "\n",
       "    .dataframe thead th {\n",
       "        text-align: right;\n",
       "    }\n",
       "</style>\n",
       "<table border=\"1\" class=\"dataframe\">\n",
       "  <thead>\n",
       "    <tr style=\"text-align: right;\">\n",
       "      <th></th>\n",
       "      <th>Reviews</th>\n",
       "      <th>Installs</th>\n",
       "      <th>Price</th>\n",
       "      <th>Content Rating</th>\n",
       "      <th>Genres</th>\n",
       "      <th>preprocessed_Size</th>\n",
       "      <th>preprocessed_Rating</th>\n",
       "    </tr>\n",
       "  </thead>\n",
       "  <tbody>\n",
       "    <tr>\n",
       "      <th>0</th>\n",
       "      <td>159.0</td>\n",
       "      <td>10000.0</td>\n",
       "      <td>0.0</td>\n",
       "      <td>Everyone</td>\n",
       "      <td>Art &amp; Design</td>\n",
       "      <td>19.0</td>\n",
       "      <td>5</td>\n",
       "    </tr>\n",
       "    <tr>\n",
       "      <th>1</th>\n",
       "      <td>967.0</td>\n",
       "      <td>500000.0</td>\n",
       "      <td>0.0</td>\n",
       "      <td>Everyone</td>\n",
       "      <td>Art &amp; Design;Pretend Play</td>\n",
       "      <td>14.0</td>\n",
       "      <td>4</td>\n",
       "    </tr>\n",
       "    <tr>\n",
       "      <th>2</th>\n",
       "      <td>87510.0</td>\n",
       "      <td>5000000.0</td>\n",
       "      <td>0.0</td>\n",
       "      <td>Everyone</td>\n",
       "      <td>Art &amp; Design</td>\n",
       "      <td>8.7</td>\n",
       "      <td>5</td>\n",
       "    </tr>\n",
       "  </tbody>\n",
       "</table>\n",
       "</div>"
      ],
      "text/plain": [
       "   Reviews   Installs  Price Content Rating                     Genres  \\\n",
       "0    159.0    10000.0    0.0       Everyone               Art & Design   \n",
       "1    967.0   500000.0    0.0       Everyone  Art & Design;Pretend Play   \n",
       "2  87510.0  5000000.0    0.0       Everyone               Art & Design   \n",
       "\n",
       "   preprocessed_Size  preprocessed_Rating  \n",
       "0               19.0                    5  \n",
       "1               14.0                    4  \n",
       "2                8.7                    5  "
      ]
     },
     "execution_count": 720,
     "metadata": {},
     "output_type": "execute_result"
    }
   ],
   "source": [
    "df_feature = df[['Reviews', 'Installs', 'Price', 'Content Rating','Genres', 'preprocessed_Size', 'preprocessed_Rating']]\n",
    "df_feature.head(3)"
   ]
  },
  {
   "cell_type": "code",
   "execution_count": 721,
   "id": "6d937e47",
   "metadata": {},
   "outputs": [],
   "source": [
    "df_feature = df_feature[['Reviews', 'Installs', 'Price', 'Content Rating', 'Genres', 'preprocessed_Size', 'preprocessed_Rating']]"
   ]
  },
  {
   "cell_type": "code",
   "execution_count": 722,
   "id": "e3d768ea",
   "metadata": {},
   "outputs": [
    {
     "data": {
      "text/plain": [
       "Reviews                0\n",
       "Installs               0\n",
       "Price                  0\n",
       "Content Rating         0\n",
       "Genres                 0\n",
       "preprocessed_Size      0\n",
       "preprocessed_Rating    0\n",
       "dtype: int64"
      ]
     },
     "execution_count": 722,
     "metadata": {},
     "output_type": "execute_result"
    }
   ],
   "source": [
    "df_feature.isnull().sum()"
   ]
  },
  {
   "cell_type": "code",
   "execution_count": 723,
   "id": "19a2a99c",
   "metadata": {},
   "outputs": [
    {
     "data": {
      "text/html": [
       "<div>\n",
       "<style scoped>\n",
       "    .dataframe tbody tr th:only-of-type {\n",
       "        vertical-align: middle;\n",
       "    }\n",
       "\n",
       "    .dataframe tbody tr th {\n",
       "        vertical-align: top;\n",
       "    }\n",
       "\n",
       "    .dataframe thead th {\n",
       "        text-align: right;\n",
       "    }\n",
       "</style>\n",
       "<table border=\"1\" class=\"dataframe\">\n",
       "  <thead>\n",
       "    <tr style=\"text-align: right;\">\n",
       "      <th></th>\n",
       "      <th>Reviews</th>\n",
       "      <th>Installs</th>\n",
       "      <th>Price</th>\n",
       "      <th>preprocessed_Size</th>\n",
       "      <th>preprocessed_Rating</th>\n",
       "    </tr>\n",
       "  </thead>\n",
       "  <tbody>\n",
       "    <tr>\n",
       "      <th>Reviews</th>\n",
       "      <td>1.000000</td>\n",
       "      <td>0.643123</td>\n",
       "      <td>-0.009666</td>\n",
       "      <td>0.128256</td>\n",
       "      <td>0.063720</td>\n",
       "    </tr>\n",
       "    <tr>\n",
       "      <th>Installs</th>\n",
       "      <td>0.643123</td>\n",
       "      <td>1.000000</td>\n",
       "      <td>-0.011688</td>\n",
       "      <td>0.082226</td>\n",
       "      <td>0.059012</td>\n",
       "    </tr>\n",
       "    <tr>\n",
       "      <th>Price</th>\n",
       "      <td>-0.009666</td>\n",
       "      <td>-0.011688</td>\n",
       "      <td>1.000000</td>\n",
       "      <td>-0.022993</td>\n",
       "      <td>-0.020695</td>\n",
       "    </tr>\n",
       "    <tr>\n",
       "      <th>preprocessed_Size</th>\n",
       "      <td>0.128256</td>\n",
       "      <td>0.082226</td>\n",
       "      <td>-0.022993</td>\n",
       "      <td>1.000000</td>\n",
       "      <td>0.062457</td>\n",
       "    </tr>\n",
       "    <tr>\n",
       "      <th>preprocessed_Rating</th>\n",
       "      <td>0.063720</td>\n",
       "      <td>0.059012</td>\n",
       "      <td>-0.020695</td>\n",
       "      <td>0.062457</td>\n",
       "      <td>1.000000</td>\n",
       "    </tr>\n",
       "  </tbody>\n",
       "</table>\n",
       "</div>"
      ],
      "text/plain": [
       "                      Reviews  Installs     Price  preprocessed_Size  \\\n",
       "Reviews              1.000000  0.643123 -0.009666           0.128256   \n",
       "Installs             0.643123  1.000000 -0.011688           0.082226   \n",
       "Price               -0.009666 -0.011688  1.000000          -0.022993   \n",
       "preprocessed_Size    0.128256  0.082226 -0.022993           1.000000   \n",
       "preprocessed_Rating  0.063720  0.059012 -0.020695           0.062457   \n",
       "\n",
       "                     preprocessed_Rating  \n",
       "Reviews                         0.063720  \n",
       "Installs                        0.059012  \n",
       "Price                          -0.020695  \n",
       "preprocessed_Size               0.062457  \n",
       "preprocessed_Rating             1.000000  "
      ]
     },
     "execution_count": 723,
     "metadata": {},
     "output_type": "execute_result"
    }
   ],
   "source": [
    "df_feature.corr()"
   ]
  },
  {
   "cell_type": "code",
   "execution_count": 724,
   "id": "6c8be9f7",
   "metadata": {},
   "outputs": [
    {
     "data": {
      "text/html": [
       "<div>\n",
       "<style scoped>\n",
       "    .dataframe tbody tr th:only-of-type {\n",
       "        vertical-align: middle;\n",
       "    }\n",
       "\n",
       "    .dataframe tbody tr th {\n",
       "        vertical-align: top;\n",
       "    }\n",
       "\n",
       "    .dataframe thead th {\n",
       "        text-align: right;\n",
       "    }\n",
       "</style>\n",
       "<table border=\"1\" class=\"dataframe\">\n",
       "  <thead>\n",
       "    <tr style=\"text-align: right;\">\n",
       "      <th></th>\n",
       "      <th>preprocessed_Rating</th>\n",
       "      <th>Reviews</th>\n",
       "      <th>Installs</th>\n",
       "      <th>Price</th>\n",
       "      <th>preprocessed_Size</th>\n",
       "      <th>preprocessed_Rating</th>\n",
       "    </tr>\n",
       "  </thead>\n",
       "  <tbody>\n",
       "    <tr>\n",
       "      <th>preprocessed_Rating</th>\n",
       "      <td>1.000000</td>\n",
       "      <td>0.063720</td>\n",
       "      <td>0.059012</td>\n",
       "      <td>-0.020695</td>\n",
       "      <td>0.062457</td>\n",
       "      <td>1.000000</td>\n",
       "    </tr>\n",
       "    <tr>\n",
       "      <th>Reviews</th>\n",
       "      <td>0.063720</td>\n",
       "      <td>1.000000</td>\n",
       "      <td>0.643123</td>\n",
       "      <td>-0.009666</td>\n",
       "      <td>0.128256</td>\n",
       "      <td>0.063720</td>\n",
       "    </tr>\n",
       "    <tr>\n",
       "      <th>Installs</th>\n",
       "      <td>0.059012</td>\n",
       "      <td>0.643123</td>\n",
       "      <td>1.000000</td>\n",
       "      <td>-0.011688</td>\n",
       "      <td>0.082226</td>\n",
       "      <td>0.059012</td>\n",
       "    </tr>\n",
       "    <tr>\n",
       "      <th>Price</th>\n",
       "      <td>-0.020695</td>\n",
       "      <td>-0.009666</td>\n",
       "      <td>-0.011688</td>\n",
       "      <td>1.000000</td>\n",
       "      <td>-0.022993</td>\n",
       "      <td>-0.020695</td>\n",
       "    </tr>\n",
       "    <tr>\n",
       "      <th>preprocessed_Size</th>\n",
       "      <td>0.062457</td>\n",
       "      <td>0.128256</td>\n",
       "      <td>0.082226</td>\n",
       "      <td>-0.022993</td>\n",
       "      <td>1.000000</td>\n",
       "      <td>0.062457</td>\n",
       "    </tr>\n",
       "    <tr>\n",
       "      <th>preprocessed_Rating</th>\n",
       "      <td>1.000000</td>\n",
       "      <td>0.063720</td>\n",
       "      <td>0.059012</td>\n",
       "      <td>-0.020695</td>\n",
       "      <td>0.062457</td>\n",
       "      <td>1.000000</td>\n",
       "    </tr>\n",
       "  </tbody>\n",
       "</table>\n",
       "</div>"
      ],
      "text/plain": [
       "                     preprocessed_Rating   Reviews  Installs     Price  \\\n",
       "preprocessed_Rating             1.000000  0.063720  0.059012 -0.020695   \n",
       "Reviews                         0.063720  1.000000  0.643123 -0.009666   \n",
       "Installs                        0.059012  0.643123  1.000000 -0.011688   \n",
       "Price                          -0.020695 -0.009666 -0.011688  1.000000   \n",
       "preprocessed_Size               0.062457  0.128256  0.082226 -0.022993   \n",
       "preprocessed_Rating             1.000000  0.063720  0.059012 -0.020695   \n",
       "\n",
       "                     preprocessed_Size  preprocessed_Rating  \n",
       "preprocessed_Rating           0.062457             1.000000  \n",
       "Reviews                       0.128256             0.063720  \n",
       "Installs                      0.082226             0.059012  \n",
       "Price                        -0.022993            -0.020695  \n",
       "preprocessed_Size             1.000000             0.062457  \n",
       "preprocessed_Rating           0.062457             1.000000  "
      ]
     },
     "execution_count": 724,
     "metadata": {},
     "output_type": "execute_result"
    }
   ],
   "source": [
    "df_heatmap = pd.concat([df['preprocessed_Rating'],df_feature], axis='columns')\n",
    "df_heatmap.corr()"
   ]
  },
  {
   "cell_type": "code",
   "execution_count": 725,
   "id": "b254e91e",
   "metadata": {
    "scrolled": true
   },
   "outputs": [
    {
     "data": {
      "text/plain": [
       "<AxesSubplot:>"
      ]
     },
     "execution_count": 725,
     "metadata": {},
     "output_type": "execute_result"
    },
    {
     "data": {
      "image/png": "[encoded data removed]",
      "text/plain": [
       "<Figure size 432x288 with 2 Axes>"
      ]
     },
     "metadata": {
      "needs_background": "light"
     },
     "output_type": "display_data"
    }
   ],
   "source": [
    "import seaborn as sns\n",
    "sns.heatmap(df_feature.corr(),annot=True)"
   ]
  },
  {
   "cell_type": "markdown",
   "id": "231820a8",
   "metadata": {},
   "source": [
    "### 교육 단계\n",
    "1. get_dummies (Onehot encoding)\n",
    "2. standard scaler\n",
    "3. data split\n",
    "4. model learning\n",
    "5. check score"
   ]
  },
  {
   "cell_type": "markdown",
   "id": "fa6ddedc",
   "metadata": {},
   "source": [
    "#### 1. Onehot encoding"
   ]
  },
  {
   "cell_type": "code",
   "execution_count": 726,
   "id": "9360ab2d",
   "metadata": {},
   "outputs": [
    {
     "data": {
      "text/plain": [
       "(10841, 150)"
      ]
     },
     "execution_count": 726,
     "metadata": {},
     "output_type": "execute_result"
    }
   ],
   "source": [
    "df_onehot = pd.get_dummies(df_feature, columns=['Installs', 'Content Rating', 'Genres'])\n",
    "df_onehot.shape"
   ]
  },
  {
   "cell_type": "code",
   "execution_count": 727,
   "id": "c9955cf3",
   "metadata": {},
   "outputs": [
    {
     "data": {
      "text/html": [
       "<div>\n",
       "<style scoped>\n",
       "    .dataframe tbody tr th:only-of-type {\n",
       "        vertical-align: middle;\n",
       "    }\n",
       "\n",
       "    .dataframe tbody tr th {\n",
       "        vertical-align: top;\n",
       "    }\n",
       "\n",
       "    .dataframe thead th {\n",
       "        text-align: right;\n",
       "    }\n",
       "</style>\n",
       "<table border=\"1\" class=\"dataframe\">\n",
       "  <thead>\n",
       "    <tr style=\"text-align: right;\">\n",
       "      <th></th>\n",
       "      <th>Reviews</th>\n",
       "      <th>Price</th>\n",
       "      <th>preprocessed_Size</th>\n",
       "      <th>preprocessed_Rating</th>\n",
       "      <th>Installs_0.0</th>\n",
       "      <th>Installs_1.0</th>\n",
       "      <th>Installs_5.0</th>\n",
       "      <th>Installs_10.0</th>\n",
       "      <th>Installs_50.0</th>\n",
       "      <th>Installs_100.0</th>\n",
       "      <th>...</th>\n",
       "      <th>Genres_Tools;Education</th>\n",
       "      <th>Genres_Travel &amp; Local</th>\n",
       "      <th>Genres_Travel &amp; Local;Action &amp; Adventure</th>\n",
       "      <th>Genres_Trivia</th>\n",
       "      <th>Genres_Trivia;Education</th>\n",
       "      <th>Genres_Video Players &amp; Editors</th>\n",
       "      <th>Genres_Video Players &amp; Editors;Creativity</th>\n",
       "      <th>Genres_Video Players &amp; Editors;Music &amp; Video</th>\n",
       "      <th>Genres_Weather</th>\n",
       "      <th>Genres_Word</th>\n",
       "    </tr>\n",
       "  </thead>\n",
       "  <tbody>\n",
       "    <tr>\n",
       "      <th>0</th>\n",
       "      <td>159.0</td>\n",
       "      <td>0.0</td>\n",
       "      <td>19.00000</td>\n",
       "      <td>5</td>\n",
       "      <td>0</td>\n",
       "      <td>0</td>\n",
       "      <td>0</td>\n",
       "      <td>0</td>\n",
       "      <td>0</td>\n",
       "      <td>0</td>\n",
       "      <td>...</td>\n",
       "      <td>0</td>\n",
       "      <td>0</td>\n",
       "      <td>0</td>\n",
       "      <td>0</td>\n",
       "      <td>0</td>\n",
       "      <td>0</td>\n",
       "      <td>0</td>\n",
       "      <td>0</td>\n",
       "      <td>0</td>\n",
       "      <td>0</td>\n",
       "    </tr>\n",
       "    <tr>\n",
       "      <th>1</th>\n",
       "      <td>967.0</td>\n",
       "      <td>0.0</td>\n",
       "      <td>14.00000</td>\n",
       "      <td>4</td>\n",
       "      <td>0</td>\n",
       "      <td>0</td>\n",
       "      <td>0</td>\n",
       "      <td>0</td>\n",
       "      <td>0</td>\n",
       "      <td>0</td>\n",
       "      <td>...</td>\n",
       "      <td>0</td>\n",
       "      <td>0</td>\n",
       "      <td>0</td>\n",
       "      <td>0</td>\n",
       "      <td>0</td>\n",
       "      <td>0</td>\n",
       "      <td>0</td>\n",
       "      <td>0</td>\n",
       "      <td>0</td>\n",
       "      <td>0</td>\n",
       "    </tr>\n",
       "    <tr>\n",
       "      <th>2</th>\n",
       "      <td>87510.0</td>\n",
       "      <td>0.0</td>\n",
       "      <td>8.70000</td>\n",
       "      <td>5</td>\n",
       "      <td>0</td>\n",
       "      <td>0</td>\n",
       "      <td>0</td>\n",
       "      <td>0</td>\n",
       "      <td>0</td>\n",
       "      <td>0</td>\n",
       "      <td>...</td>\n",
       "      <td>0</td>\n",
       "      <td>0</td>\n",
       "      <td>0</td>\n",
       "      <td>0</td>\n",
       "      <td>0</td>\n",
       "      <td>0</td>\n",
       "      <td>0</td>\n",
       "      <td>0</td>\n",
       "      <td>0</td>\n",
       "      <td>0</td>\n",
       "    </tr>\n",
       "    <tr>\n",
       "      <th>3</th>\n",
       "      <td>215644.0</td>\n",
       "      <td>0.0</td>\n",
       "      <td>25.00000</td>\n",
       "      <td>5</td>\n",
       "      <td>0</td>\n",
       "      <td>0</td>\n",
       "      <td>0</td>\n",
       "      <td>0</td>\n",
       "      <td>0</td>\n",
       "      <td>0</td>\n",
       "      <td>...</td>\n",
       "      <td>0</td>\n",
       "      <td>0</td>\n",
       "      <td>0</td>\n",
       "      <td>0</td>\n",
       "      <td>0</td>\n",
       "      <td>0</td>\n",
       "      <td>0</td>\n",
       "      <td>0</td>\n",
       "      <td>0</td>\n",
       "      <td>0</td>\n",
       "    </tr>\n",
       "    <tr>\n",
       "      <th>4</th>\n",
       "      <td>967.0</td>\n",
       "      <td>0.0</td>\n",
       "      <td>2.80000</td>\n",
       "      <td>5</td>\n",
       "      <td>0</td>\n",
       "      <td>0</td>\n",
       "      <td>0</td>\n",
       "      <td>0</td>\n",
       "      <td>0</td>\n",
       "      <td>0</td>\n",
       "      <td>...</td>\n",
       "      <td>0</td>\n",
       "      <td>0</td>\n",
       "      <td>0</td>\n",
       "      <td>0</td>\n",
       "      <td>0</td>\n",
       "      <td>0</td>\n",
       "      <td>0</td>\n",
       "      <td>0</td>\n",
       "      <td>0</td>\n",
       "      <td>0</td>\n",
       "    </tr>\n",
       "    <tr>\n",
       "      <th>...</th>\n",
       "      <td>...</td>\n",
       "      <td>...</td>\n",
       "      <td>...</td>\n",
       "      <td>...</td>\n",
       "      <td>...</td>\n",
       "      <td>...</td>\n",
       "      <td>...</td>\n",
       "      <td>...</td>\n",
       "      <td>...</td>\n",
       "      <td>...</td>\n",
       "      <td>...</td>\n",
       "      <td>...</td>\n",
       "      <td>...</td>\n",
       "      <td>...</td>\n",
       "      <td>...</td>\n",
       "      <td>...</td>\n",
       "      <td>...</td>\n",
       "      <td>...</td>\n",
       "      <td>...</td>\n",
       "      <td>...</td>\n",
       "      <td>...</td>\n",
       "    </tr>\n",
       "    <tr>\n",
       "      <th>10836</th>\n",
       "      <td>38.0</td>\n",
       "      <td>0.0</td>\n",
       "      <td>53.00000</td>\n",
       "      <td>5</td>\n",
       "      <td>0</td>\n",
       "      <td>0</td>\n",
       "      <td>0</td>\n",
       "      <td>0</td>\n",
       "      <td>0</td>\n",
       "      <td>0</td>\n",
       "      <td>...</td>\n",
       "      <td>0</td>\n",
       "      <td>0</td>\n",
       "      <td>0</td>\n",
       "      <td>0</td>\n",
       "      <td>0</td>\n",
       "      <td>0</td>\n",
       "      <td>0</td>\n",
       "      <td>0</td>\n",
       "      <td>0</td>\n",
       "      <td>0</td>\n",
       "    </tr>\n",
       "    <tr>\n",
       "      <th>10837</th>\n",
       "      <td>4.0</td>\n",
       "      <td>0.0</td>\n",
       "      <td>3.60000</td>\n",
       "      <td>5</td>\n",
       "      <td>0</td>\n",
       "      <td>0</td>\n",
       "      <td>0</td>\n",
       "      <td>0</td>\n",
       "      <td>0</td>\n",
       "      <td>1</td>\n",
       "      <td>...</td>\n",
       "      <td>0</td>\n",
       "      <td>0</td>\n",
       "      <td>0</td>\n",
       "      <td>0</td>\n",
       "      <td>0</td>\n",
       "      <td>0</td>\n",
       "      <td>0</td>\n",
       "      <td>0</td>\n",
       "      <td>0</td>\n",
       "      <td>0</td>\n",
       "    </tr>\n",
       "    <tr>\n",
       "      <th>10838</th>\n",
       "      <td>3.0</td>\n",
       "      <td>0.0</td>\n",
       "      <td>9.50000</td>\n",
       "      <td>5</td>\n",
       "      <td>0</td>\n",
       "      <td>0</td>\n",
       "      <td>0</td>\n",
       "      <td>0</td>\n",
       "      <td>0</td>\n",
       "      <td>0</td>\n",
       "      <td>...</td>\n",
       "      <td>0</td>\n",
       "      <td>0</td>\n",
       "      <td>0</td>\n",
       "      <td>0</td>\n",
       "      <td>0</td>\n",
       "      <td>0</td>\n",
       "      <td>0</td>\n",
       "      <td>0</td>\n",
       "      <td>0</td>\n",
       "      <td>0</td>\n",
       "    </tr>\n",
       "    <tr>\n",
       "      <th>10839</th>\n",
       "      <td>114.0</td>\n",
       "      <td>0.0</td>\n",
       "      <td>21.51653</td>\n",
       "      <td>5</td>\n",
       "      <td>0</td>\n",
       "      <td>0</td>\n",
       "      <td>0</td>\n",
       "      <td>0</td>\n",
       "      <td>0</td>\n",
       "      <td>0</td>\n",
       "      <td>...</td>\n",
       "      <td>0</td>\n",
       "      <td>0</td>\n",
       "      <td>0</td>\n",
       "      <td>0</td>\n",
       "      <td>0</td>\n",
       "      <td>0</td>\n",
       "      <td>0</td>\n",
       "      <td>0</td>\n",
       "      <td>0</td>\n",
       "      <td>0</td>\n",
       "    </tr>\n",
       "    <tr>\n",
       "      <th>10840</th>\n",
       "      <td>398307.0</td>\n",
       "      <td>0.0</td>\n",
       "      <td>19.00000</td>\n",
       "      <td>5</td>\n",
       "      <td>0</td>\n",
       "      <td>0</td>\n",
       "      <td>0</td>\n",
       "      <td>0</td>\n",
       "      <td>0</td>\n",
       "      <td>0</td>\n",
       "      <td>...</td>\n",
       "      <td>0</td>\n",
       "      <td>0</td>\n",
       "      <td>0</td>\n",
       "      <td>0</td>\n",
       "      <td>0</td>\n",
       "      <td>0</td>\n",
       "      <td>0</td>\n",
       "      <td>0</td>\n",
       "      <td>0</td>\n",
       "      <td>0</td>\n",
       "    </tr>\n",
       "  </tbody>\n",
       "</table>\n",
       "<p>10841 rows × 150 columns</p>\n",
       "</div>"
      ],
      "text/plain": [
       "        Reviews  Price  preprocessed_Size  preprocessed_Rating  Installs_0.0  \\\n",
       "0         159.0    0.0           19.00000                    5             0   \n",
       "1         967.0    0.0           14.00000                    4             0   \n",
       "2       87510.0    0.0            8.70000                    5             0   \n",
       "3      215644.0    0.0           25.00000                    5             0   \n",
       "4         967.0    0.0            2.80000                    5             0   \n",
       "...         ...    ...                ...                  ...           ...   \n",
       "10836      38.0    0.0           53.00000                    5             0   \n",
       "10837       4.0    0.0            3.60000                    5             0   \n",
       "10838       3.0    0.0            9.50000                    5             0   \n",
       "10839     114.0    0.0           21.51653                    5             0   \n",
       "10840  398307.0    0.0           19.00000                    5             0   \n",
       "\n",
       "       Installs_1.0  Installs_5.0  Installs_10.0  Installs_50.0  \\\n",
       "0                 0             0              0              0   \n",
       "1                 0             0              0              0   \n",
       "2                 0             0              0              0   \n",
       "3                 0             0              0              0   \n",
       "4                 0             0              0              0   \n",
       "...             ...           ...            ...            ...   \n",
       "10836             0             0              0              0   \n",
       "10837             0             0              0              0   \n",
       "10838             0             0              0              0   \n",
       "10839             0             0              0              0   \n",
       "10840             0             0              0              0   \n",
       "\n",
       "       Installs_100.0  ...  Genres_Tools;Education  Genres_Travel & Local  \\\n",
       "0                   0  ...                       0                      0   \n",
       "1                   0  ...                       0                      0   \n",
       "2                   0  ...                       0                      0   \n",
       "3                   0  ...                       0                      0   \n",
       "4                   0  ...                       0                      0   \n",
       "...               ...  ...                     ...                    ...   \n",
       "10836               0  ...                       0                      0   \n",
       "10837               1  ...                       0                      0   \n",
       "10838               0  ...                       0                      0   \n",
       "10839               0  ...                       0                      0   \n",
       "10840               0  ...                       0                      0   \n",
       "\n",
       "       Genres_Travel & Local;Action & Adventure  Genres_Trivia  \\\n",
       "0                                             0              0   \n",
       "1                                             0              0   \n",
       "2                                             0              0   \n",
       "3                                             0              0   \n",
       "4                                             0              0   \n",
       "...                                         ...            ...   \n",
       "10836                                         0              0   \n",
       "10837                                         0              0   \n",
       "10838                                         0              0   \n",
       "10839                                         0              0   \n",
       "10840                                         0              0   \n",
       "\n",
       "       Genres_Trivia;Education  Genres_Video Players & Editors  \\\n",
       "0                            0                               0   \n",
       "1                            0                               0   \n",
       "2                            0                               0   \n",
       "3                            0                               0   \n",
       "4                            0                               0   \n",
       "...                        ...                             ...   \n",
       "10836                        0                               0   \n",
       "10837                        0                               0   \n",
       "10838                        0                               0   \n",
       "10839                        0                               0   \n",
       "10840                        0                               0   \n",
       "\n",
       "       Genres_Video Players & Editors;Creativity  \\\n",
       "0                                              0   \n",
       "1                                              0   \n",
       "2                                              0   \n",
       "3                                              0   \n",
       "4                                              0   \n",
       "...                                          ...   \n",
       "10836                                          0   \n",
       "10837                                          0   \n",
       "10838                                          0   \n",
       "10839                                          0   \n",
       "10840                                          0   \n",
       "\n",
       "       Genres_Video Players & Editors;Music & Video  Genres_Weather  \\\n",
       "0                                                 0               0   \n",
       "1                                                 0               0   \n",
       "2                                                 0               0   \n",
       "3                                                 0               0   \n",
       "4                                                 0               0   \n",
       "...                                             ...             ...   \n",
       "10836                                             0               0   \n",
       "10837                                             0               0   \n",
       "10838                                             0               0   \n",
       "10839                                             0               0   \n",
       "10840                                             0               0   \n",
       "\n",
       "       Genres_Word  \n",
       "0                0  \n",
       "1                0  \n",
       "2                0  \n",
       "3                0  \n",
       "4                0  \n",
       "...            ...  \n",
       "10836            0  \n",
       "10837            0  \n",
       "10838            0  \n",
       "10839            0  \n",
       "10840            0  \n",
       "\n",
       "[10841 rows x 150 columns]"
      ]
     },
     "execution_count": 727,
     "metadata": {},
     "output_type": "execute_result"
    }
   ],
   "source": [
    "df_onehot"
   ]
  },
  {
   "cell_type": "markdown",
   "id": "597f1d37",
   "metadata": {},
   "source": [
    "#### 2. standard scaler"
   ]
  },
  {
   "cell_type": "code",
   "execution_count": 728,
   "id": "62067771",
   "metadata": {},
   "outputs": [],
   "source": [
    "from sklearn import preprocessing"
   ]
  },
  {
   "cell_type": "code",
   "execution_count": 729,
   "id": "8e44355d",
   "metadata": {},
   "outputs": [],
   "source": [
    "scaler = preprocessing.StandardScaler()"
   ]
  },
  {
   "cell_type": "code",
   "execution_count": 730,
   "id": "e700ee16",
   "metadata": {},
   "outputs": [
    {
     "data": {
      "text/plain": [
       "StandardScaler()"
      ]
     },
     "execution_count": 730,
     "metadata": {},
     "output_type": "execute_result"
    }
   ],
   "source": [
    "scaler.fit(df_onehot)"
   ]
  },
  {
   "cell_type": "code",
   "execution_count": 731,
   "id": "f41582b2",
   "metadata": {},
   "outputs": [
    {
     "data": {
      "text/plain": [
       "(10841, 150)"
      ]
     },
     "execution_count": 731,
     "metadata": {},
     "output_type": "execute_result"
    }
   ],
   "source": [
    "X = scaler.transform(df_onehot)\n",
    "X.shape"
   ]
  },
  {
   "cell_type": "code",
   "execution_count": 732,
   "id": "30ae656a",
   "metadata": {
    "scrolled": true
   },
   "outputs": [
    {
     "data": {
      "text/plain": [
       "array([[-1.51649493e-01, -6.44129774e-02, -1.21304370e-01, ...,\n",
       "        -1.66374228e-02, -8.73013526e-02, -5.17900083e-02],\n",
       "       [-1.51373489e-01, -6.44129774e-02, -3.62319557e-01, ...,\n",
       "        -1.66374228e-02, -8.73013526e-02, -5.17900083e-02],\n",
       "       [-1.21811341e-01, -6.44129774e-02, -6.17795654e-01, ...,\n",
       "        -1.66374228e-02, -8.73013526e-02, -5.17900083e-02],\n",
       "       ...,\n",
       "       [-1.51702781e-01, -6.44129774e-02, -5.79233225e-01, ...,\n",
       "        -1.66374228e-02, -8.73013526e-02, -5.17900083e-02],\n",
       "       [-1.51664865e-01, -6.44129774e-02,  1.93416855e-08, ...,\n",
       "        -1.66374228e-02, -8.73013526e-02, -5.17900083e-02],\n",
       "       [-1.56464650e-02, -6.44129774e-02, -1.21304370e-01, ...,\n",
       "        -1.66374228e-02, -8.73013526e-02, -5.17900083e-02]])"
      ]
     },
     "execution_count": 732,
     "metadata": {},
     "output_type": "execute_result"
    }
   ],
   "source": [
    "X"
   ]
  },
  {
   "cell_type": "code",
   "execution_count": 733,
   "id": "246d5877",
   "metadata": {},
   "outputs": [],
   "source": [
    "Y = df['preprocessed_Rating']"
   ]
  },
  {
   "cell_type": "code",
   "execution_count": 734,
   "id": "28c5e684",
   "metadata": {},
   "outputs": [
    {
     "data": {
      "text/plain": [
       "(10841,)"
      ]
     },
     "execution_count": 734,
     "metadata": {},
     "output_type": "execute_result"
    }
   ],
   "source": [
    "Y.shape"
   ]
  },
  {
   "cell_type": "code",
   "execution_count": 735,
   "id": "6d3498ef",
   "metadata": {},
   "outputs": [
    {
     "data": {
      "text/plain": [
       "0        5\n",
       "1        4\n",
       "2        5\n",
       "3        5\n",
       "4        5\n",
       "        ..\n",
       "10836    5\n",
       "10837    5\n",
       "10838    5\n",
       "10839    5\n",
       "10840    5\n",
       "Name: preprocessed_Rating, Length: 10841, dtype: int64"
      ]
     },
     "execution_count": 735,
     "metadata": {},
     "output_type": "execute_result"
    }
   ],
   "source": [
    "Y"
   ]
  },
  {
   "cell_type": "markdown",
   "id": "85036773",
   "metadata": {},
   "source": [
    "#### 3. data split"
   ]
  },
  {
   "cell_type": "code",
   "execution_count": 736,
   "id": "3cff7831",
   "metadata": {},
   "outputs": [],
   "source": [
    "from sklearn.model_selection import train_test_split"
   ]
  },
  {
   "cell_type": "code",
   "execution_count": 737,
   "id": "55a14b8a",
   "metadata": {},
   "outputs": [
    {
     "data": {
      "text/plain": [
       "((8130, 150), (2711, 150), (8130,), (2711,))"
      ]
     },
     "execution_count": 737,
     "metadata": {},
     "output_type": "execute_result"
    }
   ],
   "source": [
    "x_train, x_test, y_train, y_test = train_test_split(X,Y)\n",
    "x_train.shape, x_test.shape, y_train.shape, y_test.shape"
   ]
  },
  {
   "cell_type": "markdown",
   "id": "5881d97c",
   "metadata": {},
   "source": [
    "#### 4. model learning"
   ]
  },
  {
   "cell_type": "code",
   "execution_count": 738,
   "id": "fe3ff5a4",
   "metadata": {},
   "outputs": [],
   "source": [
    "import xgboost"
   ]
  },
  {
   "cell_type": "code",
   "execution_count": 739,
   "id": "94a9773b",
   "metadata": {
    "scrolled": true
   },
   "outputs": [
    {
     "data": {
      "text/plain": [
       "XGBClassifier(base_score=None, booster=None, colsample_bylevel=None,\n",
       "              colsample_bynode=None, colsample_bytree=None, gamma=None,\n",
       "              gpu_id=None, importance_type='gain', interaction_constraints=None,\n",
       "              learning_rate=None, max_delta_step=None, max_depth=None,\n",
       "              min_child_weight=None, missing=nan, monotone_constraints=None,\n",
       "              n_estimators=100, n_jobs=None, num_parallel_tree=None,\n",
       "              random_state=None, reg_alpha=None, reg_lambda=None,\n",
       "              scale_pos_weight=None, subsample=None, tree_method=None,\n",
       "              validate_parameters=None, verbosity=None)"
      ]
     },
     "execution_count": 739,
     "metadata": {},
     "output_type": "execute_result"
    }
   ],
   "source": [
    "xgb = xgboost.XGBClassifier()\n",
    "xgb"
   ]
  },
  {
   "cell_type": "code",
   "execution_count": 740,
   "id": "74e185d6",
   "metadata": {},
   "outputs": [
    {
     "name": "stderr",
     "output_type": "stream",
     "text": [
      "c:\\python\\python36\\lib\\site-packages\\xgboost\\sklearn.py:1146: UserWarning: The use of label encoder in XGBClassifier is deprecated and will be removed in a future release. To remove this warning, do the following: 1) Pass option use_label_encoder=False when constructing XGBClassifier object; and 2) Encode your labels (y) as integers starting with 0, i.e. 0, 1, 2, ..., [num_class - 1].\n",
      "  warnings.warn(label_encoder_deprecation_msg, UserWarning)\n"
     ]
    },
    {
     "name": "stdout",
     "output_type": "stream",
     "text": [
      "[14:52:10] WARNING: C:/Users/Administrator/workspace/xgboost-win64_release_1.4.0/src/learner.cc:1095: Starting in XGBoost 1.3.0, the default evaluation metric used with the objective 'multi:softprob' was changed from 'merror' to 'mlogloss'. Explicitly set eval_metric if you'd like to restore the old behavior.\n"
     ]
    },
    {
     "data": {
      "text/plain": [
       "XGBClassifier(base_score=0.5, booster='gbtree', colsample_bylevel=1,\n",
       "              colsample_bynode=1, colsample_bytree=1, gamma=0, gpu_id=-1,\n",
       "              importance_type='gain', interaction_constraints='',\n",
       "              learning_rate=0.300000012, max_delta_step=0, max_depth=6,\n",
       "              min_child_weight=1, missing=nan, monotone_constraints='()',\n",
       "              n_estimators=100, n_jobs=8, num_parallel_tree=1,\n",
       "              objective='multi:softprob', random_state=0, reg_alpha=0,\n",
       "              reg_lambda=1, scale_pos_weight=None, subsample=1,\n",
       "              tree_method='exact', validate_parameters=1, verbosity=None)"
      ]
     },
     "execution_count": 740,
     "metadata": {},
     "output_type": "execute_result"
    }
   ],
   "source": [
    "xgb.fit(x_train, y_train)"
   ]
  },
  {
   "cell_type": "code",
   "execution_count": 741,
   "id": "f45220d1",
   "metadata": {},
   "outputs": [
    {
     "data": {
      "text/plain": [
       "1.0"
      ]
     },
     "execution_count": 741,
     "metadata": {},
     "output_type": "execute_result"
    }
   ],
   "source": [
    "xgb.score(x_train, y_train)"
   ]
  },
  {
   "cell_type": "code",
   "execution_count": 742,
   "id": "1146e01a",
   "metadata": {},
   "outputs": [
    {
     "data": {
      "text/plain": [
       "1.0"
      ]
     },
     "execution_count": 742,
     "metadata": {},
     "output_type": "execute_result"
    }
   ],
   "source": [
    "xgb.score(x_test, y_test)"
   ]
  },
  {
   "cell_type": "markdown",
   "id": "0ef5e053",
   "metadata": {},
   "source": [
    "#### 5. predict"
   ]
  },
  {
   "cell_type": "code",
   "execution_count": 743,
   "id": "cb9f373c",
   "metadata": {},
   "outputs": [],
   "source": [
    "# df_ = pd.read_csv('')\n",
    "# df_.head(3)"
   ]
  }
 ],
 "metadata": {
  "kernelspec": {
   "display_name": "Python 3",
   "language": "python",
   "name": "python3"
  },
  "language_info": {
   "codemirror_mode": {
    "name": "ipython",
    "version": 3
   },
   "file_extension": ".py",
   "mimetype": "text/x-python",
   "name": "python",
   "nbconvert_exporter": "python",
   "pygments_lexer": "ipython3",
   "version": "3.6.4"
  }
 },
 "nbformat": 4,
 "nbformat_minor": 5
}
