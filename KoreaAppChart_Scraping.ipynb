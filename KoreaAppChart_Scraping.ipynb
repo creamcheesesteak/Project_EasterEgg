{
 "cells": [
  {
   "cell_type": "code",
   "execution_count": 1,
   "id": "ad0f0dff",
   "metadata": {},
   "outputs": [],
   "source": [
    "from selenium import webdriver"
   ]
  },
  {
   "cell_type": "code",
   "execution_count": 2,
   "id": "36d745b2",
   "metadata": {},
   "outputs": [],
   "source": [
    "browser= webdriver.Chrome('C:\\chromedriver.exe')"
   ]
  },
  {
   "cell_type": "code",
   "execution_count": 3,
   "id": "470cf9ed",
   "metadata": {},
   "outputs": [],
   "source": [
    "browser.get('https://www.appannie.com/intelligence/top-apps/store-rank/ios?date=%272021-07-19%27&country_code=KR&device_code=ios-phone&category_id=100000&store_rank_ios_chart_free$previous_range$chart_compare_facets=!(store_product_rank_grossing__aggr)&store-rank.ios.view=free&store_rank.ios.chart_range=7')"
   ]
  },
  {
   "cell_type": "code",
   "execution_count": 4,
   "id": "a4198968",
   "metadata": {},
   "outputs": [],
   "source": [
    "html= browser.page_source"
   ]
  },
  {
   "cell_type": "code",
   "execution_count": 68,
   "id": "c4064f29",
   "metadata": {},
   "outputs": [],
   "source": [
    "from bs4 import BeautifulSoup"
   ]
  },
  {
   "cell_type": "code",
   "execution_count": 69,
   "id": "fe049f0c",
   "metadata": {},
   "outputs": [],
   "source": [
    "soup= BeautifulSoup(html, 'html.parser')"
   ]
  },
  {
   "cell_type": "code",
   "execution_count": 70,
   "id": "1a5bccf3",
   "metadata": {},
   "outputs": [
    {
     "data": {
      "text/plain": [
       "(34, bs4.element.ResultSet)"
      ]
     },
     "execution_count": 70,
     "metadata": {},
     "output_type": "execute_result"
    }
   ],
   "source": [
    "tags= soup.select('div[aria-rowindex]')\n",
    "len(tags), type(tags)"
   ]
  },
  {
   "cell_type": "code",
   "execution_count": 71,
   "id": "452db357",
   "metadata": {},
   "outputs": [
    {
     "data": {
      "text/plain": [
       "bs4.element.Tag"
      ]
     },
     "execution_count": 71,
     "metadata": {},
     "output_type": "execute_result"
    }
   ],
   "source": [
    "tag= tags[0]\n",
    "# tag\n",
    "type(tag)"
   ]
  },
  {
   "cell_type": "code",
   "execution_count": 72,
   "id": "56e35bbb",
   "metadata": {},
   "outputs": [
    {
     "data": {
      "text/plain": [
       "'1질병관리청 COOV(코로나19 전자예방접종증명서)질병관리본부Medical (Applications)14'"
      ]
     },
     "execution_count": 72,
     "metadata": {},
     "output_type": "execute_result"
    }
   ],
   "source": [
    "tag.text.strip()"
   ]
  },
  {
   "cell_type": "markdown",
   "id": "6f47fcb1",
   "metadata": {},
   "source": [
    "### 어플 제목"
   ]
  },
  {
   "cell_type": "code",
   "execution_count": 73,
   "id": "e8132992",
   "metadata": {},
   "outputs": [],
   "source": [
    "title= tag.select('a[title] > div[class=\"Text-wvugs1-0 jsWCXI\"]')"
   ]
  },
  {
   "cell_type": "code",
   "execution_count": 74,
   "id": "021fa4db",
   "metadata": {},
   "outputs": [
    {
     "data": {
      "text/plain": [
       "(1,\n",
       " <div class=\"Text-wvugs1-0 jsWCXI\">질병관리청 COOV(코로나19 전자예방접종증명서)</div>,\n",
       " bs4.element.ResultSet,\n",
       " bs4.element.Tag)"
      ]
     },
     "execution_count": 74,
     "metadata": {},
     "output_type": "execute_result"
    }
   ],
   "source": [
    "len(title), title[0], type(title), type(title[0])"
   ]
  },
  {
   "cell_type": "code",
   "execution_count": 75,
   "id": "bebc62bf",
   "metadata": {},
   "outputs": [
    {
     "data": {
      "text/plain": [
       "'질병관리청 COOV(코로나19 전자예방접종증명서)'"
      ]
     },
     "execution_count": 75,
     "metadata": {},
     "output_type": "execute_result"
    }
   ],
   "source": [
    "title[0].text.strip()"
   ]
  },
  {
   "cell_type": "markdown",
   "id": "9e90e569",
   "metadata": {},
   "source": [
    "### 어플 만든 회사 이름"
   ]
  },
  {
   "cell_type": "code",
   "execution_count": 76,
   "id": "7c2908c4",
   "metadata": {},
   "outputs": [],
   "source": [
    "name= tag.select('div[data-testid=\"name\"]')"
   ]
  },
  {
   "cell_type": "code",
   "execution_count": 77,
   "id": "1978c8d2",
   "metadata": {},
   "outputs": [
    {
     "data": {
      "text/plain": [
       "(1,\n",
       " <div class=\"Text-wvugs1-0 hEWwJX\" data-testid=\"name\" title=\"질병관리본부\">질병관리본부</div>,\n",
       " bs4.element.ResultSet)"
      ]
     },
     "execution_count": 77,
     "metadata": {},
     "output_type": "execute_result"
    }
   ],
   "source": [
    "len(name), name[0], type(name)"
   ]
  },
  {
   "cell_type": "code",
   "execution_count": 78,
   "id": "89e3b947",
   "metadata": {},
   "outputs": [
    {
     "data": {
      "text/plain": [
       "'질병관리본부'"
      ]
     },
     "execution_count": 78,
     "metadata": {},
     "output_type": "execute_result"
    }
   ],
   "source": [
    "name[0].text.strip()"
   ]
  },
  {
   "cell_type": "markdown",
   "id": "39577c66",
   "metadata": {},
   "source": [
    "### 어플 만든 회사 국적"
   ]
  },
  {
   "cell_type": "code",
   "execution_count": 79,
   "id": "4d5f6dbc",
   "metadata": {},
   "outputs": [],
   "source": [
    "country= tag.select('div[class=\"flexview__FlexView-sc-15q74yn-0 hIrrtt FlexView\"] > div[title]')"
   ]
  },
  {
   "cell_type": "code",
   "execution_count": 80,
   "id": "ee70aee6",
   "metadata": {},
   "outputs": [
    {
     "data": {
      "text/plain": [
       "(1,\n",
       " <div class=\"Flag__StyledFlag-sc-161hlrc-0 fOybwW flag-icon-kr\" role=\"img\" style=\"width: 16px; height: 11px; background-size: 16px 2772px; background-position: 0px -1320px;\" title=\"South Korea\"></div>,\n",
       " bs4.element.ResultSet)"
      ]
     },
     "execution_count": 80,
     "metadata": {},
     "output_type": "execute_result"
    }
   ],
   "source": [
    "len(country), country[0], type(country)"
   ]
  },
  {
   "cell_type": "code",
   "execution_count": 81,
   "id": "cb388a1e",
   "metadata": {},
   "outputs": [
    {
     "data": {
      "text/plain": [
       "'South Korea'"
      ]
     },
     "execution_count": 81,
     "metadata": {},
     "output_type": "execute_result"
    }
   ],
   "source": [
    "country[0]['title']"
   ]
  },
  {
   "cell_type": "markdown",
   "id": "1fe77050",
   "metadata": {},
   "source": [
    "### 어플 카테고리"
   ]
  },
  {
   "cell_type": "code",
   "execution_count": 82,
   "id": "4120310e",
   "metadata": {},
   "outputs": [],
   "source": [
    "category= tag.select('div[data-key=\"product_id.category_id\"]')"
   ]
  },
  {
   "cell_type": "code",
   "execution_count": 83,
   "id": "1b2b6365",
   "metadata": {},
   "outputs": [
    {
     "data": {
      "text/plain": [
       "(1,\n",
       " <div class=\"flexview__FlexView-sc-15q74yn-0 PureCell__Cell-sc-1jeh9d2-0 fLBVfB PureCell_Cell FlexView\" data-key=\"product_id.category_id\" data-testid=\"table-cell#product_id.category_id\">Medical (Applications)</div>,\n",
       " bs4.element.ResultSet)"
      ]
     },
     "execution_count": 83,
     "metadata": {},
     "output_type": "execute_result"
    }
   ],
   "source": [
    "len(category), category[0], type(category)"
   ]
  },
  {
   "cell_type": "code",
   "execution_count": 84,
   "id": "13d54269",
   "metadata": {},
   "outputs": [
    {
     "data": {
      "text/plain": [
       "'Medical (Applications)'"
      ]
     },
     "execution_count": 84,
     "metadata": {},
     "output_type": "execute_result"
    }
   ],
   "source": [
    "category[0].text.strip()"
   ]
  },
  {
   "cell_type": "markdown",
   "id": "c7bd80d2",
   "metadata": {},
   "source": [
    "### for문 합치기"
   ]
  },
  {
   "cell_type": "code",
   "execution_count": 103,
   "id": "a8b5b2ed",
   "metadata": {},
   "outputs": [
    {
     "name": "stdout",
     "output_type": "stream",
     "text": [
      "['질병관리청 COOV(코로나19 전자예방접종증명서)', '질병관리본부', 'South Korea', 'Medical (Applications)']\n",
      "['Time Princess: Dress Up', 'IGG', 'China', 'Games']\n",
      "['Karrot - Buy & sell locally', 'Danggeun Market', 'South Korea', 'Social Networking (Applications)']\n",
      "['배달의민족', 'Woowa Brothers', 'South Korea', 'Food and Drink (Applications)']\n",
      "['Coupang Eats', 'Coupang', 'South Korea', 'Food and Drink (Applications)']\n",
      "['TikTok ティックトック', 'TikTok Pte Ltd', 'Singapore', 'Entertainment (Applications)']\n",
      "['ZOOM Cloud Meetings', 'Zoom Video Communications', 'United States', 'Business (Applications)']\n",
      "['티빙(tving)', 'CJ ENM', 'South Korea', 'Entertainment (Applications)']\n",
      "['Netflix', 'Netflix', 'United States', 'Entertainment (Applications)']\n",
      "['청약홈', 'Korea Appraisal Board', 'South Korea', 'Finance (Applications)']\n",
      "['쿠팡 - Coupang', 'Coupang', 'South Korea', 'Shopping (Applications)']\n",
      "['Kakao T', 'Kakao Mobility', 'South Korea', 'Travel (Applications)']\n",
      "['Instagram', 'Instagram', 'United States', 'Photo and Video (Applications)']\n",
      "['Judgement Day: Heaven or Hell', 'Matchingham Games', 'United Kingdom', 'Games']\n",
      "['야놀자', 'Yanolja', 'South Korea', 'Travel (Applications)']\n",
      "['NAVER Map, Navigation', 'NAVER', 'South Korea', 'Navigation (Applications)']\n",
      "['네이버 - NAVER', 'NAVER', 'South Korea', 'Reference (Applications)']\n"
     ]
    },
    {
     "ename": "IndexError",
     "evalue": "list index out of range",
     "output_type": "error",
     "traceback": [
      "\u001b[1;31m---------------------------------------------------------------------------\u001b[0m",
      "\u001b[1;31mIndexError\u001b[0m                                Traceback (most recent call last)",
      "\u001b[1;32m<ipython-input-103-51e9919cf879>\u001b[0m in \u001b[0;36m<module>\u001b[1;34m\u001b[0m\n\u001b[0;32m      5\u001b[0m     \u001b[0mcountry\u001b[0m\u001b[1;33m=\u001b[0m \u001b[0mtag\u001b[0m\u001b[1;33m.\u001b[0m\u001b[0mselect\u001b[0m\u001b[1;33m(\u001b[0m\u001b[1;34m'div[class=\"flexview__FlexView-sc-15q74yn-0 hIrrtt FlexView\"] > div[title]'\u001b[0m\u001b[1;33m)\u001b[0m\u001b[1;33m\u001b[0m\u001b[0m\n\u001b[0;32m      6\u001b[0m     \u001b[0mcategory\u001b[0m\u001b[1;33m=\u001b[0m \u001b[0mtag\u001b[0m\u001b[1;33m.\u001b[0m\u001b[0mselect\u001b[0m\u001b[1;33m(\u001b[0m\u001b[1;34m'div[data-key=\"product_id.category_id\"]'\u001b[0m\u001b[1;33m)\u001b[0m\u001b[1;33m\u001b[0m\u001b[0m\n\u001b[1;32m----> 7\u001b[1;33m     \u001b[0mprint\u001b[0m\u001b[1;33m(\u001b[0m\u001b[1;33m[\u001b[0m\u001b[0mtitle\u001b[0m\u001b[1;33m[\u001b[0m\u001b[1;36m0\u001b[0m\u001b[1;33m]\u001b[0m\u001b[1;33m.\u001b[0m\u001b[0mtext\u001b[0m\u001b[1;33m.\u001b[0m\u001b[0mstrip\u001b[0m\u001b[1;33m(\u001b[0m\u001b[1;33m)\u001b[0m\u001b[1;33m,\u001b[0m \u001b[0mname\u001b[0m\u001b[1;33m[\u001b[0m\u001b[1;36m0\u001b[0m\u001b[1;33m]\u001b[0m\u001b[1;33m.\u001b[0m\u001b[0mtext\u001b[0m\u001b[1;33m.\u001b[0m\u001b[0mstrip\u001b[0m\u001b[1;33m(\u001b[0m\u001b[1;33m)\u001b[0m\u001b[1;33m,\u001b[0m \u001b[0mcountry\u001b[0m\u001b[1;33m[\u001b[0m\u001b[1;36m0\u001b[0m\u001b[1;33m]\u001b[0m\u001b[1;33m[\u001b[0m\u001b[1;34m'title'\u001b[0m\u001b[1;33m]\u001b[0m\u001b[1;33m,\u001b[0m \u001b[0mcategory\u001b[0m\u001b[1;33m[\u001b[0m\u001b[1;36m0\u001b[0m\u001b[1;33m]\u001b[0m\u001b[1;33m.\u001b[0m\u001b[0mtext\u001b[0m\u001b[1;33m.\u001b[0m\u001b[0mstrip\u001b[0m\u001b[1;33m(\u001b[0m\u001b[1;33m)\u001b[0m\u001b[1;33m]\u001b[0m\u001b[1;33m)\u001b[0m\u001b[1;33m\u001b[0m\u001b[0m\n\u001b[0m",
      "\u001b[1;31mIndexError\u001b[0m: list index out of range"
     ]
    }
   ],
   "source": [
    "contents= []\n",
    "for tag in tags:\n",
    "    title= tag.select('div[class=\"Text-wvugs1-0 jsWCXI\"]')\n",
    "    name= tag.select('div[data-testid=\"name\"]')\n",
    "    country= tag.select('div[class=\"flexview__FlexView-sc-15q74yn-0 hIrrtt FlexView\"] > div[title]')\n",
    "    category= tag.select('div[data-key=\"product_id.category_id\"]')\n",
    "    print([title[0].text.strip(), name[0].text.strip(), country[0]['title'], category[0].text.strip()])\n"
   ]
  },
  {
   "cell_type": "code",
   "execution_count": null,
   "id": "acebd442",
   "metadata": {},
   "outputs": [],
   "source": []
  }
 ],
 "metadata": {
  "kernelspec": {
   "display_name": "Python 3",
   "language": "python",
   "name": "python3"
  },
  "language_info": {
   "codemirror_mode": {
    "name": "ipython",
    "version": 3
   },
   "file_extension": ".py",
   "mimetype": "text/x-python",
   "name": "python",
   "nbconvert_exporter": "python",
   "pygments_lexer": "ipython3",
   "version": "3.6.4"
  }
 },
 "nbformat": 4,
 "nbformat_minor": 5
}
