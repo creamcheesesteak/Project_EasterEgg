{
 "cells": [
  {
   "cell_type": "code",
   "execution_count": 1,
   "id": "ad0f0dff",
   "metadata": {},
   "outputs": [],
   "source": [
    "from selenium import webdriver"
   ]
  },
  {
   "cell_type": "code",
   "execution_count": 2,
   "id": "36d745b2",
   "metadata": {},
   "outputs": [],
   "source": [
    "browser= webdriver.Chrome('C:\\chromedriver.exe')"
   ]
  },
  {
   "cell_type": "code",
   "execution_count": 3,
   "id": "470cf9ed",
   "metadata": {},
   "outputs": [],
   "source": [
    "browser.get('https://www.appannie.com/intelligence/top-apps/store-rank/ios?date=%272021-07-19%27&country_code=KR&device_code=ios-phone&category_id=100000&store_rank_ios_chart_free$previous_range$chart_compare_facets=!(store_product_rank_grossing__aggr)&store-rank.ios.view=free&store_rank.ios.chart_range=7')"
   ]
  },
  {
   "cell_type": "code",
   "execution_count": 4,
   "id": "2c50733f",
   "metadata": {},
   "outputs": [],
   "source": [
    "html= browser.page_source"
   ]
  },
  {
   "cell_type": "code",
   "execution_count": 5,
   "id": "41fda5c0",
   "metadata": {},
   "outputs": [],
   "source": [
    "from bs4 import BeautifulSoup"
   ]
  },
  {
   "cell_type": "code",
   "execution_count": 6,
   "id": "1e038e4f",
   "metadata": {},
   "outputs": [],
   "source": [
    "soup= BeautifulSoup(html, 'html.parser')"
   ]
  },
  {
   "cell_type": "code",
   "execution_count": 7,
   "id": "070fa002",
   "metadata": {},
   "outputs": [
    {
     "data": {
      "text/plain": [
       "(34, bs4.element.ResultSet)"
      ]
     },
     "execution_count": 7,
     "metadata": {},
     "output_type": "execute_result"
    }
   ],
   "source": [
    "tags= soup.select('div[aria-rowindex]')\n",
    "len(tags), type(tags)"
   ]
  },
  {
   "cell_type": "code",
   "execution_count": 8,
   "id": "36b7ab97",
   "metadata": {},
   "outputs": [],
   "source": [
    "tag= tags[0]"
   ]
  },
  {
   "cell_type": "markdown",
   "id": "f39f2224",
   "metadata": {},
   "source": [
    "### 어플 제목"
   ]
  },
  {
   "cell_type": "code",
   "execution_count": 9,
   "id": "a0ab9504",
   "metadata": {},
   "outputs": [],
   "source": [
    "title= tag.select('a[title] > div[class=\"Text-wvugs1-0 jsWCXI\"]')"
   ]
  },
  {
   "cell_type": "code",
   "execution_count": 10,
   "id": "823b0cd3",
   "metadata": {},
   "outputs": [
    {
     "data": {
      "text/plain": [
       "(1,\n",
       " <div class=\"Text-wvugs1-0 jsWCXI\">질병관리청 COOV(코로나19 전자예방접종증명서)</div>,\n",
       " bs4.element.ResultSet)"
      ]
     },
     "execution_count": 10,
     "metadata": {},
     "output_type": "execute_result"
    }
   ],
   "source": [
    "len(title), title[0], type(title)"
   ]
  },
  {
   "cell_type": "code",
   "execution_count": 11,
   "id": "f66e1b51",
   "metadata": {},
   "outputs": [
    {
     "data": {
      "text/plain": [
       "'질병관리청 COOV(코로나19 전자예방접종증명서)'"
      ]
     },
     "execution_count": 11,
     "metadata": {},
     "output_type": "execute_result"
    }
   ],
   "source": [
    "title[0].text.strip()"
   ]
  },
  {
   "cell_type": "code",
   "execution_count": null,
   "id": "bf0e86ab",
   "metadata": {},
   "outputs": [],
   "source": []
  },
  {
   "cell_type": "markdown",
   "id": "a8539e79",
   "metadata": {},
   "source": [
    "### 어플 만든 회사 이름"
   ]
  },
  {
   "cell_type": "code",
   "execution_count": 12,
   "id": "88da344e",
   "metadata": {},
   "outputs": [],
   "source": [
    "name= tag.select('div[data-testid=\"name\"]')"
   ]
  },
  {
   "cell_type": "code",
   "execution_count": 13,
   "id": "17fa6f9e",
   "metadata": {},
   "outputs": [
    {
     "data": {
      "text/plain": [
       "(1,\n",
       " <div class=\"Text-wvugs1-0 hEWwJX\" data-testid=\"name\" title=\"질병관리본부\">질병관리본부</div>,\n",
       " bs4.element.ResultSet)"
      ]
     },
     "execution_count": 13,
     "metadata": {},
     "output_type": "execute_result"
    }
   ],
   "source": [
    "len(name), name[0], type(name)"
   ]
  },
  {
   "cell_type": "code",
   "execution_count": null,
   "id": "f9046493",
   "metadata": {},
   "outputs": [],
   "source": [
    "name[0].text.strip()"
   ]
  },
  {
   "cell_type": "markdown",
   "id": "fc5facdd",
   "metadata": {},
   "source": [
    "### 어플 만든 회사 국적"
   ]
  },
  {
   "cell_type": "code",
   "execution_count": null,
   "id": "37633b6a",
   "metadata": {},
   "outputs": [],
   "source": [
    "country= tag.select('div[class=\"flexview__FlexView-sc-15q74yn-0 hIrrtt FlexView\"] > div[title]')"
   ]
  },
  {
   "cell_type": "code",
   "execution_count": null,
   "id": "a69fecd3",
   "metadata": {},
   "outputs": [],
   "source": [
    "len(country), country[0], type(country)"
   ]
  },
  {
   "cell_type": "code",
   "execution_count": null,
   "id": "c30be84d",
   "metadata": {},
   "outputs": [],
   "source": [
    "country[0]['title']"
   ]
  },
  {
   "cell_type": "markdown",
   "id": "95dfdea9",
   "metadata": {},
   "source": [
    "### 어플 카테고리"
   ]
  },
  {
   "cell_type": "code",
   "execution_count": null,
   "id": "21cd18c3",
   "metadata": {},
   "outputs": [],
   "source": [
    "category= tag.select('div[data-key=\"product_id.category_id\"]')"
   ]
  },
  {
   "cell_type": "code",
   "execution_count": null,
   "id": "431413b7",
   "metadata": {},
   "outputs": [],
   "source": [
    "len(category), category[0], type(category)"
   ]
  },
  {
   "cell_type": "code",
   "execution_count": null,
   "id": "83828ad7",
   "metadata": {},
   "outputs": [],
   "source": [
    "category[0].text.strip()"
   ]
  },
  {
   "cell_type": "markdown",
   "id": "561222e1",
   "metadata": {},
   "source": [
    "### for문 합치기"
   ]
  },
  {
   "cell_type": "code",
   "execution_count": null,
   "id": "c9096483",
   "metadata": {},
   "outputs": [],
   "source": [
    "contents= []\n",
    "for tag in tags:\n",
    "    title= tag.select('a[title] > div[class=\"Text-wvugs1-0 jsWCXI\"]')\n",
    "    contents.append([ title[0].text.strip()])\n",
    "    \n",
    "contents"
   ]
  },
  {
   "cell_type": "code",
   "execution_count": null,
   "id": "86bfa7c4",
   "metadata": {},
   "outputs": [],
   "source": []
  },
  {
   "cell_type": "code",
   "execution_count": null,
   "id": "d0a69393",
   "metadata": {},
   "outputs": [],
   "source": []
  }
 ],
 "metadata": {
  "kernelspec": {
   "display_name": "Python 3",
   "language": "python",
   "name": "python3"
  },
  "language_info": {
   "codemirror_mode": {
    "name": "ipython",
    "version": 3
   },
   "file_extension": ".py",
   "mimetype": "text/x-python",
   "name": "python",
   "nbconvert_exporter": "python",
   "pygments_lexer": "ipython3",
   "version": "3.6.4"
  }
 },
 "nbformat": 4,
 "nbformat_minor": 5
}
