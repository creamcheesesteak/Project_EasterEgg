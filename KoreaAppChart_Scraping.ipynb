{
 "cells": [
  {
   "cell_type": "code",
   "execution_count": 31,
   "id": "ad0f0dff",
   "metadata": {},
   "outputs": [],
   "source": [
    "from selenium import webdriver"
   ]
  },
  {
   "cell_type": "code",
   "execution_count": 32,
   "id": "36d745b2",
   "metadata": {},
   "outputs": [],
   "source": [
    "browser= webdriver.Chrome('C:\\chromedriver.exe')"
   ]
  },
  {
   "cell_type": "code",
   "execution_count": 33,
   "id": "470cf9ed",
   "metadata": {},
   "outputs": [],
   "source": [
    "browser.get('https://www.appannie.com/intelligence/top-apps/store-rank/ios?date=%272021-07-19%27&country_code=KR&device_code=ios-phone&category_id=100000&store-rank.ios.view=free&store_rank_ios_chart_free$previous_range$chart_compare_facets=!(store_product_rank_grossing__aggr)&store_rank.ios.chart_range=7')"
   ]
  },
  {
   "cell_type": "code",
   "execution_count": 34,
   "id": "d6a5e79d",
   "metadata": {},
   "outputs": [],
   "source": [
    "html= browser.page_source"
   ]
  },
  {
   "cell_type": "code",
   "execution_count": 35,
   "id": "4e8a7db7",
   "metadata": {},
   "outputs": [],
   "source": [
    "from bs4 import BeautifulSoup"
   ]
  },
  {
   "cell_type": "code",
   "execution_count": 36,
   "id": "fb6ad0eb",
   "metadata": {},
   "outputs": [
    {
     "data": {
      "text/plain": [
       "(1, bs4.BeautifulSoup)"
      ]
     },
     "execution_count": 36,
     "metadata": {},
     "output_type": "execute_result"
    }
   ],
   "source": [
    "soup= BeautifulSoup(html, 'html.parser')\n",
    "len(soup), type(soup)"
   ]
  },
  {
   "cell_type": "code",
   "execution_count": 37,
   "id": "936bb950",
   "metadata": {},
   "outputs": [
    {
     "data": {
      "text/plain": [
       "(30, bs4.element.ResultSet)"
      ]
     },
     "execution_count": 37,
     "metadata": {},
     "output_type": "execute_result"
    }
   ],
   "source": [
    "tags= soup.select('div[aria-rowindex]')\n",
    "len(tags), type(tags)"
   ]
  },
  {
   "cell_type": "code",
   "execution_count": 38,
   "id": "84d71126",
   "metadata": {},
   "outputs": [],
   "source": [
    "tag= tags[0]"
   ]
  },
  {
   "cell_type": "markdown",
   "id": "6ceeb0af",
   "metadata": {},
   "source": [
    "### 어플 제목"
   ]
  },
  {
   "cell_type": "code",
   "execution_count": 39,
   "id": "7ed84cde",
   "metadata": {},
   "outputs": [],
   "source": [
    "title= tag.select('div[class=\"Text-wvugs1-0 jsWCXI\"]')"
   ]
  },
  {
   "cell_type": "code",
   "execution_count": 40,
   "id": "c120423c",
   "metadata": {},
   "outputs": [
    {
     "data": {
      "text/plain": [
       "(<div class=\"Text-wvugs1-0 jsWCXI\">Time Princess: Dress Up</div>,\n",
       " bs4.element.Tag)"
      ]
     },
     "execution_count": 40,
     "metadata": {},
     "output_type": "execute_result"
    }
   ],
   "source": [
    "title[0], type(title[0])"
   ]
  },
  {
   "cell_type": "code",
   "execution_count": 41,
   "id": "0ba613bc",
   "metadata": {},
   "outputs": [
    {
     "data": {
      "text/plain": [
       "'Time Princess: Dress Up'"
      ]
     },
     "execution_count": 41,
     "metadata": {},
     "output_type": "execute_result"
    }
   ],
   "source": [
    "title[0].text.strip()"
   ]
  },
  {
   "cell_type": "markdown",
   "id": "d6b05631",
   "metadata": {},
   "source": [
    "### 어플 만든 회사 이름"
   ]
  },
  {
   "cell_type": "code",
   "execution_count": 42,
   "id": "8a886cc8",
   "metadata": {},
   "outputs": [],
   "source": [
    "name= tag.select('div[data-testid=\"name\"]')"
   ]
  },
  {
   "cell_type": "code",
   "execution_count": 43,
   "id": "6d8e8baf",
   "metadata": {},
   "outputs": [
    {
     "data": {
      "text/plain": [
       "(<div class=\"Text-wvugs1-0 hEWwJX\" data-testid=\"name\" title=\"IGG\">IGG</div>,\n",
       " bs4.element.Tag)"
      ]
     },
     "execution_count": 43,
     "metadata": {},
     "output_type": "execute_result"
    }
   ],
   "source": [
    "name[0], type(name[0])"
   ]
  },
  {
   "cell_type": "code",
   "execution_count": 44,
   "id": "9c9d1501",
   "metadata": {},
   "outputs": [
    {
     "data": {
      "text/plain": [
       "'IGG'"
      ]
     },
     "execution_count": 44,
     "metadata": {},
     "output_type": "execute_result"
    }
   ],
   "source": [
    "name[0].text.strip()"
   ]
  },
  {
   "cell_type": "markdown",
   "id": "120ddba9",
   "metadata": {},
   "source": [
    "### 어플 만든 회사 국적"
   ]
  },
  {
   "cell_type": "code",
   "execution_count": 55,
   "id": "6b84fcc1",
   "metadata": {},
   "outputs": [],
   "source": [
    "country= tag.select('div[class=\"flexview__FlexView-sc-15q74yn-0 hIrrtt FlexView\"] > div[title]')"
   ]
  },
  {
   "cell_type": "code",
   "execution_count": 56,
   "id": "da9a48b3",
   "metadata": {},
   "outputs": [
    {
     "data": {
      "text/plain": [
       "(<div class=\"Flag__StyledFlag-sc-161hlrc-0 fOybwW flag-icon-cn\" role=\"img\" style=\"width: 16px; height: 11px; background-size: 16px 2772px; background-position: 0px -506px;\" title=\"China\"></div>,\n",
       " bs4.element.Tag)"
      ]
     },
     "execution_count": 56,
     "metadata": {},
     "output_type": "execute_result"
    }
   ],
   "source": [
    "country[0], type(country[0])"
   ]
  },
  {
   "cell_type": "code",
   "execution_count": 60,
   "id": "4813121b",
   "metadata": {},
   "outputs": [
    {
     "data": {
      "text/plain": [
       "'China'"
      ]
     },
     "execution_count": 60,
     "metadata": {},
     "output_type": "execute_result"
    }
   ],
   "source": [
    "country[0]['title']"
   ]
  },
  {
   "cell_type": "markdown",
   "id": "ab74a78b",
   "metadata": {},
   "source": [
    "### 어플 카테고리"
   ]
  },
  {
   "cell_type": "code",
   "execution_count": 47,
   "id": "0a6b8b43",
   "metadata": {},
   "outputs": [],
   "source": [
    "category= tag.select('div[data-key=\"product_id.category_id\"]')"
   ]
  },
  {
   "cell_type": "code",
   "execution_count": 48,
   "id": "da6300db",
   "metadata": {},
   "outputs": [
    {
     "data": {
      "text/plain": [
       "(<div class=\"flexview__FlexView-sc-15q74yn-0 PureCell__Cell-sc-1jeh9d2-0 frRTcx PureCell_Cell FlexView\" data-key=\"product_id.category_id\" data-testid=\"table-cell#product_id.category_id\">Games</div>,\n",
       " bs4.element.ResultSet)"
      ]
     },
     "execution_count": 48,
     "metadata": {},
     "output_type": "execute_result"
    }
   ],
   "source": [
    "category[0], type(category)"
   ]
  },
  {
   "cell_type": "code",
   "execution_count": 49,
   "id": "8cc78a8c",
   "metadata": {},
   "outputs": [
    {
     "data": {
      "text/plain": [
       "'Games'"
      ]
     },
     "execution_count": 49,
     "metadata": {},
     "output_type": "execute_result"
    }
   ],
   "source": [
    "category[0].text.strip()"
   ]
  },
  {
   "cell_type": "code",
   "execution_count": null,
   "id": "01388ef5",
   "metadata": {},
   "outputs": [],
   "source": []
  },
  {
   "cell_type": "markdown",
   "id": "257cf89d",
   "metadata": {},
   "source": [
    "### for문 합치기"
   ]
  },
  {
   "cell_type": "code",
   "execution_count": null,
   "id": "45158b63",
   "metadata": {},
   "outputs": [],
   "source": []
  }
 ],
 "metadata": {
  "kernelspec": {
   "display_name": "Python 3",
   "language": "python",
   "name": "python3"
  },
  "language_info": {
   "codemirror_mode": {
    "name": "ipython",
    "version": 3
   },
   "file_extension": ".py",
   "mimetype": "text/x-python",
   "name": "python",
   "nbconvert_exporter": "python",
   "pygments_lexer": "ipython3",
   "version": "3.6.4"
  }
 },
 "nbformat": 4,
 "nbformat_minor": 5
}
