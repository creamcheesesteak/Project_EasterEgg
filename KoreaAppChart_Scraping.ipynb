{
 "cells": [
  {
   "cell_type": "code",
   "execution_count": 1,
   "id": "ad0f0dff",
   "metadata": {},
   "outputs": [],
   "source": [
    "from selenium import webdriver"
   ]
  },
  {
   "cell_type": "code",
   "execution_count": 5,
   "id": "36d745b2",
   "metadata": {},
   "outputs": [],
   "source": [
    "browser= webdriver.Chrome('C:\\chromedriver.exe')"
   ]
  },
  {
   "cell_type": "code",
   "execution_count": 6,
   "id": "470cf9ed",
   "metadata": {},
   "outputs": [],
   "source": [
    "browser.get('https://www.appannie.com/intelligence/top-apps/store-rank/ios?date=%272021-07-19%27&country_code=KR&device_code=ios-phone&category_id=100000&store-rank.ios.view=free&store_rank_ios_chart_free$previous_range$chart_compare_facets=!(store_product_rank_grossing__aggr)&store_rank.ios.chart_range=7')"
   ]
  },
  {
   "cell_type": "code",
   "execution_count": 7,
   "id": "592f0803",
   "metadata": {},
   "outputs": [],
   "source": [
    "html= browser.page_source"
   ]
  },
  {
   "cell_type": "code",
   "execution_count": 8,
   "id": "368837b8",
   "metadata": {},
   "outputs": [],
   "source": [
    "from bs4 import BeautifulSoup"
   ]
  },
  {
   "cell_type": "code",
   "execution_count": 10,
   "id": "14e61c3f",
   "metadata": {},
   "outputs": [
    {
     "data": {
      "text/plain": [
       "(1, bs4.BeautifulSoup)"
      ]
     },
     "execution_count": 10,
     "metadata": {},
     "output_type": "execute_result"
    }
   ],
   "source": [
    "soup= BeautifulSoup(html, 'html.parser')\n",
    "len(soup), type(soup)"
   ]
  },
  {
   "cell_type": "code",
   "execution_count": 43,
   "id": "1e52c04e",
   "metadata": {},
   "outputs": [
    {
     "data": {
      "text/plain": [
       "(15, bs4.element.ResultSet)"
      ]
     },
     "execution_count": 43,
     "metadata": {},
     "output_type": "execute_result"
    }
   ],
   "source": [
    "tags= soup.select('div[class=\"ReactVirtualized__Grid__innerScrollContainer\"] > div > div[aria-colindex=\"3\"]')\n",
    "len(tags), type(tags)"
   ]
  },
  {
   "cell_type": "code",
   "execution_count": 59,
   "id": "5e251284",
   "metadata": {},
   "outputs": [],
   "source": [
    "tag= tags[0]"
   ]
  },
  {
   "cell_type": "code",
   "execution_count": 60,
   "id": "f487b793",
   "metadata": {},
   "outputs": [],
   "source": [
    "title= tag.select('div[class=\"Text-wvugs1-0 jsWCXI\"]')"
   ]
  },
  {
   "cell_type": "code",
   "execution_count": 61,
   "id": "0c967420",
   "metadata": {},
   "outputs": [
    {
     "data": {
      "text/plain": [
       "(<div class=\"Text-wvugs1-0 jsWCXI\">타임 프린세스</div>, bs4.element.Tag)"
      ]
     },
     "execution_count": 61,
     "metadata": {},
     "output_type": "execute_result"
    }
   ],
   "source": [
    "title[0], type(title[0])"
   ]
  },
  {
   "cell_type": "code",
   "execution_count": 62,
   "id": "3512c1a4",
   "metadata": {},
   "outputs": [
    {
     "data": {
      "text/plain": [
       "'타임 프린세스'"
      ]
     },
     "execution_count": 62,
     "metadata": {},
     "output_type": "execute_result"
    }
   ],
   "source": [
    "title[0].text.strip()"
   ]
  },
  {
   "cell_type": "code",
   "execution_count": 63,
   "id": "497ceb7e",
   "metadata": {},
   "outputs": [],
   "source": [
    "name= tag.select('div[data-testid=\"name\"]')"
   ]
  },
  {
   "cell_type": "code",
   "execution_count": 64,
   "id": "61f8d897",
   "metadata": {},
   "outputs": [
    {
     "data": {
      "text/plain": [
       "(<div class=\"Text-wvugs1-0 hEWwJX\" data-testid=\"name\" title=\"IGG\">IGG</div>,\n",
       " bs4.element.Tag)"
      ]
     },
     "execution_count": 64,
     "metadata": {},
     "output_type": "execute_result"
    }
   ],
   "source": [
    "name[0], type(name[0])"
   ]
  },
  {
   "cell_type": "code",
   "execution_count": 65,
   "id": "81d6eb92",
   "metadata": {},
   "outputs": [
    {
     "data": {
      "text/plain": [
       "'IGG'"
      ]
     },
     "execution_count": 65,
     "metadata": {},
     "output_type": "execute_result"
    }
   ],
   "source": [
    "name[0].text.strip()"
   ]
  },
  {
   "cell_type": "code",
   "execution_count": null,
   "id": "a3570d4d",
   "metadata": {},
   "outputs": [],
   "source": []
  },
  {
   "cell_type": "code",
   "execution_count": 77,
   "id": "6b725765",
   "metadata": {},
   "outputs": [],
   "source": [
    "country= tag.select('div[class=\"flexview__FlexView-sc-15q74yn-0 hIrrtt FlexView\"]')"
   ]
  },
  {
   "cell_type": "code",
   "execution_count": null,
   "id": "525fbea7",
   "metadata": {},
   "outputs": [],
   "source": []
  },
  {
   "cell_type": "code",
   "execution_count": null,
   "id": "d451d199",
   "metadata": {},
   "outputs": [],
   "source": []
  }
 ],
 "metadata": {
  "kernelspec": {
   "display_name": "Python 3",
   "language": "python",
   "name": "python3"
  },
  "language_info": {
   "codemirror_mode": {
    "name": "ipython",
    "version": 3
   },
   "file_extension": ".py",
   "mimetype": "text/x-python",
   "name": "python",
   "nbconvert_exporter": "python",
   "pygments_lexer": "ipython3",
   "version": "3.6.4"
  }
 },
 "nbformat": 4,
 "nbformat_minor": 5
}
