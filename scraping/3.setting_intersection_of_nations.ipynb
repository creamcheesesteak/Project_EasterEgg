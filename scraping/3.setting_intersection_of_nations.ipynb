{
 "cells": [
  {
   "cell_type": "code",
   "execution_count": 1,
   "id": "aa598d6f",
   "metadata": {},
   "outputs": [],
   "source": [
    "import pandas as pd\n",
    "import numpy as np\n",
    "import csv"
   ]
  },
  {
   "cell_type": "code",
   "execution_count": 2,
   "id": "2858ac9f",
   "metadata": {},
   "outputs": [],
   "source": [
    "ios_nation = ['Anguilla', 'Antigua and Barbuda', 'Argentina', 'Bahamas', 'Barbados', 'Belize', 'Bermuda', 'Bolivia', 'Brazil', 'British Virgin Islands', 'Cayman Islands', 'Chile', 'Colombia', 'Costa Rica', 'Dominica', 'Dominican Republic', 'Ecuador', 'El Salvador', 'Grenada', 'Guatemala', 'Guyana', 'Honduras', 'Jamaica', 'Mexico', 'Montserrat', 'Nicaragua', 'Panama', 'Paraguay', 'Peru', 'Suriname', 'Trinidad and Tobago', 'Turks and Caicos', 'Uruguay', 'Venezuela', 'Albania', 'Austria', 'Belarus', 'Belgium', 'Bosnia and Herzegovina', 'Bulgaria', 'Croatia', 'Cyprus', 'Czech Republic', 'Denmark', 'Estonia', 'Finland', 'France', 'Georgia', 'Germany', 'Greece', 'Hungary', 'Iceland', 'Ireland', 'Italy', 'Kazakhstan', 'Kosovo', 'Kyrgyzstan', 'Latvia', 'Lithuania', 'Luxembourg', 'Malta', 'Moldova', 'Montenegro', 'Netherlands', 'Norway', 'Poland', 'Portugal', 'Romania', 'Russia', 'Serbia', 'Slovakia', 'Slovenia', 'Spain', 'Sweden', 'Switzerland', 'Tajikistan', 'Turkmenistan', 'Ukraine', 'United Kingdom', 'Uzbekistan', 'Algeria', 'Angola', 'Benin', 'Botswana', 'Burkina Faso', 'Cameroon', 'Cape Verde', 'Chad', 'Gabon', 'Ghana', 'Guinea-Bissau', 'Kenya', 'Liberia', 'Madagascar', 'Malawi', 'Mali', 'Mauritania', 'Mauritius', 'Morocco', 'Mozambique', 'Namibia', 'Niger', 'Nigeria', 'Rwanda', 'Senegal', 'Seychelles', 'Sierra Leone', 'South Africa', 'Tanzania', 'Tunisia', 'Uganda', 'Zambia', 'Zimbabwe', 'Australia', 'Bhutan', 'Brunei', 'Cambodia', 'Fiji', 'Hong Kong', 'India', 'Indonesia', 'Japan', 'Laos', 'Macau', 'Malaysia', 'Maldives', 'Micronesia', 'Mongolia', 'Myanmar', 'Nauru', 'Nepal', 'New Zealand', 'Pakistan', 'Palau', 'Papua New Guinea', 'Philippines', 'Singapore', 'Solomon Islands', 'South Korea', 'Sri Lanka', 'Taiwan', 'Thailand', 'Tonga', 'Vanuatu', 'Vietnam', 'Afghanistan', 'Armenia', 'Azerbaijan', 'Bahrain', 'Egypt', 'Iraq', 'Israel', 'Jordan', 'Kuwait', 'Lebanon', 'Libya', 'Oman', 'Qatar', 'Saudi Arabia', 'Turkey', 'United Arab Emirates', 'Yemen', 'Democratic Republic of the Congo', 'Republic of the Congo', 'Gambia']"
   ]
  },
  {
   "cell_type": "code",
   "execution_count": 3,
   "id": "053c8066",
   "metadata": {},
   "outputs": [
    {
     "data": {
      "text/plain": [
       "165"
      ]
     },
     "execution_count": 3,
     "metadata": {},
     "output_type": "execute_result"
    }
   ],
   "source": [
    "len(ios_nation)"
   ]
  },
  {
   "cell_type": "code",
   "execution_count": 4,
   "id": "340dcd8f",
   "metadata": {},
   "outputs": [],
   "source": [
    "gp_nation = ['Jordan', 'Ireland', 'Vietnam', 'Algeria', 'Latvia', 'Kuwait', 'Slovenia', 'Singapore', 'United Kingdom', 'Belgium', 'Argentina', 'Portugal', 'Romania', 'Colombia', 'Tanzania', 'Dominican Republic', 'Iraq', 'Israel', 'Thailand', 'Czech Republic', 'Indonesia', 'Venezuela', 'Bulgaria', 'Lithuania', 'Tunisia', 'Taiwan', 'South Korea', 'Austria', 'Azerbaijan', 'Macau', 'Germany', 'Yemen', 'Oman', 'Guatemala', 'Moldova', 'Hungary', 'Panama', 'Ecuador', 'Uzbekistan', 'Mexico', 'Kenya', 'Pakistan', 'Jamaica', 'Peru', 'Slovakia', 'Brazil', 'Norway', 'Lebanon', 'Hong Kong', 'Chile', 'Italy', 'Ghana', 'Paraguay', 'Croatia', 'Morocco', 'Bosnia and Herzegovina', 'Iran', 'Niger', 'Canada', 'Kyrgyzstan', 'Sweden', 'South Africa', 'Turkey', 'Bolivia', 'Philippines', 'Armenia', 'China', 'Uruguay', 'Kazakhstan', 'Nepal', 'New Zealand', 'Nigeria', 'Trinidad and Tobago', 'Sri Lanka', 'India', 'Japan', 'Belarus', 'Dominica', 'Costa Rica', 'Greece', 'Honduras', 'Saudi Arabia', 'United Arab Emirates', 'Bahrain', 'El Salvador', 'Switzerland', 'Cambodia', 'Spain', 'Luxembourg', 'Malaysia', 'Qatar', 'Australia', 'Poland', 'Bangladesh', 'Serbia', 'Netherlands', 'Egypt', 'Finland', 'Ukraine', 'France', 'Denmark', 'Russia', 'United States']"
   ]
  },
  {
   "cell_type": "code",
   "execution_count": 5,
   "id": "b1f058d3",
   "metadata": {},
   "outputs": [
    {
     "data": {
      "text/plain": [
       "103"
      ]
     },
     "execution_count": 5,
     "metadata": {},
     "output_type": "execute_result"
    }
   ],
   "source": [
    "len(gp_nation)"
   ]
  },
  {
   "cell_type": "code",
   "execution_count": 6,
   "id": "266655a9",
   "metadata": {},
   "outputs": [],
   "source": [
    "nation = (set(ios_nation) & set(gp_nation))"
   ]
  },
  {
   "cell_type": "code",
   "execution_count": 7,
   "id": "3dce9b44",
   "metadata": {},
   "outputs": [
    {
     "data": {
      "text/plain": [
       "98"
      ]
     },
     "execution_count": 7,
     "metadata": {},
     "output_type": "execute_result"
    }
   ],
   "source": [
    "len(nation)"
   ]
  },
  {
   "cell_type": "code",
   "execution_count": 8,
   "id": "9c0460a8",
   "metadata": {},
   "outputs": [
    {
     "data": {
      "text/plain": [
       "{'Algeria',\n",
       " 'Argentina',\n",
       " 'Armenia',\n",
       " 'Australia',\n",
       " 'Austria',\n",
       " 'Azerbaijan',\n",
       " 'Bahrain',\n",
       " 'Belarus',\n",
       " 'Belgium',\n",
       " 'Bolivia',\n",
       " 'Bosnia and Herzegovina',\n",
       " 'Brazil',\n",
       " 'Bulgaria',\n",
       " 'Cambodia',\n",
       " 'Chile',\n",
       " 'Colombia',\n",
       " 'Costa Rica',\n",
       " 'Croatia',\n",
       " 'Czech Republic',\n",
       " 'Denmark',\n",
       " 'Dominica',\n",
       " 'Dominican Republic',\n",
       " 'Ecuador',\n",
       " 'Egypt',\n",
       " 'El Salvador',\n",
       " 'Finland',\n",
       " 'France',\n",
       " 'Germany',\n",
       " 'Ghana',\n",
       " 'Greece',\n",
       " 'Guatemala',\n",
       " 'Honduras',\n",
       " 'Hong Kong',\n",
       " 'Hungary',\n",
       " 'India',\n",
       " 'Indonesia',\n",
       " 'Iraq',\n",
       " 'Ireland',\n",
       " 'Israel',\n",
       " 'Italy',\n",
       " 'Jamaica',\n",
       " 'Japan',\n",
       " 'Jordan',\n",
       " 'Kazakhstan',\n",
       " 'Kenya',\n",
       " 'Kuwait',\n",
       " 'Kyrgyzstan',\n",
       " 'Latvia',\n",
       " 'Lebanon',\n",
       " 'Lithuania',\n",
       " 'Luxembourg',\n",
       " 'Macau',\n",
       " 'Malaysia',\n",
       " 'Mexico',\n",
       " 'Moldova',\n",
       " 'Morocco',\n",
       " 'Nepal',\n",
       " 'Netherlands',\n",
       " 'New Zealand',\n",
       " 'Niger',\n",
       " 'Nigeria',\n",
       " 'Norway',\n",
       " 'Oman',\n",
       " 'Pakistan',\n",
       " 'Panama',\n",
       " 'Paraguay',\n",
       " 'Peru',\n",
       " 'Philippines',\n",
       " 'Poland',\n",
       " 'Portugal',\n",
       " 'Qatar',\n",
       " 'Romania',\n",
       " 'Russia',\n",
       " 'Saudi Arabia',\n",
       " 'Serbia',\n",
       " 'Singapore',\n",
       " 'Slovakia',\n",
       " 'Slovenia',\n",
       " 'South Africa',\n",
       " 'South Korea',\n",
       " 'Spain',\n",
       " 'Sri Lanka',\n",
       " 'Sweden',\n",
       " 'Switzerland',\n",
       " 'Taiwan',\n",
       " 'Tanzania',\n",
       " 'Thailand',\n",
       " 'Trinidad and Tobago',\n",
       " 'Tunisia',\n",
       " 'Turkey',\n",
       " 'Ukraine',\n",
       " 'United Arab Emirates',\n",
       " 'United Kingdom',\n",
       " 'Uruguay',\n",
       " 'Uzbekistan',\n",
       " 'Venezuela',\n",
       " 'Vietnam',\n",
       " 'Yemen'}"
      ]
     },
     "execution_count": 8,
     "metadata": {},
     "output_type": "execute_result"
    }
   ],
   "source": [
    "nation"
   ]
  },
  {
   "cell_type": "code",
   "execution_count": null,
   "id": "2d4943e6",
   "metadata": {},
   "outputs": [],
   "source": []
  },
  {
   "cell_type": "code",
   "execution_count": null,
   "id": "97bfec3f",
   "metadata": {},
   "outputs": [],
   "source": []
  },
  {
   "cell_type": "code",
   "execution_count": null,
   "id": "f2c9bfd8",
   "metadata": {},
   "outputs": [],
   "source": []
  },
  {
   "cell_type": "code",
   "execution_count": null,
   "id": "57bc3d17",
   "metadata": {},
   "outputs": [],
   "source": []
  },
  {
   "cell_type": "code",
   "execution_count": null,
   "id": "0443a509",
   "metadata": {},
   "outputs": [],
   "source": []
  },
  {
   "cell_type": "code",
   "execution_count": null,
   "id": "14cb2de0",
   "metadata": {},
   "outputs": [],
   "source": []
  },
  {
   "cell_type": "code",
   "execution_count": null,
   "id": "f14d9414",
   "metadata": {},
   "outputs": [],
   "source": []
  },
  {
   "cell_type": "code",
   "execution_count": null,
   "id": "c5649f8c",
   "metadata": {},
   "outputs": [],
   "source": []
  }
 ],
 "metadata": {
  "kernelspec": {
   "display_name": "Python 3",
   "language": "python",
   "name": "python3"
  },
  "language_info": {
   "codemirror_mode": {
    "name": "ipython",
    "version": 3
   },
   "file_extension": ".py",
   "mimetype": "text/x-python",
   "name": "python",
   "nbconvert_exporter": "python",
   "pygments_lexer": "ipython3",
   "version": "3.6.4"
  }
 },
 "nbformat": 4,
 "nbformat_minor": 5
}
