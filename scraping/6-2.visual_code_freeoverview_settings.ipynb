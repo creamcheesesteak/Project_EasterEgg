{
 "cells": [
  {
   "cell_type": "code",
   "execution_count": 46,
   "id": "0c29f12a",
   "metadata": {},
   "outputs": [],
   "source": [
    "import sqlite3\n",
    "import pandas as pd\n",
    "import numpy as np\n",
    "import collections\n",
    "import matplotlib.pyplot as plt"
   ]
  },
  {
   "cell_type": "code",
   "execution_count": 47,
   "id": "82a45df3",
   "metadata": {},
   "outputs": [],
   "source": [
    "nation = 'Brazil'"
   ]
  },
  {
   "cell_type": "code",
   "execution_count": 48,
   "id": "9e58019d",
   "metadata": {},
   "outputs": [],
   "source": [
    "db_nation = sqlite3.connect('C:/Develops/Project_multi_A3/nation.db')\n",
    "c = db_nation.cursor()\n",
    "# df = pd.read_sql(\"SELECT * FROM i_f_\" + nation + \"\", db_nation, index_col=None)"
   ]
  },
  {
   "cell_type": "code",
   "execution_count": 49,
   "id": "f92c624d",
   "metadata": {},
   "outputs": [],
   "source": [
    "df_if = pd.read_sql(\"SELECT * FROM i_f_\"+ nation +\"\", db_nation, index_col=None)\n",
    "df_ip = pd.read_sql(\"SELECT * FROM i_p_\"+ nation +\"\", db_nation, index_col=None)\n",
    "df_gpf = pd.read_sql(\"SELECT * FROM gp_f_\"+ nation +\"\", db_nation, index_col=None)\n",
    "df_gpp = pd.read_sql(\"SELECT * FROM gp_p_\"+ nation +\"\", db_nation, index_col=None)"
   ]
  },
  {
   "cell_type": "code",
   "execution_count": 50,
   "id": "a085fce6",
   "metadata": {},
   "outputs": [],
   "source": [
    "counts_if = collections.Counter(df_if['App_cat'])\n",
    "counts_gpf = collections.Counter(df_gpf['App_cat'])"
   ]
  },
  {
   "cell_type": "code",
   "execution_count": 51,
   "id": "f132e5a5",
   "metadata": {},
   "outputs": [],
   "source": [
    "dict = {'Life':['Food and Drink (Applications)', 'Health and Fitness (Applications)','Lifestyle (Applications)', 'Weather (Applications)', 'Medical (Applications)', 'Navigation (Applications)','Finance (Applications)', 'Food & Drink (Applications)', 'Social (Applications)', 'Communication (Applications)', 'Maps & Navigation (Applications)'],\n",
    "        'Leisure':['Entertainment (Applications)', 'Shopping (Applications)', 'Social Networking (Applications)', 'Sports (Applications)', 'Travel (Applications)', 'Music (Applications)', 'Photo and Video (Applications)', 'Music & Audio (Applications)', 'Books & Reference (Applications)', 'Art & Design (Applications)'],\n",
    "        'Work':['Business (Applications)', 'Developer Tools (Applications)', 'Graphics & Design (Applications)', 'Productivity (Applications)', 'Video Players & Editors (Applications)', 'Tools (Applications)'],\n",
    "        'Edu':['Books (Applications)', 'Catalogs (Applications)', 'Education (Applications)', 'Reference (Applications)',' Magazines and Newspapers (Applications)', 'News (Applications)', 'Utilities (Applications)']}"
   ]
  },
  {
   "cell_type": "code",
   "execution_count": 52,
   "id": "610a2243",
   "metadata": {},
   "outputs": [],
   "source": [
    "fr_group = ['Life', 'Leisure', 'Work', 'Edu']"
   ]
  },
  {
   "cell_type": "code",
   "execution_count": 53,
   "id": "aaa87b09",
   "metadata": {},
   "outputs": [
    {
     "name": "stdout",
     "output_type": "stream",
     "text": [
      "29\n",
      "43\n",
      "9\n",
      "9\n"
     ]
    }
   ],
   "source": [
    "count_if_group = []\n",
    "sum_if_c = 0\n",
    "for groupif in fr_group: # group : key = Life\n",
    "    groupif = dict[groupif] # dict['Life']\n",
    "    for category in groupif: # Food and Drink (Applications)\n",
    "        for key, value in counts_if.items():\n",
    "            if key == category:\n",
    "                sum_if_c = value + sum_if_c\n",
    "    count_if_group.append(sum_if_c)\n",
    "    print(sum_if_c)\n",
    "    sum_if_c = 0"
   ]
  },
  {
   "cell_type": "code",
   "execution_count": 54,
   "id": "313043dc",
   "metadata": {},
   "outputs": [
    {
     "name": "stdout",
     "output_type": "stream",
     "text": [
      "31\n",
      "24\n",
      "15\n",
      "0\n"
     ]
    }
   ],
   "source": [
    "count_gdf_group = []\n",
    "sum_gdf_c = 0\n",
    "for groupgpf in fr_group: # group : key = Life\n",
    "    groupgpf = dict[groupgpf] # dict['Life']\n",
    "    for category in groupgpf: # Food and Drink (Applications)\n",
    "        for key, value in counts_gpf.items():\n",
    "            if key == category:\n",
    "                sum_gdf_c = value + sum_gdf_c\n",
    "    count_gdf_group.append(sum_gdf_c)\n",
    "    print(sum_gdf_c)\n",
    "    sum_gdf_c = 0"
   ]
  },
  {
   "cell_type": "code",
   "execution_count": 55,
   "id": "5fc3c3e6",
   "metadata": {},
   "outputs": [
    {
     "data": {
      "text/plain": [
       "[29, 43, 9, 9]"
      ]
     },
     "execution_count": 55,
     "metadata": {},
     "output_type": "execute_result"
    }
   ],
   "source": [
    "count_if_group"
   ]
  },
  {
   "cell_type": "code",
   "execution_count": 56,
   "id": "268f9ce7",
   "metadata": {},
   "outputs": [],
   "source": [
    "set_group_if = {x:y for x,y in zip(fr_group, count_if_group)}"
   ]
  },
  {
   "cell_type": "code",
   "execution_count": 57,
   "id": "03243e5f",
   "metadata": {},
   "outputs": [],
   "source": [
    "set_group_gpf = {x:y for x,y in zip(fr_group, count_gdf_group)}"
   ]
  },
  {
   "cell_type": "code",
   "execution_count": 58,
   "id": "5e254b92",
   "metadata": {},
   "outputs": [
    {
     "data": {
      "text/plain": [
       "{'Life': 29, 'Leisure': 43, 'Work': 9, 'Edu': 9}"
      ]
     },
     "execution_count": 58,
     "metadata": {},
     "output_type": "execute_result"
    }
   ],
   "source": [
    "set_group_if"
   ]
  },
  {
   "cell_type": "code",
   "execution_count": 59,
   "id": "b4fb0a83",
   "metadata": {},
   "outputs": [
    {
     "data": {
      "text/plain": [
       "{'Life': 31, 'Leisure': 24, 'Work': 15, 'Edu': 0}"
      ]
     },
     "execution_count": 59,
     "metadata": {},
     "output_type": "execute_result"
    }
   ],
   "source": [
    "set_group_gpf"
   ]
  },
  {
   "cell_type": "code",
   "execution_count": 22,
   "id": "baad52aa",
   "metadata": {},
   "outputs": [
    {
     "data": {
      "text/plain": [
       "Counter({'Photo and Video (Applications)': 13,\n",
       "         'Social Networking (Applications)': 5,\n",
       "         'Shopping (Applications)': 13,\n",
       "         'Entertainment (Applications)': 6,\n",
       "         'Finance (Applications)': 20,\n",
       "         'Productivity (Applications)': 3,\n",
       "         'Food and Drink (Applications)': 4,\n",
       "         'Music (Applications)': 3,\n",
       "         'Navigation (Applications)': 2,\n",
       "         'Travel (Applications)': 2,\n",
       "         'Utilities (Applications)': 8,\n",
       "         'Sports (Applications)': 1,\n",
       "         'Games': 10,\n",
       "         'Lifestyle (Applications)': 2,\n",
       "         'Business (Applications)': 6,\n",
       "         'News (Applications)': 1,\n",
       "         'Medical (Applications)': 1})"
      ]
     },
     "execution_count": 22,
     "metadata": {},
     "output_type": "execute_result"
    }
   ],
   "source": [
    "counts_if"
   ]
  },
  {
   "cell_type": "code",
   "execution_count": null,
   "id": "2f8b3ba8",
   "metadata": {},
   "outputs": [],
   "source": [
    "list_apps = ['Food and Drink (Applications)', 'Health and Fitness (Applications)',\n",
    "            'Lifestyle (Applications)',\n",
    "            'Weather (Applications)', 'Medical (Applications)', 'Navigation (Applications)',\n",
    "            'Finance (Applications)', 'Entertainment (Applications)', 'Shopping (Applications)',\n",
    "            'Social Networking (Applications)', 'Sports (Applications)',\n",
    "            'Travel (Applications)',\n",
    "            'Music (Applications)', 'Photo and Video (Applications)', 'Business (Applications)',\n",
    "            'Developer Tools (Applications)', 'Graphics & Design (Applications)',\n",
    "            'Productivity (Applications)',\n",
    "            'Books (Applications)', 'Catalogs (Applications)', 'Education (Applications)',\n",
    "            'Reference (Applications)',\n",
    "            'Magazines and Newspapers (Applications)', 'News (Applications)',\n",
    "            'Utilities (Applications)']"
   ]
  },
  {
   "cell_type": "code",
   "execution_count": 60,
   "id": "543737c1",
   "metadata": {},
   "outputs": [],
   "source": [
    "labels_if = ['Total','Apps','Games']\n",
    "parents_if = ['', 'Total', 'Total']\n",
    "values_if = [len(df_if)]"
   ]
  },
  {
   "cell_type": "code",
   "execution_count": 61,
   "id": "d685186b",
   "metadata": {},
   "outputs": [
    {
     "ename": "NameError",
     "evalue": "name 'if_a' is not defined",
     "output_type": "error",
     "traceback": [
      "\u001b[1;31m---------------------------------------------------------------------------\u001b[0m",
      "\u001b[1;31mNameError\u001b[0m                                 Traceback (most recent call last)",
      "\u001b[1;32m<ipython-input-61-37383e0fcbdb>\u001b[0m in \u001b[0;36m<module>\u001b[1;34m\u001b[0m\n\u001b[1;32m----> 1\u001b[1;33m \u001b[0mlabels_if\u001b[0m\u001b[1;33m.\u001b[0m\u001b[0mappend\u001b[0m\u001b[1;33m(\u001b[0m\u001b[0mif_a\u001b[0m\u001b[1;33m,\u001b[0m \u001b[0mif_g\u001b[0m\u001b[1;33m)\u001b[0m\u001b[1;33m\u001b[0m\u001b[0m\n\u001b[0m",
      "\u001b[1;31mNameError\u001b[0m: name 'if_a' is not defined"
     ]
    }
   ],
   "source": [
    "labels_if.append(if_a, if_g)"
   ]
  },
  {
   "cell_type": "code",
   "execution_count": 62,
   "id": "c2551ce7",
   "metadata": {},
   "outputs": [
    {
     "data": {
      "text/plain": [
       "list"
      ]
     },
     "execution_count": 62,
     "metadata": {},
     "output_type": "execute_result"
    }
   ],
   "source": [
    "type(labels_if)"
   ]
  },
  {
   "cell_type": "code",
   "execution_count": 63,
   "id": "adf0e0e6",
   "metadata": {},
   "outputs": [],
   "source": [
    "for key, value in set_group_if.items():\n",
    "    labels_if.append(key)\n",
    "    parents_if.append('Apps')\n",
    "    values_if.append(value)"
   ]
  },
  {
   "cell_type": "code",
   "execution_count": null,
   "id": "39795b79",
   "metadata": {},
   "outputs": [],
   "source": []
  },
  {
   "cell_type": "code",
   "execution_count": 64,
   "id": "7b887358",
   "metadata": {},
   "outputs": [],
   "source": [
    "# for key, value in set_group_if:\n",
    "#     labels_if.append(middle)\n",
    "#     parents.append('Apps')\n",
    "#     values_if.append(value)"
   ]
  },
  {
   "cell_type": "code",
   "execution_count": null,
   "id": "0785eb13",
   "metadata": {},
   "outputs": [],
   "source": []
  },
  {
   "cell_type": "code",
   "execution_count": 65,
   "id": "1d726fc2",
   "metadata": {},
   "outputs": [],
   "source": [
    "# for applications in counts_if:\n",
    "#     for cat in list_apps:\n",
    "#         if cat = applications"
   ]
  },
  {
   "cell_type": "code",
   "execution_count": 66,
   "id": "e09eeba5",
   "metadata": {},
   "outputs": [
    {
     "name": "stdout",
     "output_type": "stream",
     "text": [
      "Life\n",
      "Leisure\n",
      "Work\n",
      "Edu\n"
     ]
    }
   ],
   "source": [
    "for cats in dict:\n",
    "    print(cats)"
   ]
  },
  {
   "cell_type": "code",
   "execution_count": 67,
   "id": "f02cc4ef",
   "metadata": {},
   "outputs": [
    {
     "ename": "SyntaxError",
     "evalue": "unexpected EOF while parsing (<ipython-input-67-b083b5174bba>, line 1)",
     "output_type": "error",
     "traceback": [
      "\u001b[1;36m  File \u001b[1;32m\"<ipython-input-67-b083b5174bba>\"\u001b[1;36m, line \u001b[1;32m1\u001b[0m\n\u001b[1;33m    for key, value in counts_gpp.items():\u001b[0m\n\u001b[1;37m                                         ^\u001b[0m\n\u001b[1;31mSyntaxError\u001b[0m\u001b[1;31m:\u001b[0m unexpected EOF while parsing\n"
     ]
    }
   ],
   "source": [
    "    for key, value in counts_gpp.items():"
   ]
  },
  {
   "cell_type": "code",
   "execution_count": 68,
   "id": "3cbe8127",
   "metadata": {},
   "outputs": [],
   "source": [
    "for cats in dict:\n",
    "    t_cats = cats\n",
    "    for cat in dict[t_cats]:\n",
    "        for key, value in counts_if.items():\n",
    "            if key == cat:\n",
    "                labels_if.append(cat)\n",
    "                parents_if.append(cats)\n",
    "                values_if.append(value)"
   ]
  },
  {
   "cell_type": "code",
   "execution_count": 69,
   "id": "6f9e3875",
   "metadata": {},
   "outputs": [
    {
     "ename": "ValueError",
     "evalue": "too many values to unpack (expected 2)",
     "output_type": "error",
     "traceback": [
      "\u001b[1;31m---------------------------------------------------------------------------\u001b[0m",
      "\u001b[1;31mValueError\u001b[0m                                Traceback (most recent call last)",
      "\u001b[1;32m<ipython-input-69-4a10612f8cd4>\u001b[0m in \u001b[0;36m<module>\u001b[1;34m\u001b[0m\n\u001b[0;32m      1\u001b[0m \u001b[1;32mfor\u001b[0m \u001b[0mcats\u001b[0m \u001b[1;32min\u001b[0m \u001b[0mdict\u001b[0m\u001b[1;33m:\u001b[0m\u001b[1;33m\u001b[0m\u001b[0m\n\u001b[0;32m      2\u001b[0m     \u001b[1;32mfor\u001b[0m \u001b[0mcat\u001b[0m \u001b[1;32min\u001b[0m \u001b[0mcats\u001b[0m\u001b[1;33m:\u001b[0m\u001b[1;33m\u001b[0m\u001b[0m\n\u001b[1;32m----> 3\u001b[1;33m         \u001b[1;32mfor\u001b[0m \u001b[0mkey\u001b[0m\u001b[1;33m,\u001b[0m \u001b[0mvalue\u001b[0m \u001b[1;32min\u001b[0m \u001b[0mcounts_if\u001b[0m\u001b[1;33m:\u001b[0m\u001b[1;33m\u001b[0m\u001b[0m\n\u001b[0m\u001b[0;32m      4\u001b[0m             \u001b[1;32mif\u001b[0m \u001b[0mkey\u001b[0m \u001b[1;33m==\u001b[0m \u001b[0mapplications\u001b[0m\u001b[1;33m:\u001b[0m\u001b[1;33m\u001b[0m\u001b[0m\n\u001b[0;32m      5\u001b[0m                 \u001b[0mlabels_if\u001b[0m\u001b[1;33m.\u001b[0m\u001b[0mappend\u001b[0m\u001b[1;33m(\u001b[0m\u001b[0mcat\u001b[0m\u001b[1;33m)\u001b[0m\u001b[1;33m\u001b[0m\u001b[0m\n",
      "\u001b[1;31mValueError\u001b[0m: too many values to unpack (expected 2)"
     ]
    }
   ],
   "source": [
    "for cats in dict:\n",
    "    for cat in cats:\n",
    "        for key, value in counts_if:\n",
    "            if key == applications:\n",
    "                labels_if.append(cat)\n",
    "                parents_if.appnd(cats)\n",
    "                values_if.append(value)\n"
   ]
  },
  {
   "cell_type": "code",
   "execution_count": 70,
   "id": "555e61d1",
   "metadata": {},
   "outputs": [
    {
     "data": {
      "text/plain": [
       "['Total',\n",
       " 'Apps',\n",
       " 'Games',\n",
       " 'Life',\n",
       " 'Leisure',\n",
       " 'Work',\n",
       " 'Edu',\n",
       " 'Food and Drink (Applications)',\n",
       " 'Lifestyle (Applications)',\n",
       " 'Medical (Applications)',\n",
       " 'Navigation (Applications)',\n",
       " 'Finance (Applications)',\n",
       " 'Entertainment (Applications)',\n",
       " 'Shopping (Applications)',\n",
       " 'Social Networking (Applications)',\n",
       " 'Sports (Applications)',\n",
       " 'Travel (Applications)',\n",
       " 'Music (Applications)',\n",
       " 'Photo and Video (Applications)',\n",
       " 'Business (Applications)',\n",
       " 'Productivity (Applications)',\n",
       " 'News (Applications)',\n",
       " 'Utilities (Applications)']"
      ]
     },
     "execution_count": 70,
     "metadata": {},
     "output_type": "execute_result"
    }
   ],
   "source": [
    "labels_if"
   ]
  },
  {
   "cell_type": "code",
   "execution_count": 71,
   "id": "3e8b1dbb",
   "metadata": {},
   "outputs": [
    {
     "data": {
      "text/plain": [
       "['',\n",
       " 'Total',\n",
       " 'Total',\n",
       " 'Apps',\n",
       " 'Apps',\n",
       " 'Apps',\n",
       " 'Apps',\n",
       " 'Life',\n",
       " 'Life',\n",
       " 'Life',\n",
       " 'Life',\n",
       " 'Life',\n",
       " 'Leisure',\n",
       " 'Leisure',\n",
       " 'Leisure',\n",
       " 'Leisure',\n",
       " 'Leisure',\n",
       " 'Leisure',\n",
       " 'Leisure',\n",
       " 'Work',\n",
       " 'Work',\n",
       " 'Edu',\n",
       " 'Edu']"
      ]
     },
     "execution_count": 71,
     "metadata": {},
     "output_type": "execute_result"
    }
   ],
   "source": [
    "parents_if"
   ]
  },
  {
   "cell_type": "code",
   "execution_count": 72,
   "id": "2b41f551",
   "metadata": {},
   "outputs": [
    {
     "data": {
      "text/plain": [
       "[100, 29, 43, 9, 9, 4, 2, 1, 2, 20, 6, 13, 5, 1, 2, 3, 13, 6, 3, 1, 8]"
      ]
     },
     "execution_count": 72,
     "metadata": {},
     "output_type": "execute_result"
    }
   ],
   "source": [
    "values_if"
   ]
  },
  {
   "cell_type": "code",
   "execution_count": null,
   "id": "8840e6fb",
   "metadata": {},
   "outputs": [],
   "source": [
    "for groupif in fr_group: # group : key = Life\n",
    "    groupif = dict[groupif] # dict['Life']\n",
    "    for category in groupif: # Food and Drink (Applications)\n",
    "        for key, value in counts_if.items():\n",
    "            if key == category:\n",
    "                sum_if_c = value + sum_if_c\n",
    "    count_if_group.append(sum_if_c)\n",
    "    print(sum_if_c)\n",
    "    sum_if_c = 0"
   ]
  }
 ],
 "metadata": {
  "kernelspec": {
   "display_name": "Python 3",
   "language": "python",
   "name": "python3"
  },
  "language_info": {
   "codemirror_mode": {
    "name": "ipython",
    "version": 3
   },
   "file_extension": ".py",
   "mimetype": "text/x-python",
   "name": "python",
   "nbconvert_exporter": "python",
   "pygments_lexer": "ipython3",
   "version": "3.6.4"
  }
 },
 "nbformat": 4,
 "nbformat_minor": 5
}
