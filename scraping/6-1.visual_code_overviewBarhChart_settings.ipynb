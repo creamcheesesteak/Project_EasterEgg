{
 "cells": [
  {
   "cell_type": "code",
   "execution_count": 1,
   "id": "9081e7f0",
   "metadata": {},
   "outputs": [],
   "source": [
    "import sqlite3\n",
    "import pandas as pd\n",
    "import numpy as np\n",
    "import collections\n",
    "import matplotlib.pyplot as plt"
   ]
  },
  {
   "cell_type": "code",
   "execution_count": 2,
   "id": "05867f72",
   "metadata": {},
   "outputs": [],
   "source": [
    "nation = 'Brazil'"
   ]
  },
  {
   "cell_type": "code",
   "execution_count": 3,
   "id": "27d79f05",
   "metadata": {},
   "outputs": [],
   "source": [
    "db_nation = sqlite3.connect('C:/Develops/Project_multi_A3/nation.db')\n",
    "c = db_nation.cursor()\n",
    "# df = pd.read_sql(\"SELECT * FROM i_f_\" + nation + \"\", db_nation, index_col=None)"
   ]
  },
  {
   "cell_type": "code",
   "execution_count": 4,
   "id": "fad01b27",
   "metadata": {},
   "outputs": [],
   "source": [
    "df_if = pd.read_sql(\"SELECT * FROM i_f_\"+ nation +\"\", db_nation, index_col=None)\n",
    "df_ip = pd.read_sql(\"SELECT * FROM i_p_\"+ nation +\"\", db_nation, index_col=None)\n",
    "df_gpf = pd.read_sql(\"SELECT * FROM gp_f_\"+ nation +\"\", db_nation, index_col=None)\n",
    "df_gpp = pd.read_sql(\"SELECT * FROM gp_p_\"+ nation +\"\", db_nation, index_col=None)"
   ]
  },
  {
   "cell_type": "code",
   "execution_count": 5,
   "id": "89fd8f8a",
   "metadata": {},
   "outputs": [
    {
     "data": {
      "text/html": [
       "<div>\n",
       "<style scoped>\n",
       "    .dataframe tbody tr th:only-of-type {\n",
       "        vertical-align: middle;\n",
       "    }\n",
       "\n",
       "    .dataframe tbody tr th {\n",
       "        vertical-align: top;\n",
       "    }\n",
       "\n",
       "    .dataframe thead th {\n",
       "        text-align: right;\n",
       "    }\n",
       "</style>\n",
       "<table border=\"1\" class=\"dataframe\">\n",
       "  <thead>\n",
       "    <tr style=\"text-align: right;\">\n",
       "      <th></th>\n",
       "      <th>id</th>\n",
       "      <th>App</th>\n",
       "      <th>App_c</th>\n",
       "      <th>App_cat</th>\n",
       "    </tr>\n",
       "  </thead>\n",
       "  <tbody>\n",
       "    <tr>\n",
       "      <th>0</th>\n",
       "      <td>1</td>\n",
       "      <td>Instagram</td>\n",
       "      <td>Instagram</td>\n",
       "      <td>Photo and Video (Applications)</td>\n",
       "    </tr>\n",
       "    <tr>\n",
       "      <th>1</th>\n",
       "      <td>2</td>\n",
       "      <td>WhatsApp Messenger</td>\n",
       "      <td>WhatsApp</td>\n",
       "      <td>Social Networking (Applications)</td>\n",
       "    </tr>\n",
       "    <tr>\n",
       "      <th>2</th>\n",
       "      <td>3</td>\n",
       "      <td>YouTube: Watch, Listen, Stream</td>\n",
       "      <td>Google</td>\n",
       "      <td>Photo and Video (Applications)</td>\n",
       "    </tr>\n",
       "    <tr>\n",
       "      <th>3</th>\n",
       "      <td>4</td>\n",
       "      <td>Shopee: Compre de Tudo Online</td>\n",
       "      <td>SHOPEE</td>\n",
       "      <td>Shopping (Applications)</td>\n",
       "    </tr>\n",
       "    <tr>\n",
       "      <th>4</th>\n",
       "      <td>5</td>\n",
       "      <td>TikTok</td>\n",
       "      <td>TikTok Pte Ltd</td>\n",
       "      <td>Entertainment (Applications)</td>\n",
       "    </tr>\n",
       "    <tr>\n",
       "      <th>...</th>\n",
       "      <td>...</td>\n",
       "      <td>...</td>\n",
       "      <td>...</td>\n",
       "      <td>...</td>\n",
       "    </tr>\n",
       "    <tr>\n",
       "      <th>95</th>\n",
       "      <td>96</td>\n",
       "      <td>Casas Bahia: Descontos Online</td>\n",
       "      <td>Cnova Brazil</td>\n",
       "      <td>Shopping (Applications)</td>\n",
       "    </tr>\n",
       "    <tr>\n",
       "      <th>96</th>\n",
       "      <td>97</td>\n",
       "      <td>Uber Eats: Food Delivery</td>\n",
       "      <td>Uber Technologies</td>\n",
       "      <td>Food and Drink (Applications)</td>\n",
       "    </tr>\n",
       "    <tr>\n",
       "      <th>97</th>\n",
       "      <td>98</td>\n",
       "      <td>LinkedIn: Network &amp; Job Finder</td>\n",
       "      <td>Linkedin</td>\n",
       "      <td>Business (Applications)</td>\n",
       "    </tr>\n",
       "    <tr>\n",
       "      <th>98</th>\n",
       "      <td>99</td>\n",
       "      <td>Threads from Instagram</td>\n",
       "      <td>Instagram</td>\n",
       "      <td>Photo and Video (Applications)</td>\n",
       "    </tr>\n",
       "    <tr>\n",
       "      <th>99</th>\n",
       "      <td>100</td>\n",
       "      <td>McDonald's App - Latinoamérica</td>\n",
       "      <td>Arcos Dorados</td>\n",
       "      <td>Food and Drink (Applications)</td>\n",
       "    </tr>\n",
       "  </tbody>\n",
       "</table>\n",
       "<p>100 rows × 4 columns</p>\n",
       "</div>"
      ],
      "text/plain": [
       "     id                             App              App_c  \\\n",
       "0     1                       Instagram          Instagram   \n",
       "1     2              WhatsApp Messenger           WhatsApp   \n",
       "2     3  YouTube: Watch, Listen, Stream             Google   \n",
       "3     4   Shopee: Compre de Tudo Online             SHOPEE   \n",
       "4     5                          TikTok     TikTok Pte Ltd   \n",
       "..  ...                             ...                ...   \n",
       "95   96   Casas Bahia: Descontos Online       Cnova Brazil   \n",
       "96   97        Uber Eats: Food Delivery  Uber Technologies   \n",
       "97   98  LinkedIn: Network & Job Finder           Linkedin   \n",
       "98   99          Threads from Instagram          Instagram   \n",
       "99  100  McDonald's App - Latinoamérica      Arcos Dorados   \n",
       "\n",
       "                             App_cat  \n",
       "0     Photo and Video (Applications)  \n",
       "1   Social Networking (Applications)  \n",
       "2     Photo and Video (Applications)  \n",
       "3            Shopping (Applications)  \n",
       "4       Entertainment (Applications)  \n",
       "..                               ...  \n",
       "95           Shopping (Applications)  \n",
       "96     Food and Drink (Applications)  \n",
       "97           Business (Applications)  \n",
       "98    Photo and Video (Applications)  \n",
       "99     Food and Drink (Applications)  \n",
       "\n",
       "[100 rows x 4 columns]"
      ]
     },
     "execution_count": 5,
     "metadata": {},
     "output_type": "execute_result"
    }
   ],
   "source": [
    "df_if"
   ]
  },
  {
   "cell_type": "code",
   "execution_count": 6,
   "id": "c2de9950",
   "metadata": {},
   "outputs": [
    {
     "data": {
      "text/plain": [
       "Counter({'Photo and Video (Applications)': 13,\n",
       "         'Social Networking (Applications)': 5,\n",
       "         'Shopping (Applications)': 13,\n",
       "         'Entertainment (Applications)': 6,\n",
       "         'Finance (Applications)': 20,\n",
       "         'Productivity (Applications)': 3,\n",
       "         'Food and Drink (Applications)': 4,\n",
       "         'Music (Applications)': 3,\n",
       "         'Navigation (Applications)': 2,\n",
       "         'Travel (Applications)': 2,\n",
       "         'Utilities (Applications)': 8,\n",
       "         'Sports (Applications)': 1,\n",
       "         'Games': 10,\n",
       "         'Lifestyle (Applications)': 2,\n",
       "         'Business (Applications)': 6,\n",
       "         'News (Applications)': 1,\n",
       "         'Medical (Applications)': 1})"
      ]
     },
     "execution_count": 6,
     "metadata": {},
     "output_type": "execute_result"
    }
   ],
   "source": [
    "collections.Counter(df_if['App_cat'])"
   ]
  },
  {
   "cell_type": "code",
   "execution_count": 7,
   "id": "dafa9d2f",
   "metadata": {},
   "outputs": [],
   "source": [
    "counts_if = collections.Counter(df_if['App_cat'])\n",
    "counts_ip = collections.Counter(df_ip['App_cat'])\n",
    "counts_gpf = collections.Counter(df_gpf['App_cat'])\n",
    "counts_gpp = collections.Counter(df_gpp['App_cat'])"
   ]
  },
  {
   "cell_type": "code",
   "execution_count": 8,
   "id": "c979d965",
   "metadata": {},
   "outputs": [
    {
     "data": {
      "text/plain": [
       "Counter({'Casual (Games)': 8,\n",
       "         'Shopping (Applications)': 11,\n",
       "         'Simulation (Games)': 5,\n",
       "         'Video Players & Editors (Applications)': 4,\n",
       "         'Social (Applications)': 6,\n",
       "         'Finance (Applications)': 18,\n",
       "         'Entertainment (Applications)': 9,\n",
       "         'Puzzle (Games)': 5,\n",
       "         'Music & Audio (Applications)': 2,\n",
       "         'Action (Games)': 4,\n",
       "         'Tools (Applications)': 7,\n",
       "         'Communication (Applications)': 3,\n",
       "         'Adventure (Games)': 3,\n",
       "         'Business (Applications)': 2,\n",
       "         'Food & Drink (Applications)': 1,\n",
       "         'Productivity (Applications)': 2,\n",
       "         'Books & Reference (Applications)': 1,\n",
       "         'Arcade (Games)': 1,\n",
       "         'Sports (Games)': 2,\n",
       "         'Lifestyle (Applications)': 1,\n",
       "         'Educational (Games)': 1,\n",
       "         'Medical (Applications)': 1,\n",
       "         'Art & Design (Applications)': 1,\n",
       "         'Music (Games)': 1,\n",
       "         'Maps & Navigation (Applications)': 1})"
      ]
     },
     "execution_count": 8,
     "metadata": {},
     "output_type": "execute_result"
    }
   ],
   "source": [
    "counts_gpf"
   ]
  },
  {
   "cell_type": "code",
   "execution_count": null,
   "id": "785250c3",
   "metadata": {},
   "outputs": [],
   "source": []
  },
  {
   "cell_type": "code",
   "execution_count": 9,
   "id": "d56cab52",
   "metadata": {},
   "outputs": [
    {
     "data": {
      "text/plain": [
       "Counter({'Arcade (Games)': 9,\n",
       "         'Action (Games)': 23,\n",
       "         'Puzzle (Games)': 7,\n",
       "         'Simulation (Games)': 13,\n",
       "         'Communication (Applications)': 3,\n",
       "         'Tools (Applications)': 5,\n",
       "         'Photography (Applications)': 2,\n",
       "         'Role Playing (Games)': 5,\n",
       "         'Adventure (Games)': 5,\n",
       "         'Strategy (Games)': 7,\n",
       "         'Education (Applications)': 6,\n",
       "         'Racing (Games)': 2,\n",
       "         'Personalization (Applications)': 1,\n",
       "         'Health & Fitness (Applications)': 1,\n",
       "         'Sports (Games)': 1,\n",
       "         'Music & Audio (Applications)': 5,\n",
       "         'Video Players & Editors (Applications)': 1,\n",
       "         'Libraries & Demo (Applications)': 1,\n",
       "         'Entertainment (Applications)': 1,\n",
       "         'Educational (Games)': 1,\n",
       "         'Productivity (Applications)': 1})"
      ]
     },
     "execution_count": 9,
     "metadata": {},
     "output_type": "execute_result"
    }
   ],
   "source": [
    "counts_gpp"
   ]
  },
  {
   "cell_type": "code",
   "execution_count": 10,
   "id": "709a9f98",
   "metadata": {},
   "outputs": [],
   "source": [
    "dict_gpf = {'Games_gpf': ['Action (Games)', 'Adventure (Games)', 'Board (Games)', 'Card (Games)', 'Casino (Games)', \n",
    "                       'Casual (Games)', 'Dice (Games)', 'Education (Games)', 'Family (Games)', 'Family (Games)', \n",
    "                       'Kids (Games)', 'Music (Games)', 'Puzzle (Games)', 'Racing (Games)', 'Role (Games)', \n",
    "                       'Playing (Games)', 'Simulation (Games)', 'Sports (Games)', 'Strategy (Games)', 'Trivia (Games)', 'Word (Games)', 'Arcade (Games)', 'Educational (Games)', 'Role Playing (Games)'],\n",
    "         'Application_gpf': ['Food and Drink (Applications)', 'Health and Fitness (Applications)','Lifestyle (Applications)', \n",
    "                             'Weather (Applications)', 'Medical (Applications)', 'Navigation (Applications)',\n",
    "                             'Finance (Applications)', 'Entertainment (Applications)', 'Shopping (Applications)', \n",
    "                             'Social Networking (Applications)', 'Sports (Applications)', 'Travel (Applications)', \n",
    "                             'Music (Applications)', 'Photo and Video (Applications)', 'Business (Applications)', \n",
    "                             'Developer Tools (Applications)', 'Graphics & Design (Applications)', 'Productivity (Applications)', \n",
    "                             'Books (Applications)', 'Catalogs (Applications)', 'Education (Applications)', 'Reference (Applications)', \n",
    "                             'Magazines and Newspapers (Applications)', 'News (Applications)', 'Utilities (Applications)']}\n",
    "\n",
    "dict_gpp = {'Games_gpp': ['Action (Games)', 'Adventure (Games)', 'Board (Games)', 'Card (Games)', 'Casino (Games)', \n",
    "                       'Casual (Games)', 'Dice (Games)', 'Education (Games)', 'Family (Games)', 'Family (Games)', \n",
    "                       'Kids (Games)', 'Music (Games)', 'Puzzle (Games)', 'Racing (Games)', 'Role (Games)', \n",
    "                       'Playing (Games)', 'Simulation (Games)', 'Sports (Games)', 'Strategy (Games)', 'Trivia (Games)', 'Word (Games)', 'Arcade (Games)', 'Educational (Games)', 'Role Playing (Games)'],\n",
    "         'Application_gpp': ['Food and Drink (Applications)', 'Health and Fitness (Applications)','Lifestyle (Applications)', \n",
    "                             'Weather (Applications)', 'Medical (Applications)', 'Navigation (Applications)',\n",
    "                             'Finance (Applications)', 'Entertainment (Applications)', 'Shopping (Applications)', \n",
    "                             'Social Networking (Applications)', 'Sports (Applications)', 'Travel (Applications)', \n",
    "                             'Music (Applications)', 'Photo and Video (Applications)', 'Business (Applications)', \n",
    "                             'Developer Tools (Applications)', 'Graphics & Design (Applications)', 'Productivity (Applications)', \n",
    "                             'Books (Applications)', 'Catalogs (Applications)', 'Education (Applications)', 'Reference (Applications)', \n",
    "                             'Magazines and Newspapers (Applications)', 'News (Applications)', 'Utilities (Applications)']}"
   ]
  },
  {
   "cell_type": "code",
   "execution_count": 11,
   "id": "a62f9fdc",
   "metadata": {},
   "outputs": [
    {
     "name": "stdout",
     "output_type": "stream",
     "text": [
      "30\n",
      "73\n"
     ]
    }
   ],
   "source": [
    "gpf_g = 0\n",
    "gpp_g = 0\n",
    "sum_gpf_b = 0\n",
    "sum_gpp_b = 0\n",
    "\n",
    "for category in dict_gpf['Games_gpf']:\n",
    "    for key, value in counts_gpf.items():\n",
    "        if key == category:\n",
    "            sum_gpf_b = value + sum_gpf_b\n",
    "gpf_g = sum_gpf_b        \n",
    "print(sum_gpf_b)          \n",
    "\n",
    "for category in dict_gpp['Games_gpp']:\n",
    "    for key, value in counts_gpp.items():\n",
    "        if key == category:\n",
    "            sum_gpp_b = value + sum_gpp_b\n",
    "gpp_g = sum_gpp_b        \n",
    "print(sum_gpp_b)          \n",
    "\n",
    "\n"
   ]
  },
  {
   "cell_type": "code",
   "execution_count": 12,
   "id": "aeb7b006",
   "metadata": {},
   "outputs": [
    {
     "data": {
      "text/plain": [
       "10"
      ]
     },
     "execution_count": 12,
     "metadata": {},
     "output_type": "execute_result"
    }
   ],
   "source": [
    "counts_if['Games']"
   ]
  },
  {
   "cell_type": "code",
   "execution_count": 13,
   "id": "9e8d0b45",
   "metadata": {},
   "outputs": [],
   "source": [
    "if_g = counts_if['Games']\n",
    "ip_g = counts_ip['Games']"
   ]
  },
  {
   "cell_type": "code",
   "execution_count": 14,
   "id": "22c027d3",
   "metadata": {},
   "outputs": [
    {
     "data": {
      "text/plain": [
       "0"
      ]
     },
     "execution_count": 14,
     "metadata": {},
     "output_type": "execute_result"
    }
   ],
   "source": [
    "counts_gpf['Games']"
   ]
  },
  {
   "cell_type": "code",
   "execution_count": 15,
   "id": "b53af8af",
   "metadata": {},
   "outputs": [],
   "source": [
    "if_a = 100 - counts_if['Games']\n",
    "ip_a = 100 - counts_ip['Games']\n",
    "gpf_a = 100 - gpf_g\n",
    "gpp_a = 100 - gpp_g"
   ]
  },
  {
   "cell_type": "code",
   "execution_count": null,
   "id": "d82d79ce",
   "metadata": {},
   "outputs": [],
   "source": []
  },
  {
   "cell_type": "code",
   "execution_count": 16,
   "id": "19faa844",
   "metadata": {},
   "outputs": [],
   "source": [
    "cnt_g_list = [gpp_g, gpf_g, ip_g, if_g]"
   ]
  },
  {
   "cell_type": "code",
   "execution_count": 17,
   "id": "5bced071",
   "metadata": {},
   "outputs": [
    {
     "data": {
      "text/plain": [
       "[73, 30, 46, 10]"
      ]
     },
     "execution_count": 17,
     "metadata": {},
     "output_type": "execute_result"
    }
   ],
   "source": [
    "cnt_g_list"
   ]
  },
  {
   "cell_type": "code",
   "execution_count": 18,
   "id": "3293335b",
   "metadata": {},
   "outputs": [],
   "source": [
    "cnt_a_list = [gpp_a, gpf_a, ip_a, if_a]"
   ]
  },
  {
   "cell_type": "code",
   "execution_count": 19,
   "id": "4105dacd",
   "metadata": {},
   "outputs": [
    {
     "data": {
      "text/plain": [
       "[27, 70, 54, 90]"
      ]
     },
     "execution_count": 19,
     "metadata": {},
     "output_type": "execute_result"
    }
   ],
   "source": [
    "cnt_a_list"
   ]
  },
  {
   "cell_type": "code",
   "execution_count": 20,
   "id": "6fe3fa24",
   "metadata": {},
   "outputs": [
    {
     "data": {
      "text/plain": [
       "70"
      ]
     },
     "execution_count": 20,
     "metadata": {},
     "output_type": "execute_result"
    }
   ],
   "source": [
    "gpf_a"
   ]
  },
  {
   "cell_type": "code",
   "execution_count": 21,
   "id": "2b6e68f9",
   "metadata": {},
   "outputs": [],
   "source": [
    "cnt_if = [if_g, if_a]\n",
    "cnt_ip = [ip_g, ip_a]\n",
    "cnt_gpf = [gpf_g, gpf_a]\n",
    "cnt_gpp = [gpp_g, gpp_a]"
   ]
  },
  {
   "cell_type": "code",
   "execution_count": 22,
   "id": "023f2c90",
   "metadata": {},
   "outputs": [
    {
     "data": {
      "text/plain": [
       "[10, 90]"
      ]
     },
     "execution_count": 22,
     "metadata": {},
     "output_type": "execute_result"
    }
   ],
   "source": [
    "cnt_if"
   ]
  },
  {
   "cell_type": "code",
   "execution_count": 23,
   "id": "f661793b",
   "metadata": {},
   "outputs": [
    {
     "data": {
      "text/plain": [
       "int"
      ]
     },
     "execution_count": 23,
     "metadata": {},
     "output_type": "execute_result"
    }
   ],
   "source": [
    "type(cnt_if[0])"
   ]
  },
  {
   "cell_type": "code",
   "execution_count": 24,
   "id": "c9638643",
   "metadata": {},
   "outputs": [],
   "source": [
    "cat_if = ['Games_if', 'Application_if']\n",
    "cat_ip = ['Games_ip', 'Application_ip']\n",
    "cat_gpf = ['Games_gpf', 'Application_gpf']\n",
    "cat_gpp = ['Games_gpp', 'Application_gpp']"
   ]
  },
  {
   "cell_type": "code",
   "execution_count": 25,
   "id": "56b3ef93",
   "metadata": {},
   "outputs": [],
   "source": [
    "set_if = {x1:y1 for x1,y1 in zip(cat_if, cnt_if)}\n",
    "set_ip = {x2:y2 for x2,y2 in zip(cat_ip, cnt_ip)}\n",
    "set_gpf = {x3:y3 for x3,y3 in zip(cat_gpf, cnt_gpf)}\n",
    "set_gpp = {x4:y4 for x4,y4 in zip(cat_gpp, cnt_gpp)}"
   ]
  },
  {
   "cell_type": "code",
   "execution_count": 26,
   "id": "2788c9ee",
   "metadata": {},
   "outputs": [],
   "source": [
    "y_bar = ['Googe Play (paid)', 'Googe Play (free)', 'App Store (paid)','App Store (free)']"
   ]
  },
  {
   "cell_type": "code",
   "execution_count": 27,
   "id": "1f63a382",
   "metadata": {
    "scrolled": true
   },
   "outputs": [
    {
     "data": {
      "image/png": "[encoded data removed]",
      "text/plain": [
       "<Figure size 720x576 with 1 Axes>"
      ]
     },
     "metadata": {
      "needs_background": "light"
     },
     "output_type": "display_data"
    }
   ],
   "source": [
    "data={\n",
    "    'Games':[set_gpp.get('Games_gpp'),set_gpf.get('Games_gpf'),set_ip.get('Games_ip'),set_if.get('Games_if')],\n",
    "    'Application':[set_gpp.get('Application_gpp'),set_gpf.get('Application_gpf'),set_ip.get('Application_ip'),set_if.get('Application_if')],\n",
    "}\n",
    "df=pd.DataFrame(data,index=y_bar)\n",
    "df.plot(kind=\"barh\",stacked=True,figsize=(10,8))\n",
    "plt.legend(loc=\"lower left\",bbox_to_anchor=(0.8,1.0))\n",
    "plt.show()"
   ]
  },
  {
   "cell_type": "code",
   "execution_count": 30,
   "id": "c268e962",
   "metadata": {},
   "outputs": [],
   "source": [
    "labels_if = ['Total', 'Apps', 'Games']\n",
    "parents_if = ['', 'Total', 'Total']\n",
    "values_if = [len(df_if), if_a, if_g]"
   ]
  },
  {
   "cell_type": "code",
   "execution_count": 31,
   "id": "8b699ee1",
   "metadata": {},
   "outputs": [
    {
     "ename": "NameError",
     "evalue": "name 'fr_group' is not defined",
     "output_type": "error",
     "traceback": [
      "\u001b[1;31m---------------------------------------------------------------------------\u001b[0m",
      "\u001b[1;31mNameError\u001b[0m                                 Traceback (most recent call last)",
      "\u001b[1;32m<ipython-input-31-165e444349bc>\u001b[0m in \u001b[0;36m<module>\u001b[1;34m\u001b[0m\n\u001b[1;32m----> 1\u001b[1;33m \u001b[0mset_group_if\u001b[0m \u001b[1;33m=\u001b[0m \u001b[1;33m{\u001b[0m\u001b[0mx\u001b[0m\u001b[1;33m:\u001b[0m \u001b[0my\u001b[0m \u001b[1;32mfor\u001b[0m \u001b[0mx\u001b[0m\u001b[1;33m,\u001b[0m \u001b[0my\u001b[0m \u001b[1;32min\u001b[0m \u001b[0mzip\u001b[0m\u001b[1;33m(\u001b[0m\u001b[0mfr_group\u001b[0m\u001b[1;33m,\u001b[0m \u001b[0mcount_if_group\u001b[0m\u001b[1;33m)\u001b[0m\u001b[1;33m}\u001b[0m\u001b[1;33m\u001b[0m\u001b[0m\n\u001b[0m",
      "\u001b[1;31mNameError\u001b[0m: name 'fr_group' is not defined"
     ]
    }
   ],
   "source": [
    "set_group_if = {x: y for x, y in zip(fr_group, count_if_group)}"
   ]
  },
  {
   "cell_type": "code",
   "execution_count": null,
   "id": "5d499e7a",
   "metadata": {},
   "outputs": [],
   "source": [
    "for key, value in set_group_if.items():\n",
    "    labels_if.append(key)\n",
    "    parents_if.append('Apps')\n",
    "    values_if.append(value)"
   ]
  },
  {
   "cell_type": "code",
   "execution_count": null,
   "id": "325a7bd4",
   "metadata": {},
   "outputs": [],
   "source": [
    "for cats in dict:\n",
    "    t_cats = cats\n",
    "    for cat in dict[t_cats]:\n",
    "        for key, value in counts_if.items():\n",
    "            if key == cat:\n",
    "                labels_if.append(cat)\n",
    "                parents_if.append(cats)\n",
    "                values_if.append(value)"
   ]
  },
  {
   "cell_type": "code",
   "execution_count": null,
   "id": "5c35dff5",
   "metadata": {},
   "outputs": [],
   "source": [
    "labels_if\n",
    "parents_if\n",
    "values_if"
   ]
  }
 ],
 "metadata": {
  "kernelspec": {
   "display_name": "Python 3",
   "language": "python",
   "name": "python3"
  },
  "language_info": {
   "codemirror_mode": {
    "name": "ipython",
    "version": 3
   },
   "file_extension": ".py",
   "mimetype": "text/x-python",
   "name": "python",
   "nbconvert_exporter": "python",
   "pygments_lexer": "ipython3",
   "version": "3.6.4"
  }
 },
 "nbformat": 4,
 "nbformat_minor": 5
}
