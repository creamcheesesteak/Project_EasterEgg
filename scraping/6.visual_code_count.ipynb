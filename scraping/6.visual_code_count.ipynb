{
 "cells": [
  {
   "cell_type": "code",
   "execution_count": 1,
   "id": "143fa8a0",
   "metadata": {},
   "outputs": [],
   "source": [
    "import pandas as pd\n",
    "import numpy as np\n",
    "import collections"
   ]
  },
  {
   "cell_type": "code",
   "execution_count": 2,
   "id": "9eb9371e",
   "metadata": {},
   "outputs": [
    {
     "data": {
      "text/html": [
       "<div>\n",
       "<style scoped>\n",
       "    .dataframe tbody tr th:only-of-type {\n",
       "        vertical-align: middle;\n",
       "    }\n",
       "\n",
       "    .dataframe tbody tr th {\n",
       "        vertical-align: top;\n",
       "    }\n",
       "\n",
       "    .dataframe thead th {\n",
       "        text-align: right;\n",
       "    }\n",
       "</style>\n",
       "<table border=\"1\" class=\"dataframe\">\n",
       "  <thead>\n",
       "    <tr style=\"text-align: right;\">\n",
       "      <th></th>\n",
       "      <th>0</th>\n",
       "      <th>1</th>\n",
       "      <th>2</th>\n",
       "    </tr>\n",
       "  </thead>\n",
       "  <tbody>\n",
       "    <tr>\n",
       "      <th>0</th>\n",
       "      <td>CovidSafeBE</td>\n",
       "      <td>없음</td>\n",
       "      <td>Medical (Applications)</td>\n",
       "    </tr>\n",
       "    <tr>\n",
       "      <th>1</th>\n",
       "      <td>itsme</td>\n",
       "      <td>Belgian Mobile ID</td>\n",
       "      <td>Utilities (Applications)</td>\n",
       "    </tr>\n",
       "    <tr>\n",
       "      <th>2</th>\n",
       "      <td>Run Rich 3D</td>\n",
       "      <td>Voodoo</td>\n",
       "      <td>Games</td>\n",
       "    </tr>\n",
       "    <tr>\n",
       "      <th>3</th>\n",
       "      <td>Olympics</td>\n",
       "      <td>International Olympic Committee</td>\n",
       "      <td>Sports (Applications)</td>\n",
       "    </tr>\n",
       "    <tr>\n",
       "      <th>4</th>\n",
       "      <td>Google Maps</td>\n",
       "      <td>Google</td>\n",
       "      <td>Navigation (Applications)</td>\n",
       "    </tr>\n",
       "    <tr>\n",
       "      <th>...</th>\n",
       "      <td>...</td>\n",
       "      <td>...</td>\n",
       "      <td>...</td>\n",
       "    </tr>\n",
       "    <tr>\n",
       "      <th>94</th>\n",
       "      <td>Discord - Talk, Chat, Hang Out</td>\n",
       "      <td>Discord</td>\n",
       "      <td>Social Networking (Applications)</td>\n",
       "    </tr>\n",
       "    <tr>\n",
       "      <th>95</th>\n",
       "      <td>Makeover Master - Happy Tile</td>\n",
       "      <td>Digital Kingdom</td>\n",
       "      <td>Games</td>\n",
       "    </tr>\n",
       "    <tr>\n",
       "      <th>96</th>\n",
       "      <td>Score! Hero 2</td>\n",
       "      <td>First Touch</td>\n",
       "      <td>Games</td>\n",
       "    </tr>\n",
       "    <tr>\n",
       "      <th>97</th>\n",
       "      <td>Twitch: Live Game Streaming</td>\n",
       "      <td>Twitch Interactive</td>\n",
       "      <td>Photo and Video (Applications)</td>\n",
       "    </tr>\n",
       "    <tr>\n",
       "      <th>98</th>\n",
       "      <td>Tricount - Split group bills</td>\n",
       "      <td>Tricount</td>\n",
       "      <td>Finance (Applications)</td>\n",
       "    </tr>\n",
       "  </tbody>\n",
       "</table>\n",
       "<p>99 rows × 3 columns</p>\n",
       "</div>"
      ],
      "text/plain": [
       "                                 0                                1  \\\n",
       "0                      CovidSafeBE                               없음   \n",
       "1                            itsme                Belgian Mobile ID   \n",
       "2                      Run Rich 3D                           Voodoo   \n",
       "3                         Olympics  International Olympic Committee   \n",
       "4                      Google Maps                           Google   \n",
       "..                             ...                              ...   \n",
       "94  Discord - Talk, Chat, Hang Out                          Discord   \n",
       "95    Makeover Master - Happy Tile                  Digital Kingdom   \n",
       "96                   Score! Hero 2                      First Touch   \n",
       "97     Twitch: Live Game Streaming               Twitch Interactive   \n",
       "98    Tricount - Split group bills                         Tricount   \n",
       "\n",
       "                                   2  \n",
       "0             Medical (Applications)  \n",
       "1           Utilities (Applications)  \n",
       "2                              Games  \n",
       "3              Sports (Applications)  \n",
       "4          Navigation (Applications)  \n",
       "..                               ...  \n",
       "94  Social Networking (Applications)  \n",
       "95                             Games  \n",
       "96                             Games  \n",
       "97    Photo and Video (Applications)  \n",
       "98            Finance (Applications)  \n",
       "\n",
       "[99 rows x 3 columns]"
      ]
     },
     "execution_count": 2,
     "metadata": {},
     "output_type": "execute_result"
    }
   ],
   "source": [
    "pd.read_excel('i_f_Belgium.xls', header=None)"
   ]
  },
  {
   "cell_type": "code",
   "execution_count": 3,
   "id": "69caa155",
   "metadata": {},
   "outputs": [],
   "source": [
    "df = pd.read_excel('i_f_Belgium.xls', header=None)"
   ]
  },
  {
   "cell_type": "code",
   "execution_count": 4,
   "id": "d354a5d5",
   "metadata": {},
   "outputs": [
    {
     "data": {
      "text/plain": [
       "0               Medical (Applications)\n",
       "1             Utilities (Applications)\n",
       "2                                Games\n",
       "3                Sports (Applications)\n",
       "4            Navigation (Applications)\n",
       "                    ...               \n",
       "94    Social Networking (Applications)\n",
       "95                               Games\n",
       "96                               Games\n",
       "97      Photo and Video (Applications)\n",
       "98              Finance (Applications)\n",
       "Name: 2, Length: 99, dtype: object"
      ]
     },
     "execution_count": 4,
     "metadata": {},
     "output_type": "execute_result"
    }
   ],
   "source": [
    "df[2]"
   ]
  },
  {
   "cell_type": "code",
   "execution_count": 5,
   "id": "c1f332b3",
   "metadata": {},
   "outputs": [],
   "source": [
    "counts = collections.Counter(df[2])"
   ]
  },
  {
   "cell_type": "code",
   "execution_count": 6,
   "id": "8568c70d",
   "metadata": {},
   "outputs": [
    {
     "name": "stdout",
     "output_type": "stream",
     "text": [
      "Counter({'Games': 21, 'Utilities (Applications)': 8, 'Travel (Applications)': 8, 'Shopping (Applications)': 8, 'Finance (Applications)': 7, 'Photo and Video (Applications)': 6, 'Social Networking (Applications)': 5, 'Health and Fitness (Applications)': 5, 'Navigation (Applications)': 4, 'Entertainment (Applications)': 4, 'Lifestyle (Applications)': 3, 'Food and Drink (Applications)': 3, 'Medical (Applications)': 2, 'Sports (Applications)': 2, 'Music (Applications)': 2, 'Productivity (Applications)': 2, 'Weather (Applications)': 2, 'News (Applications)': 2, 'Reference (Applications)': 2, 'Business (Applications)': 1, 'Graphics & Design (Applications)': 1, 'Education (Applications)': 1})\n"
     ]
    }
   ],
   "source": [
    "print(counts)"
   ]
  },
  {
   "cell_type": "code",
   "execution_count": 7,
   "id": "fc9e6e77",
   "metadata": {},
   "outputs": [],
   "source": [
    "dict = {'Life':['Food and Drink (Applications)', 'Health and Fitness (Applications)','Lifestyle (Applications)', 'Weather (Applications)', 'Medical (Applications)', 'Navigation (Applications)','Finance (Applications)'],\n",
    "        'Leisure':['Entertainment (Applications)', 'Shopping (Applications)', 'Social Networking (Applications)', 'Sports (Applications)', 'Travel (Applications)', 'Music (Applications)', 'Photo and Video (Applications)'],\n",
    "        'Work':['Business (Applications)', 'Developer Tools (Applications)', 'Graphics & Design (Applications)', 'Productivity (Applications)'],\n",
    "        'Edu':['Books (Applications)', 'Catalogs (Applications)', 'Education (Applications)', 'Reference (Applications)',' Magazines and Newspapers (Applications)', 'News (Applications)', 'Utilities (Applications)']}"
   ]
  },
  {
   "cell_type": "code",
   "execution_count": 8,
   "id": "3916f6db",
   "metadata": {},
   "outputs": [],
   "source": [
    "set_group = ['Life', 'Leisure', 'Work', 'Edu']"
   ]
  },
  {
   "cell_type": "code",
   "execution_count": 9,
   "id": "c2dcaa4a",
   "metadata": {},
   "outputs": [
    {
     "name": "stdout",
     "output_type": "stream",
     "text": [
      "26\n",
      "35\n",
      "4\n",
      "13\n"
     ]
    }
   ],
   "source": [
    "count_group = []\n",
    "group = []\n",
    "sum = 0\n",
    "for group in set_group: # group : key = Life\n",
    "    name = dict[group]\n",
    "    group = dict[group] # dict['Life']\n",
    "    for category in group: # Food and Drink (Applications)\n",
    "        for key, value in counts.items():\n",
    "            if key == category:\n",
    "                sum = value + sum\n",
    "    count_group.append(sum)\n",
    "    print(sum)\n",
    "    sum = 0"
   ]
  },
  {
   "cell_type": "code",
   "execution_count": 10,
   "id": "cdbe13a8",
   "metadata": {},
   "outputs": [
    {
     "data": {
      "text/plain": [
       "[26, 35, 4, 13]"
      ]
     },
     "execution_count": 10,
     "metadata": {},
     "output_type": "execute_result"
    }
   ],
   "source": [
    "count_group"
   ]
  },
  {
   "cell_type": "code",
   "execution_count": 11,
   "id": "345b4ca5",
   "metadata": {},
   "outputs": [],
   "source": [
    "set_group = {x:y for x,y in zip(set_group, count_group)}"
   ]
  },
  {
   "cell_type": "code",
   "execution_count": 12,
   "id": "cca28f5d",
   "metadata": {},
   "outputs": [
    {
     "data": {
      "text/plain": [
       "{'Life': 26, 'Leisure': 35, 'Work': 4, 'Edu': 13}"
      ]
     },
     "execution_count": 12,
     "metadata": {},
     "output_type": "execute_result"
    }
   ],
   "source": [
    "set_group"
   ]
  }
 ],
 "metadata": {
  "kernelspec": {
   "display_name": "Python 3",
   "language": "python",
   "name": "python3"
  },
  "language_info": {
   "codemirror_mode": {
    "name": "ipython",
    "version": 3
   },
   "file_extension": ".py",
   "mimetype": "text/x-python",
   "name": "python",
   "nbconvert_exporter": "python",
   "pygments_lexer": "ipython3",
   "version": "3.6.4"
  }
 },
 "nbformat": 4,
 "nbformat_minor": 5
}
