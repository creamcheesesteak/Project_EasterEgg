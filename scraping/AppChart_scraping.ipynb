{
 "cells": [
  {
   "cell_type": "code",
   "execution_count": 1,
   "id": "d02ccd97",
   "metadata": {},
   "outputs": [],
   "source": [
    "from selenium import webdriver\n",
    "from bs4 import BeautifulSoup\n",
    "browser= webdriver.Chrome('C:\\chromedriver.exe')\n",
    "browser.get('https://www.appannie.com/intelligence/top-apps/store-rank/ios?date=%272021-07-19%27&country_code=KR&device_code=ios-phone&category_id=100000&store_rank_ios_chart_free$previous_range$chart_compare_facets=!(store_product_rank_grossing__aggr)&store-rank.ios.view=free&store_rank.ios.chart_range=7')"
   ]
  },
  {
   "cell_type": "code",
   "execution_count": 2,
   "id": "ad36776e",
   "metadata": {},
   "outputs": [],
   "source": [
    "html= browser.page_source\n",
    "soup= BeautifulSoup(html, 'html.parser')"
   ]
  },
  {
   "cell_type": "code",
   "execution_count": 3,
   "id": "07334792",
   "metadata": {},
   "outputs": [
    {
     "data": {
      "text/plain": [
       "(15, bs4.element.ResultSet)"
      ]
     },
     "execution_count": 3,
     "metadata": {},
     "output_type": "execute_result"
    }
   ],
   "source": [
    "# 차트 하나의 행(1위, 2위,,)\n",
    "tags= soup.select('div[aria-colcount=\"6\"] > div > div > div[aria-rowindex]')\n",
    "len(tags), type(tags)"
   ]
  },
  {
   "cell_type": "code",
   "execution_count": 4,
   "id": "228e5f13",
   "metadata": {},
   "outputs": [
    {
     "data": {
      "text/plain": [
       "bs4.element.Tag"
      ]
     },
     "execution_count": 4,
     "metadata": {},
     "output_type": "execute_result"
    }
   ],
   "source": [
    "tag= tags[0]\n",
    "type(tag)"
   ]
  },
  {
   "cell_type": "code",
   "execution_count": 6,
   "id": "2afc3add",
   "metadata": {},
   "outputs": [
    {
     "data": {
      "text/plain": [
       "(1,\n",
       " bs4.element.ResultSet,\n",
       " <div class=\"flexview__FlexView-sc-15q74yn-0 Medium__NameWrapper-sc-3k5yvt-1 iBMyaF FlexView\"><a class=\"Link__FakeLink-mz1pwu-0 bAvyHR\" href=\"/apps/ios/app/1561923765/details?granularity=daily&amp;country_code=KR&amp;country=KR&amp;date=2021-07-19~2021-07-19\" title=\"질병관리청 COOV(코로나19 전자예방접종증명서)\"><div class=\"Text-wvugs1-0 jsWCXI\">질병관리청 COOV(코로나19 전자예방접종증명서)</div></a><div class=\"flexview__FlexView-sc-15q74yn-0 bZBacm FlexView\"></div></div>)"
      ]
     },
     "execution_count": 6,
     "metadata": {},
     "output_type": "execute_result"
    }
   ],
   "source": [
    "# 앱 이름\n",
    "title= tag.select('div[class=\"flexview__FlexView-sc-15q74yn-0 Medium__NameWrapper-sc-3k5yvt-1 iBMyaF FlexView\"]')\n",
    "len(title), type(title), title[0]"
   ]
  },
  {
   "cell_type": "code",
   "execution_count": 7,
   "id": "3d4d65d9",
   "metadata": {},
   "outputs": [
    {
     "data": {
      "text/plain": [
       "'질병관리청 COOV(코로나19 전자예방접종증명서)'"
      ]
     },
     "execution_count": 7,
     "metadata": {},
     "output_type": "execute_result"
    }
   ],
   "source": [
    "title[0].text.strip()"
   ]
  },
  {
   "cell_type": "code",
   "execution_count": 8,
   "id": "fb68e7d2",
   "metadata": {},
   "outputs": [
    {
     "data": {
      "text/plain": [
       "(1,\n",
       " bs4.element.ResultSet,\n",
       " <div class=\"Text-wvugs1-0 hEWwJX\" data-testid=\"name\" title=\"질병관리본부\">질병관리본부</div>)"
      ]
     },
     "execution_count": 8,
     "metadata": {},
     "output_type": "execute_result"
    }
   ],
   "source": [
    "# 앱 만든 회사 이름\n",
    "name= tag.select('div[data-testid=\"name\"]')\n",
    "len(name), type(name), name[0]"
   ]
  },
  {
   "cell_type": "code",
   "execution_count": 9,
   "id": "537759aa",
   "metadata": {},
   "outputs": [
    {
     "data": {
      "text/plain": [
       "'질병관리본부'"
      ]
     },
     "execution_count": 9,
     "metadata": {},
     "output_type": "execute_result"
    }
   ],
   "source": [
    "name[0].text.strip()"
   ]
  },
  {
   "cell_type": "code",
   "execution_count": 10,
   "id": "96386173",
   "metadata": {},
   "outputs": [
    {
     "data": {
      "text/plain": [
       "(1,\n",
       " bs4.element.ResultSet,\n",
       " <div class=\"Flag__StyledFlag-sc-161hlrc-0 fOybwW flag-icon-kr\" role=\"img\" style=\"width: 16px; height: 11px; background-size: 16px 2772px; background-position: 0px -1320px;\" title=\"South Korea\"></div>)"
      ]
     },
     "execution_count": 10,
     "metadata": {},
     "output_type": "execute_result"
    }
   ],
   "source": [
    "# 앱 만든 회사 국적\n",
    "flag= tag.select('div[class=\"flexview__FlexView-sc-15q74yn-0 hIrrtt FlexView\"] > div[role=\"img\"]')\n",
    "len(flag), type(flag), flag[0]"
   ]
  },
  {
   "cell_type": "code",
   "execution_count": 11,
   "id": "23ca1e8d",
   "metadata": {},
   "outputs": [
    {
     "data": {
      "text/plain": [
       "'South Korea'"
      ]
     },
     "execution_count": 11,
     "metadata": {},
     "output_type": "execute_result"
    }
   ],
   "source": [
    "flag[0]['title']"
   ]
  },
  {
   "cell_type": "code",
   "execution_count": 12,
   "id": "7b5c773f",
   "metadata": {},
   "outputs": [
    {
     "data": {
      "text/plain": [
       "(1,\n",
       " bs4.element.ResultSet,\n",
       " <div class=\"flexview__FlexView-sc-15q74yn-0 PureCell__Cell-sc-1jeh9d2-0 frRTcx PureCell_Cell FlexView\" data-key=\"product_id.category_id\" data-testid=\"table-cell#product_id.category_id\">Medical (Applications)</div>)"
      ]
     },
     "execution_count": 12,
     "metadata": {},
     "output_type": "execute_result"
    }
   ],
   "source": [
    "# 앱 종류\n",
    "sort= tag.select('div[data-key=\"product_id.category_id\"]')\n",
    "len(sort), type(sort), sort[0]"
   ]
  },
  {
   "cell_type": "code",
   "execution_count": 13,
   "id": "8a0250cb",
   "metadata": {},
   "outputs": [
    {
     "data": {
      "text/plain": [
       "'Medical (Applications)'"
      ]
     },
     "execution_count": 13,
     "metadata": {},
     "output_type": "execute_result"
    }
   ],
   "source": [
    "sort[0].text.strip()"
   ]
  },
  {
   "cell_type": "code",
   "execution_count": 17,
   "id": "bbdce584",
   "metadata": {},
   "outputs": [
    {
     "data": {
      "text/plain": [
       "[['질병관리청 COOV(코로나19 전자예방접종증명서)',\n",
       "  '질병관리본부',\n",
       "  'South Korea',\n",
       "  'Medical (Applications)'],\n",
       " ['Time Princess: Dress Up', 'IGG', 'China', 'Games'],\n",
       " ['Karrot - Buy & sell locally',\n",
       "  'Danggeun Market',\n",
       "  'South Korea',\n",
       "  'Social Networking (Applications)'],\n",
       " ['배달의민족', 'Woowa Brothers', 'South Korea', 'Food and Drink (Applications)'],\n",
       " ['Coupang Eats', 'Coupang', 'South Korea', 'Food and Drink (Applications)'],\n",
       " ['TikTok ティックトック',\n",
       "  'TikTok Pte Ltd',\n",
       "  'Singapore',\n",
       "  'Entertainment (Applications)'],\n",
       " ['ZOOM Cloud Meetings',\n",
       "  'Zoom Video Communications',\n",
       "  'United States',\n",
       "  'Business (Applications)'],\n",
       " ['KakaoTalk', 'Kakao', 'South Korea', 'Social Networking (Applications)'],\n",
       " ['Instagram', 'Instagram', 'United States', 'Photo and Video (Applications)'],\n",
       " ['Kakao T', 'Kakao Mobility', 'South Korea', 'Travel (Applications)'],\n",
       " ['네이버 - NAVER', 'NAVER', 'South Korea', 'Reference (Applications)'],\n",
       " ['청약홈', 'Korea Appraisal Board', 'South Korea', 'Finance (Applications)'],\n",
       " ['쿠팡 - Coupang', 'Coupang', 'South Korea', 'Shopping (Applications)'],\n",
       " ['티빙(tving)', 'CJ ENM', 'South Korea', 'Entertainment (Applications)'],\n",
       " ['Judgement Day: Heaven or Hell',\n",
       "  'Matchingham Games',\n",
       "  'United Kingdom',\n",
       "  'Games']]"
      ]
     },
     "execution_count": 17,
     "metadata": {},
     "output_type": "execute_result"
    }
   ],
   "source": [
    "# 전체 순위 데이터 \n",
    "contents= []\n",
    "for tag in tags:\n",
    "    title= tag.select('div[class=\"flexview__FlexView-sc-15q74yn-0 Medium__NameWrapper-sc-3k5yvt-1 iBMyaF FlexView\"]')\n",
    "    name= tag.select('div[data-testid=\"name\"]')\n",
    "    flag= tag.select('div[class=\"flexview__FlexView-sc-15q74yn-0 hIrrtt FlexView\"] > div[role=\"img\"]')\n",
    "    sort= tag.select('div[data-key=\"product_id.category_id\"]')\n",
    "    contents.append([title[0].text.strip(), name[0].text.strip(), flag[0]['title'], sort[0].text.strip()])\n",
    "\n",
    "contents\n"
   ]
  },
  {
   "cell_type": "markdown",
   "id": "1112322a",
   "metadata": {},
   "source": [
    "### 해결사항: 왜  다 안 나올까 -> 강사님이 설명한 selenium 모듈"
   ]
  },
  {
   "cell_type": "code",
   "execution_count": 18,
   "id": "a10ea9de",
   "metadata": {},
   "outputs": [
    {
     "data": {
      "text/html": [
       "<div>\n",
       "<style scoped>\n",
       "    .dataframe tbody tr th:only-of-type {\n",
       "        vertical-align: middle;\n",
       "    }\n",
       "\n",
       "    .dataframe tbody tr th {\n",
       "        vertical-align: top;\n",
       "    }\n",
       "\n",
       "    .dataframe thead th {\n",
       "        text-align: right;\n",
       "    }\n",
       "</style>\n",
       "<table border=\"1\" class=\"dataframe\">\n",
       "  <thead>\n",
       "    <tr style=\"text-align: right;\">\n",
       "      <th></th>\n",
       "      <th>App</th>\n",
       "      <th>Company</th>\n",
       "      <th>Country</th>\n",
       "      <th>Category</th>\n",
       "    </tr>\n",
       "  </thead>\n",
       "  <tbody>\n",
       "    <tr>\n",
       "      <th>0</th>\n",
       "      <td>질병관리청 COOV(코로나19 전자예방접종증명서)</td>\n",
       "      <td>질병관리본부</td>\n",
       "      <td>South Korea</td>\n",
       "      <td>Medical (Applications)</td>\n",
       "    </tr>\n",
       "    <tr>\n",
       "      <th>1</th>\n",
       "      <td>Time Princess: Dress Up</td>\n",
       "      <td>IGG</td>\n",
       "      <td>China</td>\n",
       "      <td>Games</td>\n",
       "    </tr>\n",
       "    <tr>\n",
       "      <th>2</th>\n",
       "      <td>Karrot - Buy &amp; sell locally</td>\n",
       "      <td>Danggeun Market</td>\n",
       "      <td>South Korea</td>\n",
       "      <td>Social Networking (Applications)</td>\n",
       "    </tr>\n",
       "    <tr>\n",
       "      <th>3</th>\n",
       "      <td>배달의민족</td>\n",
       "      <td>Woowa Brothers</td>\n",
       "      <td>South Korea</td>\n",
       "      <td>Food and Drink (Applications)</td>\n",
       "    </tr>\n",
       "    <tr>\n",
       "      <th>4</th>\n",
       "      <td>Coupang Eats</td>\n",
       "      <td>Coupang</td>\n",
       "      <td>South Korea</td>\n",
       "      <td>Food and Drink (Applications)</td>\n",
       "    </tr>\n",
       "    <tr>\n",
       "      <th>5</th>\n",
       "      <td>TikTok ティックトック</td>\n",
       "      <td>TikTok Pte Ltd</td>\n",
       "      <td>Singapore</td>\n",
       "      <td>Entertainment (Applications)</td>\n",
       "    </tr>\n",
       "    <tr>\n",
       "      <th>6</th>\n",
       "      <td>ZOOM Cloud Meetings</td>\n",
       "      <td>Zoom Video Communications</td>\n",
       "      <td>United States</td>\n",
       "      <td>Business (Applications)</td>\n",
       "    </tr>\n",
       "    <tr>\n",
       "      <th>7</th>\n",
       "      <td>KakaoTalk</td>\n",
       "      <td>Kakao</td>\n",
       "      <td>South Korea</td>\n",
       "      <td>Social Networking (Applications)</td>\n",
       "    </tr>\n",
       "    <tr>\n",
       "      <th>8</th>\n",
       "      <td>Instagram</td>\n",
       "      <td>Instagram</td>\n",
       "      <td>United States</td>\n",
       "      <td>Photo and Video (Applications)</td>\n",
       "    </tr>\n",
       "    <tr>\n",
       "      <th>9</th>\n",
       "      <td>Kakao T</td>\n",
       "      <td>Kakao Mobility</td>\n",
       "      <td>South Korea</td>\n",
       "      <td>Travel (Applications)</td>\n",
       "    </tr>\n",
       "    <tr>\n",
       "      <th>10</th>\n",
       "      <td>네이버 - NAVER</td>\n",
       "      <td>NAVER</td>\n",
       "      <td>South Korea</td>\n",
       "      <td>Reference (Applications)</td>\n",
       "    </tr>\n",
       "    <tr>\n",
       "      <th>11</th>\n",
       "      <td>청약홈</td>\n",
       "      <td>Korea Appraisal Board</td>\n",
       "      <td>South Korea</td>\n",
       "      <td>Finance (Applications)</td>\n",
       "    </tr>\n",
       "    <tr>\n",
       "      <th>12</th>\n",
       "      <td>쿠팡 - Coupang</td>\n",
       "      <td>Coupang</td>\n",
       "      <td>South Korea</td>\n",
       "      <td>Shopping (Applications)</td>\n",
       "    </tr>\n",
       "    <tr>\n",
       "      <th>13</th>\n",
       "      <td>티빙(tving)</td>\n",
       "      <td>CJ ENM</td>\n",
       "      <td>South Korea</td>\n",
       "      <td>Entertainment (Applications)</td>\n",
       "    </tr>\n",
       "    <tr>\n",
       "      <th>14</th>\n",
       "      <td>Judgement Day: Heaven or Hell</td>\n",
       "      <td>Matchingham Games</td>\n",
       "      <td>United Kingdom</td>\n",
       "      <td>Games</td>\n",
       "    </tr>\n",
       "  </tbody>\n",
       "</table>\n",
       "</div>"
      ],
      "text/plain": [
       "                              App                    Company         Country  \\\n",
       "0     질병관리청 COOV(코로나19 전자예방접종증명서)                     질병관리본부     South Korea   \n",
       "1         Time Princess: Dress Up                        IGG           China   \n",
       "2     Karrot - Buy & sell locally            Danggeun Market     South Korea   \n",
       "3                           배달의민족             Woowa Brothers     South Korea   \n",
       "4                    Coupang Eats                    Coupang     South Korea   \n",
       "5                  TikTok ティックトック             TikTok Pte Ltd       Singapore   \n",
       "6             ZOOM Cloud Meetings  Zoom Video Communications   United States   \n",
       "7                       KakaoTalk                      Kakao     South Korea   \n",
       "8                       Instagram                  Instagram   United States   \n",
       "9                         Kakao T             Kakao Mobility     South Korea   \n",
       "10                    네이버 - NAVER                      NAVER     South Korea   \n",
       "11                            청약홈      Korea Appraisal Board     South Korea   \n",
       "12                   쿠팡 - Coupang                    Coupang     South Korea   \n",
       "13                      티빙(tving)                     CJ ENM     South Korea   \n",
       "14  Judgement Day: Heaven or Hell          Matchingham Games  United Kingdom   \n",
       "\n",
       "                            Category  \n",
       "0             Medical (Applications)  \n",
       "1                              Games  \n",
       "2   Social Networking (Applications)  \n",
       "3      Food and Drink (Applications)  \n",
       "4      Food and Drink (Applications)  \n",
       "5       Entertainment (Applications)  \n",
       "6            Business (Applications)  \n",
       "7   Social Networking (Applications)  \n",
       "8     Photo and Video (Applications)  \n",
       "9              Travel (Applications)  \n",
       "10          Reference (Applications)  \n",
       "11            Finance (Applications)  \n",
       "12           Shopping (Applications)  \n",
       "13      Entertainment (Applications)  \n",
       "14                             Games  "
      ]
     },
     "execution_count": 18,
     "metadata": {},
     "output_type": "execute_result"
    }
   ],
   "source": [
    "import pandas as pd\n",
    "pd.DataFrame(contents, columns=['App','Company', 'Country', 'Category'])"
   ]
  },
  {
   "cell_type": "code",
   "execution_count": null,
   "id": "631a22cb",
   "metadata": {},
   "outputs": [],
   "source": []
  }
 ],
 "metadata": {
  "kernelspec": {
   "display_name": "Python 3",
   "language": "python",
   "name": "python3"
  },
  "language_info": {
   "codemirror_mode": {
    "name": "ipython",
    "version": 3
   },
   "file_extension": ".py",
   "mimetype": "text/x-python",
   "name": "python",
   "nbconvert_exporter": "python",
   "pygments_lexer": "ipython3",
   "version": "3.6.4"
  }
 },
 "nbformat": 4,
 "nbformat_minor": 5
}
