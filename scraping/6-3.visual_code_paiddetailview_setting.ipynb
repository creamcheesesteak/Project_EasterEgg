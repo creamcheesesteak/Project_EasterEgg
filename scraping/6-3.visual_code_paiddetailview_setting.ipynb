{
 "cells": [
  {
   "cell_type": "code",
   "execution_count": 43,
   "id": "fb169953",
   "metadata": {},
   "outputs": [],
   "source": [
    "import sqlite3\n",
    "import pandas as pd\n",
    "import numpy as np\n",
    "import collections\n",
    "import matplotlib.pyplot as plt"
   ]
  },
  {
   "cell_type": "code",
   "execution_count": 44,
   "id": "d2ba0438",
   "metadata": {},
   "outputs": [],
   "source": [
    "nation = 'Brazil'"
   ]
  },
  {
   "cell_type": "code",
   "execution_count": 45,
   "id": "3b2faedb",
   "metadata": {},
   "outputs": [],
   "source": [
    "db_nation = sqlite3.connect('C:/Develops/Project_multi_A3/nation.db')\n",
    "c = db_nation.cursor()\n",
    "# df = pd.read_sql(\"SELECT * FROM i_f_\" + nation + \"\", db_nation, index_col=None)"
   ]
  },
  {
   "cell_type": "code",
   "execution_count": 46,
   "id": "c98caf11",
   "metadata": {},
   "outputs": [],
   "source": [
    "df_if = pd.read_sql(\"SELECT * FROM i_f_\"+ nation +\"\", db_nation, index_col=None)\n",
    "df_ip = pd.read_sql(\"SELECT * FROM i_p_\"+ nation +\"\", db_nation, index_col=None)\n",
    "df_gpf = pd.read_sql(\"SELECT * FROM gp_f_\"+ nation +\"\", db_nation, index_col=None)\n",
    "df_gpp = pd.read_sql(\"SELECT * FROM gp_p_\"+ nation +\"\", db_nation, index_col=None)"
   ]
  },
  {
   "cell_type": "code",
   "execution_count": 47,
   "id": "7b92642d",
   "metadata": {},
   "outputs": [
    {
     "data": {
      "text/html": [
       "<div>\n",
       "<style scoped>\n",
       "    .dataframe tbody tr th:only-of-type {\n",
       "        vertical-align: middle;\n",
       "    }\n",
       "\n",
       "    .dataframe tbody tr th {\n",
       "        vertical-align: top;\n",
       "    }\n",
       "\n",
       "    .dataframe thead th {\n",
       "        text-align: right;\n",
       "    }\n",
       "</style>\n",
       "<table border=\"1\" class=\"dataframe\">\n",
       "  <thead>\n",
       "    <tr style=\"text-align: right;\">\n",
       "      <th></th>\n",
       "      <th>id</th>\n",
       "      <th>App</th>\n",
       "      <th>App_c</th>\n",
       "      <th>App_cat</th>\n",
       "    </tr>\n",
       "  </thead>\n",
       "  <tbody>\n",
       "    <tr>\n",
       "      <th>0</th>\n",
       "      <td>1</td>\n",
       "      <td>Instagram</td>\n",
       "      <td>Instagram</td>\n",
       "      <td>Photo and Video (Applications)</td>\n",
       "    </tr>\n",
       "    <tr>\n",
       "      <th>1</th>\n",
       "      <td>2</td>\n",
       "      <td>WhatsApp Messenger</td>\n",
       "      <td>WhatsApp</td>\n",
       "      <td>Social Networking (Applications)</td>\n",
       "    </tr>\n",
       "    <tr>\n",
       "      <th>2</th>\n",
       "      <td>3</td>\n",
       "      <td>YouTube: Watch, Listen, Stream</td>\n",
       "      <td>Google</td>\n",
       "      <td>Photo and Video (Applications)</td>\n",
       "    </tr>\n",
       "    <tr>\n",
       "      <th>3</th>\n",
       "      <td>4</td>\n",
       "      <td>Shopee: Compre de Tudo Online</td>\n",
       "      <td>SHOPEE</td>\n",
       "      <td>Shopping (Applications)</td>\n",
       "    </tr>\n",
       "    <tr>\n",
       "      <th>4</th>\n",
       "      <td>5</td>\n",
       "      <td>TikTok</td>\n",
       "      <td>TikTok Pte Ltd</td>\n",
       "      <td>Entertainment (Applications)</td>\n",
       "    </tr>\n",
       "    <tr>\n",
       "      <th>...</th>\n",
       "      <td>...</td>\n",
       "      <td>...</td>\n",
       "      <td>...</td>\n",
       "      <td>...</td>\n",
       "    </tr>\n",
       "    <tr>\n",
       "      <th>95</th>\n",
       "      <td>96</td>\n",
       "      <td>Casas Bahia: Descontos Online</td>\n",
       "      <td>Cnova Brazil</td>\n",
       "      <td>Shopping (Applications)</td>\n",
       "    </tr>\n",
       "    <tr>\n",
       "      <th>96</th>\n",
       "      <td>97</td>\n",
       "      <td>Uber Eats: Food Delivery</td>\n",
       "      <td>Uber Technologies</td>\n",
       "      <td>Food and Drink (Applications)</td>\n",
       "    </tr>\n",
       "    <tr>\n",
       "      <th>97</th>\n",
       "      <td>98</td>\n",
       "      <td>LinkedIn: Network &amp; Job Finder</td>\n",
       "      <td>Linkedin</td>\n",
       "      <td>Business (Applications)</td>\n",
       "    </tr>\n",
       "    <tr>\n",
       "      <th>98</th>\n",
       "      <td>99</td>\n",
       "      <td>Threads from Instagram</td>\n",
       "      <td>Instagram</td>\n",
       "      <td>Photo and Video (Applications)</td>\n",
       "    </tr>\n",
       "    <tr>\n",
       "      <th>99</th>\n",
       "      <td>100</td>\n",
       "      <td>McDonald's App - Latinoamérica</td>\n",
       "      <td>Arcos Dorados</td>\n",
       "      <td>Food and Drink (Applications)</td>\n",
       "    </tr>\n",
       "  </tbody>\n",
       "</table>\n",
       "<p>100 rows × 4 columns</p>\n",
       "</div>"
      ],
      "text/plain": [
       "     id                             App              App_c  \\\n",
       "0     1                       Instagram          Instagram   \n",
       "1     2              WhatsApp Messenger           WhatsApp   \n",
       "2     3  YouTube: Watch, Listen, Stream             Google   \n",
       "3     4   Shopee: Compre de Tudo Online             SHOPEE   \n",
       "4     5                          TikTok     TikTok Pte Ltd   \n",
       "..  ...                             ...                ...   \n",
       "95   96   Casas Bahia: Descontos Online       Cnova Brazil   \n",
       "96   97        Uber Eats: Food Delivery  Uber Technologies   \n",
       "97   98  LinkedIn: Network & Job Finder           Linkedin   \n",
       "98   99          Threads from Instagram          Instagram   \n",
       "99  100  McDonald's App - Latinoamérica      Arcos Dorados   \n",
       "\n",
       "                             App_cat  \n",
       "0     Photo and Video (Applications)  \n",
       "1   Social Networking (Applications)  \n",
       "2     Photo and Video (Applications)  \n",
       "3            Shopping (Applications)  \n",
       "4       Entertainment (Applications)  \n",
       "..                               ...  \n",
       "95           Shopping (Applications)  \n",
       "96     Food and Drink (Applications)  \n",
       "97           Business (Applications)  \n",
       "98    Photo and Video (Applications)  \n",
       "99     Food and Drink (Applications)  \n",
       "\n",
       "[100 rows x 4 columns]"
      ]
     },
     "execution_count": 47,
     "metadata": {},
     "output_type": "execute_result"
    }
   ],
   "source": [
    "df_if"
   ]
  },
  {
   "cell_type": "code",
   "execution_count": 48,
   "id": "937d8c3f",
   "metadata": {},
   "outputs": [
    {
     "data": {
      "text/plain": [
       "100"
      ]
     },
     "execution_count": 48,
     "metadata": {},
     "output_type": "execute_result"
    }
   ],
   "source": [
    "len(df_if)\n"
   ]
  },
  {
   "cell_type": "code",
   "execution_count": 49,
   "id": "1cb9b876",
   "metadata": {},
   "outputs": [],
   "source": [
    "counts_ip = collections.Counter(df_ip['App_cat'])\n",
    "counts_gpp = collections.Counter(df_gpp['App_cat'])"
   ]
  },
  {
   "cell_type": "code",
   "execution_count": 50,
   "id": "8c20ce2c",
   "metadata": {},
   "outputs": [
    {
     "data": {
      "text/plain": [
       "Counter({'Arcade (Games)': 9,\n",
       "         'Action (Games)': 23,\n",
       "         'Puzzle (Games)': 7,\n",
       "         'Simulation (Games)': 13,\n",
       "         'Communication (Applications)': 3,\n",
       "         'Tools (Applications)': 5,\n",
       "         'Photography (Applications)': 2,\n",
       "         'Role Playing (Games)': 5,\n",
       "         'Adventure (Games)': 5,\n",
       "         'Strategy (Games)': 7,\n",
       "         'Education (Applications)': 6,\n",
       "         'Racing (Games)': 2,\n",
       "         'Personalization (Applications)': 1,\n",
       "         'Health & Fitness (Applications)': 1,\n",
       "         'Sports (Games)': 1,\n",
       "         'Music & Audio (Applications)': 5,\n",
       "         'Video Players & Editors (Applications)': 1,\n",
       "         'Libraries & Demo (Applications)': 1,\n",
       "         'Entertainment (Applications)': 1,\n",
       "         'Educational (Games)': 1,\n",
       "         'Productivity (Applications)': 1})"
      ]
     },
     "execution_count": 50,
     "metadata": {},
     "output_type": "execute_result"
    }
   ],
   "source": [
    "counts_gpp"
   ]
  },
  {
   "cell_type": "code",
   "execution_count": 51,
   "id": "2dc31574",
   "metadata": {},
   "outputs": [],
   "source": [
    "dict_gpp = {'Games_gpp': ['Action (Games)', 'Adventure (Games)', 'Board (Games)', 'Card (Games)', 'Casino (Games)', \n",
    "                       'Casual (Games)', 'Dice (Games)', 'Education (Games)', 'Family (Games)', 'Family (Games)', \n",
    "                       'Kids (Games)', 'Music (Games)', 'Puzzle (Games)', 'Racing (Games)', 'Role (Games)', \n",
    "                       'Playing (Games)', 'Simulation (Games)', 'Sports (Games)', 'Strategy (Games)', 'Trivia (Games)', 'Word (Games)', 'Arcade (Games)', 'Educational (Games)', 'Role Playing (Games)'],\n",
    "         'Application_gpp': ['Food and Drink (Applications)', 'Health and Fitness (Applications)','Lifestyle (Applications)', \n",
    "                             'Weather (Applications)', 'Medical (Applications)', 'Navigation (Applications)',\n",
    "                             'Finance (Applications)', 'Entertainment (Applications)', 'Shopping (Applications)', \n",
    "                             'Social Networking (Applications)', 'Sports (Applications)', 'Travel (Applications)', \n",
    "                             'Music (Applications)', 'Photo and Video (Applications)', 'Business (Applications)', \n",
    "                             'Developer Tools (Applications)', 'Graphics & Design (Applications)', 'Productivity (Applications)', \n",
    "                             'Books (Applications)', 'Catalogs (Applications)', 'Education (Applications)', 'Reference (Applications)', \n",
    "                             'Magazines and Newspapers (Applications)', 'News (Applications)', 'Utilities (Applications)']}"
   ]
  },
  {
   "cell_type": "code",
   "execution_count": 52,
   "id": "c1d2be80",
   "metadata": {},
   "outputs": [
    {
     "name": "stdout",
     "output_type": "stream",
     "text": [
      "73\n"
     ]
    }
   ],
   "source": [
    "gpp_g = 0\n",
    "sum_gpp_b = 0\n",
    "\n",
    "for category in dict_gpp['Games_gpp']:\n",
    "    for key, value in counts_gpp.items():\n",
    "        if key == category:\n",
    "            sum_gpp_b = value + sum_gpp_b\n",
    "gpp_g = sum_gpp_b        \n",
    "print(sum_gpp_b)   "
   ]
  },
  {
   "cell_type": "code",
   "execution_count": 53,
   "id": "5f8040ab",
   "metadata": {},
   "outputs": [
    {
     "data": {
      "text/plain": [
       "73"
      ]
     },
     "execution_count": 53,
     "metadata": {},
     "output_type": "execute_result"
    }
   ],
   "source": [
    "gpp_g"
   ]
  },
  {
   "cell_type": "code",
   "execution_count": 54,
   "id": "7ee6238e",
   "metadata": {},
   "outputs": [],
   "source": [
    "gpp_a = 100 - gpp_g"
   ]
  },
  {
   "cell_type": "code",
   "execution_count": 55,
   "id": "88081e9e",
   "metadata": {},
   "outputs": [
    {
     "data": {
      "text/plain": [
       "27"
      ]
     },
     "execution_count": 55,
     "metadata": {},
     "output_type": "execute_result"
    }
   ],
   "source": [
    "gpp_a"
   ]
  },
  {
   "cell_type": "code",
   "execution_count": 56,
   "id": "20c425e9",
   "metadata": {},
   "outputs": [],
   "source": [
    "labels = ['Total', 'Apps', 'Games']"
   ]
  },
  {
   "cell_type": "code",
   "execution_count": 57,
   "id": "eba1d451",
   "metadata": {},
   "outputs": [],
   "source": [
    "parents = ['', 'Total', 'Total']"
   ]
  },
  {
   "cell_type": "code",
   "execution_count": 58,
   "id": "f36b802f",
   "metadata": {},
   "outputs": [],
   "source": [
    "values = [len(df_gpp), gpp_a, gpp_g, ]"
   ]
  },
  {
   "cell_type": "code",
   "execution_count": 59,
   "id": "329e60b2",
   "metadata": {},
   "outputs": [],
   "source": [
    "for category in dict_gpp['Games_gpp']:\n",
    "    for key, value in counts_gpp.items():\n",
    "        if key == category:\n",
    "            labels.append(key)\n",
    "            parents.append('Games')\n",
    "            values.append(value)"
   ]
  },
  {
   "cell_type": "code",
   "execution_count": 60,
   "id": "506a52c8",
   "metadata": {},
   "outputs": [],
   "source": [
    "# for category in dict_gpp['Games_gpp']:\n",
    "#     for key, value in counts_gpp.items():\n",
    "#         labels.append(key)\n",
    "#         parents.append('Games')\n",
    "#         values.append(value)"
   ]
  },
  {
   "cell_type": "code",
   "execution_count": 61,
   "id": "1c5e20f5",
   "metadata": {},
   "outputs": [
    {
     "data": {
      "text/plain": [
       "['Total',\n",
       " 'Apps',\n",
       " 'Games',\n",
       " 'Action (Games)',\n",
       " 'Adventure (Games)',\n",
       " 'Puzzle (Games)',\n",
       " 'Racing (Games)',\n",
       " 'Simulation (Games)',\n",
       " 'Sports (Games)',\n",
       " 'Strategy (Games)',\n",
       " 'Arcade (Games)',\n",
       " 'Educational (Games)',\n",
       " 'Role Playing (Games)']"
      ]
     },
     "execution_count": 61,
     "metadata": {},
     "output_type": "execute_result"
    }
   ],
   "source": [
    "labels"
   ]
  },
  {
   "cell_type": "code",
   "execution_count": 62,
   "id": "da95e261",
   "metadata": {},
   "outputs": [
    {
     "data": {
      "text/plain": [
       "['',\n",
       " 'Total',\n",
       " 'Total',\n",
       " 'Games',\n",
       " 'Games',\n",
       " 'Games',\n",
       " 'Games',\n",
       " 'Games',\n",
       " 'Games',\n",
       " 'Games',\n",
       " 'Games',\n",
       " 'Games',\n",
       " 'Games']"
      ]
     },
     "execution_count": 62,
     "metadata": {},
     "output_type": "execute_result"
    }
   ],
   "source": [
    "parents"
   ]
  },
  {
   "cell_type": "code",
   "execution_count": 63,
   "id": "4b7f240b",
   "metadata": {},
   "outputs": [
    {
     "data": {
      "text/plain": [
       "[100, 27, 73, 23, 5, 7, 2, 13, 1, 7, 9, 1, 5]"
      ]
     },
     "execution_count": 63,
     "metadata": {},
     "output_type": "execute_result"
    }
   ],
   "source": [
    "values"
   ]
  }
 ],
 "metadata": {
  "kernelspec": {
   "display_name": "Python 3",
   "language": "python",
   "name": "python3"
  },
  "language_info": {
   "codemirror_mode": {
    "name": "ipython",
    "version": 3
   },
   "file_extension": ".py",
   "mimetype": "text/x-python",
   "name": "python",
   "nbconvert_exporter": "python",
   "pygments_lexer": "ipython3",
   "version": "3.6.4"
  }
 },
 "nbformat": 4,
 "nbformat_minor": 5
}
